{
 "cells": [
  {
   "cell_type": "markdown",
   "id": "9f4c88df",
   "metadata": {},
   "source": [
    "# **ADM Homework 2 - Group#23**"
   ]
  },
  {
   "cell_type": "raw",
   "id": "fb97f865",
   "metadata": {},
   "source": [
    "Di Nino Leonardo      1919479             dinino.1919479@studenti.uniroma1.it\n",
    "Di Tullio Cristiana   1803880             ditullio.1803880@studenti.uniroma1.it\n",
    "Frezza Gianluca       1909722             frezza.1909722@studenti.uniroma1.it"
   ]
  },
  {
   "cell_type": "markdown",
   "id": "061c902c",
   "metadata": {},
   "source": [
    "#### *Some useful command lines to get the datasets and do basic manipulations*"
   ]
  },
  {
   "cell_type": "code",
   "execution_count": null,
   "id": "16f30c59",
   "metadata": {},
   "outputs": [],
   "source": [
    "!wget 'https://adm2022.s3.amazonaws.com/instagram_posts.zip'\n",
    "\n",
    "!wget 'https://adm2022.s3.amazonaws.com/instagram_locations.zip'\n",
    "\n",
    "!wget 'https://adm2022.s3.amazonaws.com/instagram_profiles.zip'\n",
    "\n",
    "!unzip 'instagram_posts.zip'\n",
    "!del 'https://adm2022.s3.amazonaws.com/instagram_posts.zip'\n",
    "\n",
    "\n",
    "!cut -f 3,7 'instagram_posts.csv' > 'posts_type.csv'\n",
    "!cut -f 3,6 'instagram_posts.csv' > 'posts_dates.csv' \n",
    "\n",
    "!cut -f 1,2,3,4,5,6,7,9,10 'instagram_posts.csv' > 'posts.csv'   #CUTTING 'DESCRIBE' COLUMN"
   ]
  },
  {
   "cell_type": "markdown",
   "id": "bf97e6de",
   "metadata": {},
   "source": [
    "#### *Import libraries*"
   ]
  },
  {
   "cell_type": "code",
   "execution_count": 2,
   "id": "51f86fff",
   "metadata": {},
   "outputs": [],
   "source": [
    "import numpy as np\n",
    "import pandas as pd\n",
    "import matplotlib.pyplot as plt\n",
    "import math\n",
    "import seaborn as sbo\n",
    "\n",
    "from tqdm import tqdm\n",
    "from datetime import time"
   ]
  },
  {
   "cell_type": "markdown",
   "id": "ae30dc2c",
   "metadata": {},
   "source": [
    "# **Research Question 1 - Exploratory Data Analysis (EDA)**"
   ]
  },
  {
   "cell_type": "markdown",
   "id": "e1d0e295",
   "metadata": {},
   "source": [
    "We committed resources on exploratory data analysis about *profiles* and *locations* datasets. Our analysis consisted of opening the datasets, cleaning the data understanding the various types of information involved, and providing all statistical summaries about every involved parameter. We completed our EDA with some charts, that give an instant glimpse of what we are dealing with. "
   ]
  },
  {
   "cell_type": "code",
   "execution_count": 69,
   "id": "7ced39a1",
   "metadata": {},
   "outputs": [],
   "source": [
    "profiles = pd.read_csv('~/instagram_profiles.zip', delimiter='\\t')"
   ]
  },
  {
   "cell_type": "code",
   "execution_count": 4,
   "id": "94caa0c7",
   "metadata": {},
   "outputs": [
    {
     "data": {
      "text/html": [
       "<div>\n",
       "<style scoped>\n",
       "    .dataframe tbody tr th:only-of-type {\n",
       "        vertical-align: middle;\n",
       "    }\n",
       "\n",
       "    .dataframe tbody tr th {\n",
       "        vertical-align: top;\n",
       "    }\n",
       "\n",
       "    .dataframe thead th {\n",
       "        text-align: right;\n",
       "    }\n",
       "</style>\n",
       "<table border=\"1\" class=\"dataframe\">\n",
       "  <thead>\n",
       "    <tr style=\"text-align: right;\">\n",
       "      <th></th>\n",
       "      <th>sid</th>\n",
       "      <th>profile_id</th>\n",
       "      <th>profile_name</th>\n",
       "      <th>firstname_lastname</th>\n",
       "      <th>description</th>\n",
       "      <th>following</th>\n",
       "      <th>followers</th>\n",
       "      <th>n_posts</th>\n",
       "      <th>url</th>\n",
       "      <th>cts</th>\n",
       "      <th>is_business_account</th>\n",
       "    </tr>\n",
       "  </thead>\n",
       "  <tbody>\n",
       "    <tr>\n",
       "      <th>0</th>\n",
       "      <td>4184446</td>\n",
       "      <td>4.721050e+09</td>\n",
       "      <td>jphillip033</td>\n",
       "      <td>John Pierce</td>\n",
       "      <td>\"Document Everything Always\"</td>\n",
       "      <td>250.0</td>\n",
       "      <td>146.0</td>\n",
       "      <td>170.0</td>\n",
       "      <td>NaN</td>\n",
       "      <td>2019-08-01 14:38:55.394 -0400</td>\n",
       "      <td>False</td>\n",
       "    </tr>\n",
       "    <tr>\n",
       "      <th>1</th>\n",
       "      <td>4184457</td>\n",
       "      <td>5.905830e+08</td>\n",
       "      <td>mama_haas</td>\n",
       "      <td>Deanna</td>\n",
       "      <td>Trying to enjoy the simple things in life. Kni...</td>\n",
       "      <td>534.0</td>\n",
       "      <td>1145.0</td>\n",
       "      <td>2878.0</td>\n",
       "      <td>www.etsy.com/shop/MamaHaas69</td>\n",
       "      <td>2019-08-01 14:39:36.526 -0400</td>\n",
       "      <td>False</td>\n",
       "    </tr>\n",
       "    <tr>\n",
       "      <th>2</th>\n",
       "      <td>4184460</td>\n",
       "      <td>1.074147e+09</td>\n",
       "      <td>yellowlightbreen</td>\n",
       "      <td>Eliza Gray</td>\n",
       "      <td>Maine is for Lovers</td>\n",
       "      <td>469.0</td>\n",
       "      <td>324.0</td>\n",
       "      <td>431.0</td>\n",
       "      <td>elizajanegray.com</td>\n",
       "      <td>2019-08-01 14:39:54.407 -0400</td>\n",
       "      <td>False</td>\n",
       "    </tr>\n",
       "    <tr>\n",
       "      <th>3</th>\n",
       "      <td>4184461</td>\n",
       "      <td>1.472039e+09</td>\n",
       "      <td>tec1025</td>\n",
       "      <td>Thomas Clark</td>\n",
       "      <td>NaN</td>\n",
       "      <td>NaN</td>\n",
       "      <td>NaN</td>\n",
       "      <td>NaN</td>\n",
       "      <td>NaN</td>\n",
       "      <td>2019-08-01 14:40:06.472 -0400</td>\n",
       "      <td>NaN</td>\n",
       "    </tr>\n",
       "    <tr>\n",
       "      <th>4</th>\n",
       "      <td>4184462</td>\n",
       "      <td>3.531421e+09</td>\n",
       "      <td>luckyfluff</td>\n",
       "      <td>NaN</td>\n",
       "      <td>NaN</td>\n",
       "      <td>NaN</td>\n",
       "      <td>NaN</td>\n",
       "      <td>NaN</td>\n",
       "      <td>NaN</td>\n",
       "      <td>2019-08-01 14:40:07.806 -0400</td>\n",
       "      <td>NaN</td>\n",
       "    </tr>\n",
       "  </tbody>\n",
       "</table>\n",
       "</div>"
      ],
      "text/plain": [
       "       sid    profile_id      profile_name firstname_lastname  \\\n",
       "0  4184446  4.721050e+09       jphillip033        John Pierce   \n",
       "1  4184457  5.905830e+08         mama_haas             Deanna   \n",
       "2  4184460  1.074147e+09  yellowlightbreen         Eliza Gray   \n",
       "3  4184461  1.472039e+09           tec1025       Thomas Clark   \n",
       "4  4184462  3.531421e+09        luckyfluff                NaN   \n",
       "\n",
       "                                         description  following  followers  \\\n",
       "0                       \"Document Everything Always\"      250.0      146.0   \n",
       "1  Trying to enjoy the simple things in life. Kni...      534.0     1145.0   \n",
       "2                                Maine is for Lovers      469.0      324.0   \n",
       "3                                                NaN        NaN        NaN   \n",
       "4                                                NaN        NaN        NaN   \n",
       "\n",
       "   n_posts                           url                            cts  \\\n",
       "0    170.0                           NaN  2019-08-01 14:38:55.394 -0400   \n",
       "1   2878.0  www.etsy.com/shop/MamaHaas69  2019-08-01 14:39:36.526 -0400   \n",
       "2    431.0             elizajanegray.com  2019-08-01 14:39:54.407 -0400   \n",
       "3      NaN                           NaN  2019-08-01 14:40:06.472 -0400   \n",
       "4      NaN                           NaN  2019-08-01 14:40:07.806 -0400   \n",
       "\n",
       "  is_business_account  \n",
       "0               False  \n",
       "1               False  \n",
       "2               False  \n",
       "3                 NaN  \n",
       "4                 NaN  "
      ]
     },
     "execution_count": 4,
     "metadata": {},
     "output_type": "execute_result"
    }
   ],
   "source": [
    "profiles.head()"
   ]
  },
  {
   "cell_type": "code",
   "execution_count": 5,
   "id": "e305c022",
   "metadata": {},
   "outputs": [
    {
     "data": {
      "text/html": [
       "<div>\n",
       "<style scoped>\n",
       "    .dataframe tbody tr th:only-of-type {\n",
       "        vertical-align: middle;\n",
       "    }\n",
       "\n",
       "    .dataframe tbody tr th {\n",
       "        vertical-align: top;\n",
       "    }\n",
       "\n",
       "    .dataframe thead th {\n",
       "        text-align: right;\n",
       "    }\n",
       "</style>\n",
       "<table border=\"1\" class=\"dataframe\">\n",
       "  <thead>\n",
       "    <tr style=\"text-align: right;\">\n",
       "      <th></th>\n",
       "      <th>sid</th>\n",
       "      <th>profile_id</th>\n",
       "      <th>following</th>\n",
       "      <th>followers</th>\n",
       "      <th>n_posts</th>\n",
       "    </tr>\n",
       "  </thead>\n",
       "  <tbody>\n",
       "    <tr>\n",
       "      <th>count</th>\n",
       "      <td>4.509586e+06</td>\n",
       "      <td>4.477139e+06</td>\n",
       "      <td>3.452771e+06</td>\n",
       "      <td>3.452771e+06</td>\n",
       "      <td>3.452771e+06</td>\n",
       "    </tr>\n",
       "    <tr>\n",
       "      <th>mean</th>\n",
       "      <td>2.255992e+06</td>\n",
       "      <td>3.083302e+09</td>\n",
       "      <td>1.405641e+03</td>\n",
       "      <td>4.739899e+03</td>\n",
       "      <td>4.095414e+02</td>\n",
       "    </tr>\n",
       "    <tr>\n",
       "      <th>std</th>\n",
       "      <td>1.301807e+06</td>\n",
       "      <td>4.266575e+10</td>\n",
       "      <td>8.113473e+03</td>\n",
       "      <td>1.939087e+05</td>\n",
       "      <td>1.041940e+03</td>\n",
       "    </tr>\n",
       "    <tr>\n",
       "      <th>min</th>\n",
       "      <td>1.186000e+03</td>\n",
       "      <td>4.000000e+00</td>\n",
       "      <td>0.000000e+00</td>\n",
       "      <td>0.000000e+00</td>\n",
       "      <td>0.000000e+00</td>\n",
       "    </tr>\n",
       "    <tr>\n",
       "      <th>25%</th>\n",
       "      <td>1.128596e+06</td>\n",
       "      <td>2.735177e+08</td>\n",
       "      <td>3.560000e+02</td>\n",
       "      <td>1.590000e+02</td>\n",
       "      <td>2.200000e+01</td>\n",
       "    </tr>\n",
       "    <tr>\n",
       "      <th>50%</th>\n",
       "      <td>2.255992e+06</td>\n",
       "      <td>1.649248e+09</td>\n",
       "      <td>7.540000e+02</td>\n",
       "      <td>4.060000e+02</td>\n",
       "      <td>1.200000e+02</td>\n",
       "    </tr>\n",
       "    <tr>\n",
       "      <th>75%</th>\n",
       "      <td>3.383389e+06</td>\n",
       "      <td>5.514691e+09</td>\n",
       "      <td>1.573000e+03</td>\n",
       "      <td>9.740000e+02</td>\n",
       "      <td>4.200000e+02</td>\n",
       "    </tr>\n",
       "    <tr>\n",
       "      <th>max</th>\n",
       "      <td>4.510785e+06</td>\n",
       "      <td>9.001013e+13</td>\n",
       "      <td>4.191080e+06</td>\n",
       "      <td>2.854576e+08</td>\n",
       "      <td>1.837300e+05</td>\n",
       "    </tr>\n",
       "  </tbody>\n",
       "</table>\n",
       "</div>"
      ],
      "text/plain": [
       "                sid    profile_id     following     followers       n_posts\n",
       "count  4.509586e+06  4.477139e+06  3.452771e+06  3.452771e+06  3.452771e+06\n",
       "mean   2.255992e+06  3.083302e+09  1.405641e+03  4.739899e+03  4.095414e+02\n",
       "std    1.301807e+06  4.266575e+10  8.113473e+03  1.939087e+05  1.041940e+03\n",
       "min    1.186000e+03  4.000000e+00  0.000000e+00  0.000000e+00  0.000000e+00\n",
       "25%    1.128596e+06  2.735177e+08  3.560000e+02  1.590000e+02  2.200000e+01\n",
       "50%    2.255992e+06  1.649248e+09  7.540000e+02  4.060000e+02  1.200000e+02\n",
       "75%    3.383389e+06  5.514691e+09  1.573000e+03  9.740000e+02  4.200000e+02\n",
       "max    4.510785e+06  9.001013e+13  4.191080e+06  2.854576e+08  1.837300e+05"
      ]
     },
     "execution_count": 5,
     "metadata": {},
     "output_type": "execute_result"
    }
   ],
   "source": [
    "profiles.describe()"
   ]
  },
  {
   "cell_type": "code",
   "execution_count": 6,
   "id": "0080a49c",
   "metadata": {},
   "outputs": [
    {
     "name": "stdout",
     "output_type": "stream",
     "text": [
      "<class 'pandas.core.frame.DataFrame'>\n",
      "RangeIndex: 4509586 entries, 0 to 4509585\n",
      "Data columns (total 11 columns):\n",
      " #   Column               Dtype  \n",
      "---  ------               -----  \n",
      " 0   sid                  int64  \n",
      " 1   profile_id           float64\n",
      " 2   profile_name         object \n",
      " 3   firstname_lastname   object \n",
      " 4   description          object \n",
      " 5   following            float64\n",
      " 6   followers            float64\n",
      " 7   n_posts              float64\n",
      " 8   url                  object \n",
      " 9   cts                  object \n",
      " 10  is_business_account  object \n",
      "dtypes: float64(4), int64(1), object(6)\n",
      "memory usage: 378.5+ MB\n"
     ]
    }
   ],
   "source": [
    "profiles.info()\n",
    "#This view is crucial to set a proper data cleaning process"
   ]
  },
  {
   "cell_type": "markdown",
   "id": "c3a2a194",
   "metadata": {},
   "source": [
    "Up to this point, we can make the following remarks about **instagram_profiles**:\n",
    "- The original data is separed by '**\\t**' delimiter;\n",
    "- The dataset consists of 4509586 observations and 11 characteristics;\n",
    "- The dataset contains some NA values;\n",
    "- The dataset comprises heterogeneous data types, from basic numerical ones to complex objects."
   ]
  },
  {
   "cell_type": "markdown",
   "id": "1a03ea91",
   "metadata": {},
   "source": [
    "Every observation is described by 11 attributes, that more specifically are:\n",
    "  1. ***sid***: sequence ID of the profile (int represented with 64 bits);\n",
    "  2. ***profile_id***: Instagram ID of the profile (int represented with 64 bits);\n",
    "  3. ***profile_name***: name of the profile (object);\n",
    "  4. ***firstname_lastname***: first and last name of the profile's owner (object);\n",
    "  5. ***description***: profile description (object);\n",
    "  6. ***following***: number of following profiles (float represented with 64 bits);\n",
    "  7. ***followers***: number of followers profile (float represented with 64 bits);\n",
    "  8. ***n_posts***: number of posts associated to the profile (float represented with 64 bits);\n",
    "  9. ***url***: url of the profile (object);\n",
    "  10. ***cts***: timestamp when the profile was visited (object);\n",
    "  11. ***is_business_account***: boolean flag that indicates whether that profile was marked as business account or not (object)."
   ]
  },
  {
   "cell_type": "markdown",
   "id": "55c98ac0",
   "metadata": {},
   "source": [
    "We want to deepen our analysis with an overview of the dataset comporition and a check of integrity before doing data cleaning. We will consider **instagram_profiles** as a one example for all. As a first step, we get a glimpse of how many Non Available (NA) data our dataframe contains. The following commands used in pipeline allows us to count the number of NAs per column:"
   ]
  },
  {
   "cell_type": "code",
   "execution_count": 74,
   "id": "030305a5",
   "metadata": {},
   "outputs": [
    {
     "data": {
      "text/plain": [
       "sid                          0\n",
       "profile_id               32447\n",
       "profile_name                 0\n",
       "firstname_lastname      288465\n",
       "description            2055996\n",
       "following              1056815\n",
       "followers              1056815\n",
       "n_posts                1056815\n",
       "url                    3639312\n",
       "cts                     438488\n",
       "is_business_account    1064263\n",
       "dtype: int64"
      ]
     },
     "execution_count": 74,
     "metadata": {},
     "output_type": "execute_result"
    }
   ],
   "source": [
    "profiles.isna().sum()"
   ]
  },
  {
   "cell_type": "markdown",
   "id": "3973aeb7",
   "metadata": {},
   "source": [
    "Our dataset contains quite a lot of missing data, except for the attributes ***sid*** and ***profile_name***. What we want to do to better visualize these numbers is plotting them on a simple chart. So we run the following script to extracting NA values per attribute and the corresponding percentage:"
   ]
  },
  {
   "cell_type": "code",
   "execution_count": 76,
   "id": "9f4dd48f",
   "metadata": {},
   "outputs": [],
   "source": [
    "tot_entries = profiles.shape[0]\n",
    "\n",
    "na_values = []                                       #list of na_values per attribute\n",
    "for c in profiles.columns:\n",
    "    na_values.append(profiles[c].isna().sum())\n",
    "\n",
    "na_percent = []                                      #list of percentages of na_values per attribute\n",
    "for elem in na_values:\n",
    "    na_percent.append(round((elem * 100 / tot_entries), 2))"
   ]
  },
  {
   "cell_type": "markdown",
   "id": "d634c5eb",
   "metadata": {},
   "source": [
    "Now we plot the NA values of data_profiles, distributed on the belonging column:"
   ]
  },
  {
   "cell_type": "code",
   "execution_count": 77,
   "id": "d147810a",
   "metadata": {},
   "outputs": [
    {
     "data": {
      "image/png": "[encoded data removed]",
      "text/plain": [
       "<Figure size 1080x360 with 1 Axes>"
      ]
     },
     "metadata": {
      "needs_background": "light"
     },
     "output_type": "display_data"
    }
   ],
   "source": [
    "fig = plt.figure(figsize = (15, 5))\n",
    "fig.suptitle('NA values per attribute', fontsize = 20)\n",
    "\n",
    "x = list(profiles.columns.values)\n",
    "plt.plot(x, na_values, color = 'red')\n",
    "plt.xticks(rotation = 45)\n",
    "\n",
    "plt.show()"
   ]
  },
  {
   "cell_type": "markdown",
   "id": "8a03b25c",
   "metadata": {},
   "source": [
    "And we plot the NA percentages for completeness' sake:"
   ]
  },
  {
   "cell_type": "code",
   "execution_count": 78,
   "id": "31e9c03d",
   "metadata": {},
   "outputs": [
    {
     "data": {
      "image/png": "[encoded data removed]",
      "text/plain": [
       "<Figure size 1080x360 with 1 Axes>"
      ]
     },
     "metadata": {
      "needs_background": "light"
     },
     "output_type": "display_data"
    }
   ],
   "source": [
    "fig = plt.figure(figsize = (15, 5))\n",
    "fig.suptitle('NA percentages per attribute', fontsize = 20)\n",
    "\n",
    "x = list(profiles.columns.values)\n",
    "plt.bar(x, na_percent, color = 'red')\n",
    "plt.xticks(rotation = 45)\n",
    "\n",
    "plt.show()"
   ]
  },
  {
   "cell_type": "markdown",
   "id": "91446fee",
   "metadata": {},
   "source": [
    "So we see that, of all the dataset columns, ***url*** is the one with the highest number of missing values up to even 80%. It is followed by ***description*** with about 45% of NA values, and ***following***, ***followers*** and ***n_posts*** that all stand at the same level around 25%. As it's unlikely that three random columns on such a big dataset share the *exact* number of NA values, we could suppose that maybe those information are somehow extracted or processed together.\n",
    "\n",
    "\n",
    "Then we proceed with data cleaning."
   ]
  },
  {
   "cell_type": "code",
   "execution_count": 7,
   "id": "99d1fc62",
   "metadata": {},
   "outputs": [],
   "source": [
    "profiles.sid.fillna(0, inplace=True)\n",
    "profiles.profile_id.fillna(0, inplace=True)\n",
    "profiles.profile_name.fillna('', inplace=True)\n",
    "profiles.firstname_lastname.fillna('', inplace=True)\n",
    "profiles.description.fillna('', inplace=True)\n",
    "profiles.following.fillna(0, inplace=True)\n",
    "profiles.followers.fillna(0, inplace=True)\n",
    "profiles.n_posts.fillna(0, inplace=True)\n",
    "profiles.url.fillna('', inplace=True)\n",
    "profiles.cts.fillna('', inplace=True)\n",
    "profiles.is_business_account.fillna(False, inplace=True)"
   ]
  },
  {
   "cell_type": "code",
   "execution_count": 70,
   "id": "a4db8f42",
   "metadata": {},
   "outputs": [
    {
     "data": {
      "image/png": "[encoded data removed]",
      "text/plain": [
       "<Figure size 864x504 with 2 Axes>"
      ]
     },
     "metadata": {
      "needs_background": "light"
     },
     "output_type": "display_data"
    }
   ],
   "source": [
    "plt.figure(figsize = (12,7))\n",
    "plt.title(\"Correlation among following, followers and number of posts\", fontsize = 20)\n",
    "\n",
    "corr_matrix1 = profiles[profiles.columns[5:8]].corr()\n",
    "\n",
    "sbo.heatmap(corr_matrix1, annot=True, cmap=\"flare\")\n",
    "\n",
    "plt.show()"
   ]
  },
  {
   "cell_type": "markdown",
   "id": "ad43cff9",
   "metadata": {},
   "source": [
    "As we can see from the heatmap above, there's no significant correlation among the number of following profiles, follower profiles and posts. <br>\n",
    "Now, to have a more complete insight of these characteristics' distribution, we plot the box chart for each of them:"
   ]
  },
  {
   "cell_type": "code",
   "execution_count": 72,
   "id": "7a1e610c",
   "metadata": {},
   "outputs": [
    {
     "data": {
      "image/png": "[encoded data removed]",
      "text/plain": [
       "<Figure size 1152x504 with 3 Axes>"
      ]
     },
     "metadata": {
      "needs_background": "light"
     },
     "output_type": "display_data"
    }
   ],
   "source": [
    "fig = plt.figure(figsize = (16, 7))\n",
    "fig.suptitle('Box plots for following, followers and number of posts', fontsize = 20)\n",
    "\n",
    "plt.subplot(1, 3, 1)\n",
    "sbo.boxplot(y=profiles['following'])\n",
    "\n",
    "plt.subplot(1, 3, 2)\n",
    "sbo.boxplot(y=profiles['followers'])\n",
    "\n",
    "plt.subplot(1, 3, 3)\n",
    "sbo.boxplot(y=profiles['n_posts'])\n",
    "\n",
    "plt.tight_layout()\n",
    "plt.show()"
   ]
  },
  {
   "cell_type": "markdown",
   "id": "8914984d",
   "metadata": {},
   "source": [
    "As we can see, all the distributions are quite unbalanced with heavy tails full of outliers. In other words there are many observations whose data values are far from the center of the sample and that represent anomalies in the distribution."
   ]
  },
  {
   "cell_type": "code",
   "execution_count": null,
   "id": "6222dcff",
   "metadata": {},
   "outputs": [],
   "source": [
    "profiles.to_csv('cleaned_profile.csv')"
   ]
  },
  {
   "cell_type": "code",
   "execution_count": null,
   "id": "22748232",
   "metadata": {},
   "outputs": [],
   "source": [
    "del profiles"
   ]
  },
  {
   "cell_type": "markdown",
   "id": "4d4f4d7f",
   "metadata": {},
   "source": [
    "Now we are going to have a quick glimpse at some summaries of locations dataset."
   ]
  },
  {
   "cell_type": "code",
   "execution_count": 8,
   "id": "d643ea86",
   "metadata": {},
   "outputs": [],
   "source": [
    "locations = pd.read_csv('~/instagram_locations.zip', delimiter='\\t')"
   ]
  },
  {
   "cell_type": "code",
   "execution_count": 9,
   "id": "a347ff1d",
   "metadata": {},
   "outputs": [
    {
     "data": {
      "text/html": [
       "<div>\n",
       "<style scoped>\n",
       "    .dataframe tbody tr th:only-of-type {\n",
       "        vertical-align: middle;\n",
       "    }\n",
       "\n",
       "    .dataframe tbody tr th {\n",
       "        vertical-align: top;\n",
       "    }\n",
       "\n",
       "    .dataframe thead th {\n",
       "        text-align: right;\n",
       "    }\n",
       "</style>\n",
       "<table border=\"1\" class=\"dataframe\">\n",
       "  <thead>\n",
       "    <tr style=\"text-align: right;\">\n",
       "      <th></th>\n",
       "      <th>sid</th>\n",
       "      <th>id</th>\n",
       "      <th>name</th>\n",
       "      <th>street</th>\n",
       "      <th>zip</th>\n",
       "      <th>city</th>\n",
       "      <th>region</th>\n",
       "      <th>cd</th>\n",
       "      <th>phone</th>\n",
       "      <th>aj_exact_city_match</th>\n",
       "      <th>...</th>\n",
       "      <th>dir_city_name</th>\n",
       "      <th>dir_city_slug</th>\n",
       "      <th>dir_country_id</th>\n",
       "      <th>dir_country_name</th>\n",
       "      <th>lat</th>\n",
       "      <th>lng</th>\n",
       "      <th>primary_alias_on_fb</th>\n",
       "      <th>slug</th>\n",
       "      <th>website</th>\n",
       "      <th>cts</th>\n",
       "    </tr>\n",
       "  </thead>\n",
       "  <tbody>\n",
       "    <tr>\n",
       "      <th>0</th>\n",
       "      <td>719981</td>\n",
       "      <td>110296492939207</td>\n",
       "      <td>Playa de Daimuz - Valencia, España</td>\n",
       "      <td>NaN</td>\n",
       "      <td>NaN</td>\n",
       "      <td>NaN</td>\n",
       "      <td>NaN</td>\n",
       "      <td>NaN</td>\n",
       "      <td>NaN</td>\n",
       "      <td>False</td>\n",
       "      <td>...</td>\n",
       "      <td>NaN</td>\n",
       "      <td>NaN</td>\n",
       "      <td>NaN</td>\n",
       "      <td>NaN</td>\n",
       "      <td>-0.139475</td>\n",
       "      <td>38.974391</td>\n",
       "      <td>daimuzplaya</td>\n",
       "      <td>playa-de-daimuz-valencia-espana</td>\n",
       "      <td>https://es.wikipedia.org/wiki/Daimuz</td>\n",
       "      <td>2019-05-29 01:21:29.987</td>\n",
       "    </tr>\n",
       "    <tr>\n",
       "      <th>1</th>\n",
       "      <td>719983</td>\n",
       "      <td>274391278</td>\n",
       "      <td>Nová Vieska</td>\n",
       "      <td>NaN</td>\n",
       "      <td>NaN</td>\n",
       "      <td>Nová Vieska</td>\n",
       "      <td>NaN</td>\n",
       "      <td>SK</td>\n",
       "      <td>NaN</td>\n",
       "      <td>True</td>\n",
       "      <td>...</td>\n",
       "      <td>Kis-Újfalu</td>\n",
       "      <td>kis-ujfalu</td>\n",
       "      <td>SK</td>\n",
       "      <td>Slovakia</td>\n",
       "      <td>18.466667</td>\n",
       "      <td>47.866667</td>\n",
       "      <td>NaN</td>\n",
       "      <td>nova-vieska</td>\n",
       "      <td>NaN</td>\n",
       "      <td>2019-05-29 01:21:38.037</td>\n",
       "    </tr>\n",
       "    <tr>\n",
       "      <th>2</th>\n",
       "      <td>719985</td>\n",
       "      <td>148885595789195</td>\n",
       "      <td>Everest Today</td>\n",
       "      <td>Himalayas</td>\n",
       "      <td>+977</td>\n",
       "      <td>Kathmandu, Nepal</td>\n",
       "      <td>NaN</td>\n",
       "      <td>NP</td>\n",
       "      <td>NaN</td>\n",
       "      <td>False</td>\n",
       "      <td>...</td>\n",
       "      <td>Pasupati</td>\n",
       "      <td>pasupati</td>\n",
       "      <td>NP</td>\n",
       "      <td>Nepal</td>\n",
       "      <td>85.330150</td>\n",
       "      <td>27.701960</td>\n",
       "      <td>EverestToday</td>\n",
       "      <td>everest-today</td>\n",
       "      <td>NaN</td>\n",
       "      <td>2019-05-29 01:21:46.295</td>\n",
       "    </tr>\n",
       "    <tr>\n",
       "      <th>3</th>\n",
       "      <td>719987</td>\n",
       "      <td>263258277</td>\n",
       "      <td>BULAC - Bibliothèque universitaire des langues...</td>\n",
       "      <td>65, rue des Grands-Moulins</td>\n",
       "      <td>75013</td>\n",
       "      <td>Paris, France</td>\n",
       "      <td>NaN</td>\n",
       "      <td>FR</td>\n",
       "      <td>01 81 69 18 00</td>\n",
       "      <td>False</td>\n",
       "      <td>...</td>\n",
       "      <td>13ème Arrondissement Paris</td>\n",
       "      <td>13eme-arrondissement-paris</td>\n",
       "      <td>FR</td>\n",
       "      <td>France</td>\n",
       "      <td>2.375995</td>\n",
       "      <td>48.827240</td>\n",
       "      <td>BULAC.Paris</td>\n",
       "      <td>bulac-bibliotheque-universitaire-des-langues-e...</td>\n",
       "      <td>www.bulac.fr</td>\n",
       "      <td>2019-05-29 01:21:54.355</td>\n",
       "    </tr>\n",
       "    <tr>\n",
       "      <th>4</th>\n",
       "      <td>326443</td>\n",
       "      <td>406147529857708</td>\n",
       "      <td>ABC Cable Networks Group</td>\n",
       "      <td>3800 W Alameda Ave</td>\n",
       "      <td>91505</td>\n",
       "      <td>Burbank, California</td>\n",
       "      <td>NaN</td>\n",
       "      <td>US</td>\n",
       "      <td>(818) 569-7500</td>\n",
       "      <td>False</td>\n",
       "      <td>...</td>\n",
       "      <td>NaN</td>\n",
       "      <td>NaN</td>\n",
       "      <td>NaN</td>\n",
       "      <td>NaN</td>\n",
       "      <td>-118.341864</td>\n",
       "      <td>34.153265</td>\n",
       "      <td>NaN</td>\n",
       "      <td>abc-cable-networks-group</td>\n",
       "      <td>NaN</td>\n",
       "      <td>2019-04-02 15:22:55.703</td>\n",
       "    </tr>\n",
       "  </tbody>\n",
       "</table>\n",
       "<p>5 rows × 23 columns</p>\n",
       "</div>"
      ],
      "text/plain": [
       "      sid               id                                               name  \\\n",
       "0  719981  110296492939207                 Playa de Daimuz - Valencia, España   \n",
       "1  719983        274391278                                        Nová Vieska   \n",
       "2  719985  148885595789195                                      Everest Today   \n",
       "3  719987        263258277  BULAC - Bibliothèque universitaire des langues...   \n",
       "4  326443  406147529857708                           ABC Cable Networks Group   \n",
       "\n",
       "                       street    zip                 city region   cd  \\\n",
       "0                         NaN    NaN                  NaN    NaN  NaN   \n",
       "1                         NaN    NaN          Nová Vieska    NaN   SK   \n",
       "2                   Himalayas   +977     Kathmandu, Nepal    NaN   NP   \n",
       "3  65, rue des Grands-Moulins  75013        Paris, France    NaN   FR   \n",
       "4          3800 W Alameda Ave  91505  Burbank, California    NaN   US   \n",
       "\n",
       "            phone aj_exact_city_match  ...               dir_city_name  \\\n",
       "0             NaN               False  ...                         NaN   \n",
       "1             NaN                True  ...                  Kis-Újfalu   \n",
       "2             NaN               False  ...                    Pasupati   \n",
       "3  01 81 69 18 00               False  ...  13ème Arrondissement Paris   \n",
       "4  (818) 569-7500               False  ...                         NaN   \n",
       "\n",
       "                dir_city_slug dir_country_id dir_country_name         lat  \\\n",
       "0                         NaN            NaN              NaN   -0.139475   \n",
       "1                  kis-ujfalu             SK         Slovakia   18.466667   \n",
       "2                    pasupati             NP            Nepal   85.330150   \n",
       "3  13eme-arrondissement-paris             FR           France    2.375995   \n",
       "4                         NaN            NaN              NaN -118.341864   \n",
       "\n",
       "         lng primary_alias_on_fb  \\\n",
       "0  38.974391         daimuzplaya   \n",
       "1  47.866667                 NaN   \n",
       "2  27.701960        EverestToday   \n",
       "3  48.827240         BULAC.Paris   \n",
       "4  34.153265                 NaN   \n",
       "\n",
       "                                                slug  \\\n",
       "0                    playa-de-daimuz-valencia-espana   \n",
       "1                                        nova-vieska   \n",
       "2                                      everest-today   \n",
       "3  bulac-bibliotheque-universitaire-des-langues-e...   \n",
       "4                           abc-cable-networks-group   \n",
       "\n",
       "                                website                      cts  \n",
       "0  https://es.wikipedia.org/wiki/Daimuz  2019-05-29 01:21:29.987  \n",
       "1                                   NaN  2019-05-29 01:21:38.037  \n",
       "2                                   NaN  2019-05-29 01:21:46.295  \n",
       "3                          www.bulac.fr  2019-05-29 01:21:54.355  \n",
       "4                                   NaN  2019-04-02 15:22:55.703  \n",
       "\n",
       "[5 rows x 23 columns]"
      ]
     },
     "execution_count": 9,
     "metadata": {},
     "output_type": "execute_result"
    }
   ],
   "source": [
    "locations.head()"
   ]
  },
  {
   "cell_type": "code",
   "execution_count": 10,
   "id": "2260b4fa",
   "metadata": {},
   "outputs": [
    {
     "data": {
      "text/html": [
       "<div>\n",
       "<style scoped>\n",
       "    .dataframe tbody tr th:only-of-type {\n",
       "        vertical-align: middle;\n",
       "    }\n",
       "\n",
       "    .dataframe tbody tr th {\n",
       "        vertical-align: top;\n",
       "    }\n",
       "\n",
       "    .dataframe thead th {\n",
       "        text-align: right;\n",
       "    }\n",
       "</style>\n",
       "<table border=\"1\" class=\"dataframe\">\n",
       "  <thead>\n",
       "    <tr style=\"text-align: right;\">\n",
       "      <th></th>\n",
       "      <th>sid</th>\n",
       "      <th>id</th>\n",
       "      <th>lat</th>\n",
       "      <th>lng</th>\n",
       "    </tr>\n",
       "  </thead>\n",
       "  <tbody>\n",
       "    <tr>\n",
       "      <th>count</th>\n",
       "      <td>1.022658e+06</td>\n",
       "      <td>1.022658e+06</td>\n",
       "      <td>1.016495e+06</td>\n",
       "      <td>1.016495e+06</td>\n",
       "    </tr>\n",
       "    <tr>\n",
       "      <th>mean</th>\n",
       "      <td>5.274856e+05</td>\n",
       "      <td>3.152851e+14</td>\n",
       "      <td>-1.529215e+01</td>\n",
       "      <td>3.421718e+01</td>\n",
       "    </tr>\n",
       "    <tr>\n",
       "      <th>std</th>\n",
       "      <td>2.994567e+05</td>\n",
       "      <td>5.795031e+14</td>\n",
       "      <td>7.615085e+01</td>\n",
       "      <td>2.201081e+01</td>\n",
       "    </tr>\n",
       "    <tr>\n",
       "      <th>min</th>\n",
       "      <td>1.000000e+00</td>\n",
       "      <td>7.000000e+00</td>\n",
       "      <td>-1.799830e+02</td>\n",
       "      <td>-9.000000e+01</td>\n",
       "    </tr>\n",
       "    <tr>\n",
       "      <th>25%</th>\n",
       "      <td>2.688392e+05</td>\n",
       "      <td>2.522377e+08</td>\n",
       "      <td>-8.015575e+01</td>\n",
       "      <td>2.997555e+01</td>\n",
       "    </tr>\n",
       "    <tr>\n",
       "      <th>50%</th>\n",
       "      <td>5.300405e+05</td>\n",
       "      <td>8.573350e+08</td>\n",
       "      <td>-2.450000e+00</td>\n",
       "      <td>4.067820e+01</td>\n",
       "    </tr>\n",
       "    <tr>\n",
       "      <th>75%</th>\n",
       "      <td>7.866598e+05</td>\n",
       "      <td>3.304662e+14</td>\n",
       "      <td>3.071740e+01</td>\n",
       "      <td>4.884722e+01</td>\n",
       "    </tr>\n",
       "    <tr>\n",
       "      <th>max</th>\n",
       "      <td>1.043657e+06</td>\n",
       "      <td>2.402148e+16</td>\n",
       "      <td>1.799941e+02</td>\n",
       "      <td>8.999870e+01</td>\n",
       "    </tr>\n",
       "  </tbody>\n",
       "</table>\n",
       "</div>"
      ],
      "text/plain": [
       "                sid            id           lat           lng\n",
       "count  1.022658e+06  1.022658e+06  1.016495e+06  1.016495e+06\n",
       "mean   5.274856e+05  3.152851e+14 -1.529215e+01  3.421718e+01\n",
       "std    2.994567e+05  5.795031e+14  7.615085e+01  2.201081e+01\n",
       "min    1.000000e+00  7.000000e+00 -1.799830e+02 -9.000000e+01\n",
       "25%    2.688392e+05  2.522377e+08 -8.015575e+01  2.997555e+01\n",
       "50%    5.300405e+05  8.573350e+08 -2.450000e+00  4.067820e+01\n",
       "75%    7.866598e+05  3.304662e+14  3.071740e+01  4.884722e+01\n",
       "max    1.043657e+06  2.402148e+16  1.799941e+02  8.999870e+01"
      ]
     },
     "execution_count": 10,
     "metadata": {},
     "output_type": "execute_result"
    }
   ],
   "source": [
    "locations.describe()"
   ]
  },
  {
   "cell_type": "code",
   "execution_count": 11,
   "id": "1163c17f",
   "metadata": {},
   "outputs": [
    {
     "name": "stdout",
     "output_type": "stream",
     "text": [
      "<class 'pandas.core.frame.DataFrame'>\n",
      "RangeIndex: 1022658 entries, 0 to 1022657\n",
      "Data columns (total 23 columns):\n",
      " #   Column                  Non-Null Count    Dtype  \n",
      "---  ------                  --------------    -----  \n",
      " 0   sid                     1022658 non-null  int64  \n",
      " 1   id                      1022658 non-null  int64  \n",
      " 2   name                    1022658 non-null  object \n",
      " 3   street                  715704 non-null   object \n",
      " 4   zip                     715579 non-null   object \n",
      " 5   city                    937166 non-null   object \n",
      " 6   region                  1760 non-null     object \n",
      " 7   cd                      939010 non-null   object \n",
      " 8   phone                   601688 non-null   object \n",
      " 9   aj_exact_city_match     1000510 non-null  object \n",
      " 10  aj_exact_country_match  1000510 non-null  object \n",
      " 11  blurb                   406705 non-null   object \n",
      " 12  dir_city_id             495698 non-null   object \n",
      " 13  dir_city_name           495698 non-null   object \n",
      " 14  dir_city_slug           495221 non-null   object \n",
      " 15  dir_country_id          495628 non-null   object \n",
      " 16  dir_country_name        495698 non-null   object \n",
      " 17  lat                     1016495 non-null  float64\n",
      " 18  lng                     1016495 non-null  float64\n",
      " 19  primary_alias_on_fb     425531 non-null   object \n",
      " 20  slug                    941668 non-null   object \n",
      " 21  website                 623262 non-null   object \n",
      " 22  cts                     1022658 non-null  object \n",
      "dtypes: float64(2), int64(2), object(19)\n",
      "memory usage: 179.5+ MB\n"
     ]
    }
   ],
   "source": [
    "locations.info()"
   ]
  },
  {
   "cell_type": "markdown",
   "id": "374f37ed",
   "metadata": {},
   "source": [
    "Conversely, the dataset **instagram_locations** consists of 1022658 observations and 23 characteristics. The detailed attributes are:\n",
    "  1. ***sid***: sequence ID of the location (int represented with 64 bits);\n",
    "  2. ***id***: Instagrams ID that can be used on a website url (int represented with 64 bits);\n",
    "  3. ***name***: location name (object);\n",
    "  4. ***street***: street address of the location (object);\n",
    "  5. ***zip***: zip code of the location (object);\n",
    "  6. ***city***: city name of the location (object);\n",
    "  7. ***region***: region name of the location (object);\n",
    "  8. ***cd***: code code for the country in which the location is (object);\n",
    "  9. ***phone***: location phone in format as on the Instragram (object);\n",
    "  10. ***aj_exact_city_match***: Instagram's internal key for cities (object);\n",
    "  11. ***aj_exact_country_match***: Instagram's internal key for countries (object);\n",
    "  12. ***blurb***: description of the place (object);\n",
    "  13. ***dir_city_id***: Instagram's internal City ID (object);\n",
    "  14. ***dir_city_name***: name of the city in which the location is placed (object);\n",
    "  15. ***dir_city_slug***: tag of the city in which the location is placed (object);\n",
    "  16. ***dir_country_id***: Instagram's internal Country ID (object);\n",
    "  17. ***dir_country_name***: name of the country in which the location is placed (object);\n",
    "  18. ***lat***: location latitude (float represented with 64 bits);\n",
    "  19. ***lng***: location longitude (float represented with 64 bits);\n",
    "  20. ***primary_alias_on_fb***: boolean flag (object);\n",
    "  21. ***slug***: (object);\n",
    "  22. ***website***: URL to the location web site, may contain more then 1 URL (object);\n",
    "  23. ***cts***: timestamp when the location was visited (object)."
   ]
  },
  {
   "cell_type": "code",
   "execution_count": 12,
   "id": "6923799a",
   "metadata": {},
   "outputs": [],
   "source": [
    "locations.sid.fillna(0, inplace=True)\n",
    "locations.id.fillna(0, inplace=True)\n",
    "locations.name.fillna('', inplace=True)\n",
    "locations.street.fillna('', inplace=True)\n",
    "locations.zip.fillna('', inplace=True)\n",
    "locations.city.fillna('', inplace=True)\n",
    "locations.region.fillna('', inplace=True)\n",
    "locations.cd.fillna('', inplace=True)\n",
    "locations.phone.fillna('', inplace=True)\n",
    "locations.aj_exact_city_match.fillna(False, inplace=True)\n",
    "locations.aj_exact_country_match.fillna(False, inplace=True)\n",
    "locations.blurb.fillna('', inplace=True)\n",
    "locations.dir_city_id.fillna('', inplace=True)\n",
    "locations.dir_city_name.fillna('', inplace=True)\n",
    "locations.dir_city_slug.fillna('', inplace=True)\n",
    "locations.dir_country_id.fillna('', inplace=True)\n",
    "locations.dir_country_name.fillna('', inplace=True)\n",
    "locations.lat.fillna(0, inplace=True)\n",
    "locations.lng.fillna(0, inplace=True)\n",
    "locations.primary_alias_on_fb.fillna('', inplace=True)\n",
    "locations.slug.fillna('', inplace=True)\n",
    "locations.website.fillna('', inplace=True)\n",
    "locations.cts.fillna('', inplace=True)"
   ]
  },
  {
   "cell_type": "code",
   "execution_count": null,
   "id": "07498349",
   "metadata": {},
   "outputs": [],
   "source": [
    "locations.to_csv('cleaned_locations.csv')"
   ]
  },
  {
   "cell_type": "code",
   "execution_count": null,
   "id": "f9d6185e",
   "metadata": {},
   "outputs": [],
   "source": [
    "del locations"
   ]
  },
  {
   "cell_type": "markdown",
   "id": "6005b574",
   "metadata": {},
   "source": [
    "________________"
   ]
  },
  {
   "cell_type": "markdown",
   "id": "898f7c86",
   "metadata": {},
   "source": [
    "# **Research Question 2 - Basic insights**"
   ]
  },
  {
   "cell_type": "markdown",
   "id": "d746ac08",
   "metadata": {},
   "source": [
    "## Plot the number of posts for each profile in descending order."
   ]
  },
  {
   "cell_type": "markdown",
   "id": "ec9385f5",
   "metadata": {},
   "source": [
    "For this question we decided to take care of the first 15 profiles, otherwise the plot would have been a mess!"
   ]
  },
  {
   "cell_type": "code",
   "execution_count": 14,
   "id": "c59c6021",
   "metadata": {},
   "outputs": [
    {
     "data": {
      "text/plain": [
       "<BarContainer object of 15 artists>"
      ]
     },
     "execution_count": 14,
     "metadata": {},
     "output_type": "execute_result"
    },
    {
     "data": {
      "image/png": "[encoded data removed]",
      "text/plain": [
       "<Figure size 2160x648 with 1 Axes>"
      ]
     },
     "metadata": {
      "needs_background": "light"
     },
     "output_type": "display_data"
    }
   ],
   "source": [
    "profiles_sort = profiles.sort_values(by = 'n_posts', ascending = False).head(15) #let's sort the dataset by n° of post(n_post)\n",
    "fig, ax = plt.subplots(figsize = (30,9))\n",
    "plt.bar(profiles_sort.profile_name,profiles_sort.n_posts)"
   ]
  },
  {
   "cell_type": "markdown",
   "id": "ae06164f",
   "metadata": {},
   "source": [
    "## What posts have the highest number of \"likes\"?"
   ]
  },
  {
   "cell_type": "code",
   "execution_count": null,
   "id": "4a4fd3b2",
   "metadata": {},
   "outputs": [],
   "source": [
    "posts = pd.read_csv('~/posts.csv', delimiter = '\\t', usecols = ['profile_id', 'post_id', 'numbr_likes'])"
   ]
  },
  {
   "cell_type": "code",
   "execution_count": 5,
   "id": "832c099a",
   "metadata": {},
   "outputs": [
    {
     "data": {
      "text/html": [
       "<div>\n",
       "<style scoped>\n",
       "    .dataframe tbody tr th:only-of-type {\n",
       "        vertical-align: middle;\n",
       "    }\n",
       "\n",
       "    .dataframe tbody tr th {\n",
       "        vertical-align: top;\n",
       "    }\n",
       "\n",
       "    .dataframe thead th {\n",
       "        text-align: right;\n",
       "    }\n",
       "</style>\n",
       "<table border=\"1\" class=\"dataframe\">\n",
       "  <thead>\n",
       "    <tr style=\"text-align: right;\">\n",
       "      <th></th>\n",
       "      <th>post_id</th>\n",
       "      <th>profile_id</th>\n",
       "      <th>numbr_likes</th>\n",
       "    </tr>\n",
       "  </thead>\n",
       "  <tbody>\n",
       "    <tr>\n",
       "      <th>19624373</th>\n",
       "      <td>Bt3yaXmAM0d</td>\n",
       "      <td>4.906778e+07</td>\n",
       "      <td>8822952.0</td>\n",
       "    </tr>\n",
       "    <tr>\n",
       "      <th>19624276</th>\n",
       "      <td>BuwffB7g8cK</td>\n",
       "      <td>4.906778e+07</td>\n",
       "      <td>5447066.0</td>\n",
       "    </tr>\n",
       "    <tr>\n",
       "      <th>19624370</th>\n",
       "      <td>Buc1gyZAaMQ</td>\n",
       "      <td>4.906778e+07</td>\n",
       "      <td>5116398.0</td>\n",
       "    </tr>\n",
       "    <tr>\n",
       "      <th>19624274</th>\n",
       "      <td>BvcukE8AMuG</td>\n",
       "      <td>4.906778e+07</td>\n",
       "      <td>4271466.0</td>\n",
       "    </tr>\n",
       "    <tr>\n",
       "      <th>39701506</th>\n",
       "      <td>BqSLFVBFLfq</td>\n",
       "      <td>4.275539e+08</td>\n",
       "      <td>4264745.0</td>\n",
       "    </tr>\n",
       "    <tr>\n",
       "      <th>6293983</th>\n",
       "      <td>BwTSXBKg7gN</td>\n",
       "      <td>1.518284e+09</td>\n",
       "      <td>3586546.0</td>\n",
       "    </tr>\n",
       "    <tr>\n",
       "      <th>19624374</th>\n",
       "      <td>Btw8pFXAvQm</td>\n",
       "      <td>4.906778e+07</td>\n",
       "      <td>3558599.0</td>\n",
       "    </tr>\n",
       "    <tr>\n",
       "      <th>19802308</th>\n",
       "      <td>BvC3n6_gqin</td>\n",
       "      <td>2.153681e+09</td>\n",
       "      <td>3533326.0</td>\n",
       "    </tr>\n",
       "    <tr>\n",
       "      <th>30850973</th>\n",
       "      <td>Bw7vqLrFkHi</td>\n",
       "      <td>2.031501e+07</td>\n",
       "      <td>3340297.0</td>\n",
       "    </tr>\n",
       "    <tr>\n",
       "      <th>39813074</th>\n",
       "      <td>Bw2gTH1AiDA</td>\n",
       "      <td>3.530696e+07</td>\n",
       "      <td>3311246.0</td>\n",
       "    </tr>\n",
       "  </tbody>\n",
       "</table>\n",
       "</div>"
      ],
      "text/plain": [
       "              post_id    profile_id  numbr_likes\n",
       "19624373  Bt3yaXmAM0d  4.906778e+07    8822952.0\n",
       "19624276  BuwffB7g8cK  4.906778e+07    5447066.0\n",
       "19624370  Buc1gyZAaMQ  4.906778e+07    5116398.0\n",
       "19624274  BvcukE8AMuG  4.906778e+07    4271466.0\n",
       "39701506  BqSLFVBFLfq  4.275539e+08    4264745.0\n",
       "6293983   BwTSXBKg7gN  1.518284e+09    3586546.0\n",
       "19624374  Btw8pFXAvQm  4.906778e+07    3558599.0\n",
       "19802308  BvC3n6_gqin  2.153681e+09    3533326.0\n",
       "30850973  Bw7vqLrFkHi  2.031501e+07    3340297.0\n",
       "39813074  Bw2gTH1AiDA  3.530696e+07    3311246.0"
      ]
     },
     "execution_count": 5,
     "metadata": {},
     "output_type": "execute_result"
    }
   ],
   "source": [
    "#we apply this command in order to be able to sort by numbr_likes\n",
    "posts.numbr_likes = pd.to_numeric(posts.numbr_likes, errors ='coerce')\n",
    "\n",
    "posts_sort = posts.sort_values(by = 'numbr_likes', ascending = False) #let's sort the dataset by n° of likes(numbr_likes)\n",
    "\n",
    "#Let's print profile_id, post_id and number of likes, of the posts which have the highest number of likes!\n",
    "posts_sort.head(10)"
   ]
  },
  {
   "cell_type": "code",
   "execution_count": 6,
   "id": "6f4932ec",
   "metadata": {},
   "outputs": [
    {
     "data": {
      "text/html": [
       "<div>\n",
       "<style scoped>\n",
       "    .dataframe tbody tr th:only-of-type {\n",
       "        vertical-align: middle;\n",
       "    }\n",
       "\n",
       "    .dataframe tbody tr th {\n",
       "        vertical-align: top;\n",
       "    }\n",
       "\n",
       "    .dataframe thead th {\n",
       "        text-align: right;\n",
       "    }\n",
       "</style>\n",
       "<table border=\"1\" class=\"dataframe\">\n",
       "  <thead>\n",
       "    <tr style=\"text-align: right;\">\n",
       "      <th></th>\n",
       "      <th>sid</th>\n",
       "      <th>profile_id</th>\n",
       "      <th>profile_name</th>\n",
       "      <th>firstname_lastname</th>\n",
       "      <th>description</th>\n",
       "      <th>following</th>\n",
       "      <th>followers</th>\n",
       "      <th>n_posts</th>\n",
       "      <th>url</th>\n",
       "      <th>cts</th>\n",
       "      <th>is_business_account</th>\n",
       "    </tr>\n",
       "  </thead>\n",
       "  <tbody>\n",
       "    <tr>\n",
       "      <th>1287123</th>\n",
       "      <td>531404</td>\n",
       "      <td>49067778.0</td>\n",
       "      <td>lilireinhart</td>\n",
       "      <td>Lili Reinhart</td>\n",
       "      <td>100% High Fructose Corn Syrup</td>\n",
       "      <td>639.0</td>\n",
       "      <td>16825239.0</td>\n",
       "      <td>849.0</td>\n",
       "      <td>NaN</td>\n",
       "      <td>NaN</td>\n",
       "      <td>False</td>\n",
       "    </tr>\n",
       "  </tbody>\n",
       "</table>\n",
       "</div>"
      ],
      "text/plain": [
       "            sid  profile_id  profile_name firstname_lastname  \\\n",
       "1287123  531404  49067778.0  lilireinhart      Lili Reinhart   \n",
       "\n",
       "                           description  following   followers  n_posts  url  \\\n",
       "1287123  100% High Fructose Corn Syrup      639.0  16825239.0    849.0  NaN   \n",
       "\n",
       "         cts is_business_account  \n",
       "1287123  NaN               False  "
      ]
     },
     "execution_count": 6,
     "metadata": {},
     "output_type": "execute_result"
    }
   ],
   "source": [
    "profiles[profiles.profile_id == 49067778.0] #actually in the table above, for the profile_id which compair more, after an investigation\n",
    "#we noticed that is missing a 7 so in this command we add a 7 inside this profile_id"
   ]
  },
  {
   "cell_type": "markdown",
   "id": "e864c9de",
   "metadata": {},
   "source": [
    "We can observe that five of the ten most liked posts have been posted by the user 'lilireinhart'."
   ]
  },
  {
   "cell_type": "code",
   "execution_count": null,
   "id": "a89bc647",
   "metadata": {},
   "outputs": [],
   "source": [
    "del posts"
   ]
  },
  {
   "cell_type": "markdown",
   "id": "593f3a9a",
   "metadata": {},
   "source": [
    "## What posts have the most and the least number of comments?"
   ]
  },
  {
   "cell_type": "code",
   "execution_count": null,
   "id": "9bb7abe1",
   "metadata": {},
   "outputs": [],
   "source": [
    "posts_comments = pd.read_csv('~/posts.csv',delimiter='\\t',usecols=['post_id','number_comments'])"
   ]
  },
  {
   "cell_type": "code",
   "execution_count": 35,
   "id": "0b2523d8",
   "metadata": {},
   "outputs": [],
   "source": [
    "posts_comments.number_comments = pd.to_numeric(posts_comments.number_comments,errors='coerce')"
   ]
  },
  {
   "cell_type": "code",
   "execution_count": 37,
   "id": "17a619e1",
   "metadata": {},
   "outputs": [],
   "source": [
    "max_mask = (posts_comments['number_comments']==posts_comments['number_comments'].max())\n",
    "min_mask = (posts_comments['number_comments']==posts_comments['number_comments'].min())\n",
    "\n",
    "most_commented = posts_comments[max_mask]\n",
    "less_commented = posts_comments[min_mask]"
   ]
  },
  {
   "cell_type": "code",
   "execution_count": 38,
   "id": "8c67e13d",
   "metadata": {},
   "outputs": [
    {
     "data": {
      "text/html": [
       "<div>\n",
       "<style scoped>\n",
       "    .dataframe tbody tr th:only-of-type {\n",
       "        vertical-align: middle;\n",
       "    }\n",
       "\n",
       "    .dataframe tbody tr th {\n",
       "        vertical-align: top;\n",
       "    }\n",
       "\n",
       "    .dataframe thead th {\n",
       "        text-align: right;\n",
       "    }\n",
       "</style>\n",
       "<table border=\"1\" class=\"dataframe\">\n",
       "  <thead>\n",
       "    <tr style=\"text-align: right;\">\n",
       "      <th></th>\n",
       "      <th>post_id</th>\n",
       "      <th>number_comments</th>\n",
       "    </tr>\n",
       "  </thead>\n",
       "  <tbody>\n",
       "    <tr>\n",
       "      <th>40147877</th>\n",
       "      <td>BAlXkoKHynb</td>\n",
       "      <td>208596031.0</td>\n",
       "    </tr>\n",
       "  </tbody>\n",
       "</table>\n",
       "</div>"
      ],
      "text/plain": [
       "              post_id  number_comments\n",
       "40147877  BAlXkoKHynb      208596031.0"
      ]
     },
     "execution_count": 38,
     "metadata": {},
     "output_type": "execute_result"
    }
   ],
   "source": [
    "most_commented.head()"
   ]
  },
  {
   "cell_type": "code",
   "execution_count": 40,
   "id": "6946e02a",
   "metadata": {},
   "outputs": [
    {
     "data": {
      "text/html": [
       "<div>\n",
       "<style scoped>\n",
       "    .dataframe tbody tr th:only-of-type {\n",
       "        vertical-align: middle;\n",
       "    }\n",
       "\n",
       "    .dataframe tbody tr th {\n",
       "        vertical-align: top;\n",
       "    }\n",
       "\n",
       "    .dataframe thead th {\n",
       "        text-align: right;\n",
       "    }\n",
       "</style>\n",
       "<table border=\"1\" class=\"dataframe\">\n",
       "  <thead>\n",
       "    <tr style=\"text-align: right;\">\n",
       "      <th></th>\n",
       "      <th>post_id</th>\n",
       "      <th>number_comments</th>\n",
       "    </tr>\n",
       "  </thead>\n",
       "  <tbody>\n",
       "    <tr>\n",
       "      <th>0</th>\n",
       "      <td>BXdjjUlgcgq</td>\n",
       "      <td>0.0</td>\n",
       "    </tr>\n",
       "    <tr>\n",
       "      <th>2</th>\n",
       "      <td>BRgkjcXFp3Q</td>\n",
       "      <td>0.0</td>\n",
       "    </tr>\n",
       "    <tr>\n",
       "      <th>3</th>\n",
       "      <td>BKTKeNhjEA7</td>\n",
       "      <td>0.0</td>\n",
       "    </tr>\n",
       "    <tr>\n",
       "      <th>4</th>\n",
       "      <td>8-NQrvoYLX</td>\n",
       "      <td>0.0</td>\n",
       "    </tr>\n",
       "    <tr>\n",
       "      <th>11</th>\n",
       "      <td>Bx-ptmpinBs</td>\n",
       "      <td>0.0</td>\n",
       "    </tr>\n",
       "    <tr>\n",
       "      <th>12</th>\n",
       "      <td>Bx9uKZAAHDg</td>\n",
       "      <td>0.0</td>\n",
       "    </tr>\n",
       "    <tr>\n",
       "      <th>13</th>\n",
       "      <td>Bx5qGE0AlMM</td>\n",
       "      <td>0.0</td>\n",
       "    </tr>\n",
       "    <tr>\n",
       "      <th>23</th>\n",
       "      <td>Bxf-Vl4lK2S</td>\n",
       "      <td>0.0</td>\n",
       "    </tr>\n",
       "    <tr>\n",
       "      <th>24</th>\n",
       "      <td>BxCrxafBm-9</td>\n",
       "      <td>0.0</td>\n",
       "    </tr>\n",
       "    <tr>\n",
       "      <th>28</th>\n",
       "      <td>BwRE4lYhQ3r</td>\n",
       "      <td>0.0</td>\n",
       "    </tr>\n",
       "    <tr>\n",
       "      <th>32</th>\n",
       "      <td>BxCiTcOhEur</td>\n",
       "      <td>0.0</td>\n",
       "    </tr>\n",
       "    <tr>\n",
       "      <th>37</th>\n",
       "      <td>-jgOZSmSlS</td>\n",
       "      <td>0.0</td>\n",
       "    </tr>\n",
       "    <tr>\n",
       "      <th>42</th>\n",
       "      <td>BwF8AwGB7jq</td>\n",
       "      <td>0.0</td>\n",
       "    </tr>\n",
       "    <tr>\n",
       "      <th>44</th>\n",
       "      <td>BtbHhcdHG-q</td>\n",
       "      <td>0.0</td>\n",
       "    </tr>\n",
       "    <tr>\n",
       "      <th>45</th>\n",
       "      <td>BxfP3HBgL2s</td>\n",
       "      <td>0.0</td>\n",
       "    </tr>\n",
       "  </tbody>\n",
       "</table>\n",
       "</div>"
      ],
      "text/plain": [
       "        post_id  number_comments\n",
       "0   BXdjjUlgcgq              0.0\n",
       "2   BRgkjcXFp3Q              0.0\n",
       "3   BKTKeNhjEA7              0.0\n",
       "4    8-NQrvoYLX              0.0\n",
       "11  Bx-ptmpinBs              0.0\n",
       "12  Bx9uKZAAHDg              0.0\n",
       "13  Bx5qGE0AlMM              0.0\n",
       "23  Bxf-Vl4lK2S              0.0\n",
       "24  BxCrxafBm-9              0.0\n",
       "28  BwRE4lYhQ3r              0.0\n",
       "32  BxCiTcOhEur              0.0\n",
       "37   -jgOZSmSlS              0.0\n",
       "42  BwF8AwGB7jq              0.0\n",
       "44  BtbHhcdHG-q              0.0\n",
       "45  BxfP3HBgL2s              0.0"
      ]
     },
     "execution_count": 40,
     "metadata": {},
     "output_type": "execute_result"
    }
   ],
   "source": [
    "less_commented.head()"
   ]
  },
  {
   "cell_type": "markdown",
   "id": "a094324f",
   "metadata": {},
   "source": [
    "## How many posts include tagged locations, and how many do not? Show it using an appropriate chart and comment your results."
   ]
  },
  {
   "cell_type": "code",
   "execution_count": 41,
   "id": "eee385eb",
   "metadata": {},
   "outputs": [],
   "source": [
    "posts_locations = pd.read_csv('~/posts.csv', delimiter='\\t', usecols=['post_id','location_id'])"
   ]
  },
  {
   "cell_type": "code",
   "execution_count": 53,
   "id": "90889f1f",
   "metadata": {},
   "outputs": [],
   "source": [
    "posts_locations.location_id.fillna(0,inplace=True)"
   ]
  },
  {
   "cell_type": "code",
   "execution_count": 56,
   "id": "f95b4d17",
   "metadata": {},
   "outputs": [
    {
     "name": "stdout",
     "output_type": "stream",
     "text": [
      "The number of posts that includes tagged location is:       29737424\n",
      "The number of posts that don't include tagged locations is: 12973283\n"
     ]
    }
   ],
   "source": [
    "tagged = len(posts_locations[posts_locations.location_id > 0])\n",
    "untagged = len(posts_locations[posts_locations.location_id == 0])\n",
    "\n",
    "print(\"The number of posts that includes tagged location is:      \", tagged)\n",
    "print(\"The number of posts that don't include tagged locations is:\", untagged)"
   ]
  },
  {
   "cell_type": "markdown",
   "id": "d6e68091",
   "metadata": {},
   "source": [
    "We can plot this result with a piechart, to highlight the percentage of posts that include tagged locations and the percentage of posts that don't do so."
   ]
  },
  {
   "cell_type": "code",
   "execution_count": 67,
   "id": "be3462ae",
   "metadata": {},
   "outputs": [
    {
     "data": {
      "image/png": "[encoded data removed]",
      "text/plain": [
       "<Figure size 648x648 with 1 Axes>"
      ]
     },
     "metadata": {},
     "output_type": "display_data"
    }
   ],
   "source": [
    "fig, ax = plt.subplots(figsize=(9,9))\n",
    "labels ='Tagged','Untagged'\n",
    "ax.pie([tagged,untagged], labels=labels,autopct='%1.1f%%',shadow=True, startangle=90, labeldistance=None)\n",
    "plt.legend()\n",
    "plt.show()"
   ]
  },
  {
   "cell_type": "markdown",
   "id": "da3ef6be",
   "metadata": {},
   "source": [
    "This chart makes it clear that people usually share the location where they took a picture or filmed a video. This is probably because tagging places in Instagram posts is an essential part of Instagram's network externalities."
   ]
  },
  {
   "cell_type": "code",
   "execution_count": null,
   "id": "94ae4ec3",
   "metadata": {},
   "outputs": [],
   "source": [
    "del posts_locations"
   ]
  },
  {
   "cell_type": "markdown",
   "id": "021f3ab2",
   "metadata": {},
   "source": [
    "## How many posts include only photos? How many also have videos?"
   ]
  },
  {
   "cell_type": "code",
   "execution_count": 7,
   "id": "ff84eaf5",
   "metadata": {},
   "outputs": [],
   "source": [
    "posts_type = pd.read_csv('~/posts.csv', delimiter='\\t', usecols=['post_id','post_type'])\n",
    "posts_type_size = posts_type.shape"
   ]
  },
  {
   "cell_type": "code",
   "execution_count": 8,
   "id": "3eeb8a46",
   "metadata": {},
   "outputs": [],
   "source": [
    "posts_type.post_type.fillna(0, inplace=True)\n",
    "only_photos = (posts_type['post_type']==1).sum()\n",
    "only_videos = (posts_type['post_type']==2).sum()\n",
    "multy = (posts_type['post_type']==3).sum()"
   ]
  },
  {
   "cell_type": "code",
   "execution_count": 9,
   "id": "3b6a5f91",
   "metadata": {},
   "outputs": [
    {
     "name": "stdout",
     "output_type": "stream",
     "text": [
      "The percentage of posts with only photos is:  97.24607 %\n",
      "The percentage of posts with only videos is:  2.65687  %\n",
      "The percentage of miscellaneous posts is:     0.09586  %\n"
     ]
    }
   ],
   "source": [
    "print('The percentage of posts with only photos is: ', \"%.5f\" % (100*only_photos/posts_type_size[0]), '%')\n",
    "print('The percentage of posts with only videos is: ', \"%.5f\" % (100*only_videos/posts_type_size[0]), ' %')\n",
    "print('The percentage of miscellaneous posts is:    ', \"%.5f\" % (100*multy/posts_type_size[0]), ' %')"
   ]
  },
  {
   "cell_type": "markdown",
   "id": "2bcdcae1",
   "metadata": {},
   "source": [
    "This result clearly highlights that photos are the dominant form of communication through Instagram. That's probably because of the immediacy of take a picture and post it, instead of filming a video. \n"
   ]
  },
  {
   "cell_type": "code",
   "execution_count": null,
   "id": "e087b09b",
   "metadata": {},
   "outputs": [],
   "source": [
    "del posts_type"
   ]
  },
  {
   "cell_type": "markdown",
   "id": "63ff422b",
   "metadata": {},
   "source": [
    "## What's the percentage of business accounts vs non-business? What can you interpret regarding that percentage?"
   ]
  },
  {
   "cell_type": "code",
   "execution_count": 10,
   "id": "6e58cb20",
   "metadata": {},
   "outputs": [
    {
     "name": "stdout",
     "output_type": "stream",
     "text": [
      "The percentage of business accounts is:    18.96524 %\n",
      "The percentage of non-business accounts is:57.43474 %\n"
     ]
    }
   ],
   "source": [
    "business_accounts     = (profiles['is_business_account'] == True).sum()\n",
    "non_business_accounts = (profiles['is_business_account'] == False).sum()\n",
    "\n",
    "print('The percentage of business accounts is:    ' \"%.5f\" % (100*business_accounts/profiles.shape[0]), '%')\n",
    "print('The percentage of non-business accounts is:' \"%.5f\" % (100*non_business_accounts/profiles.shape[0]), '%')"
   ]
  },
  {
   "cell_type": "markdown",
   "id": "d6d5fa25",
   "metadata": {},
   "source": [
    "Since we cleaned the data, all the missing information about *is_business_account* have been corrected with false flags, assuming that we would have been given certain information about an account if it was a business one. \n",
    "The percentage we are given should be compared with nowadays data, since during years Instagram assert itself as a business platform. \n",
    "\n",
    "\n",
    "This information confirms that Instagram is a drive for communication between producers and costumers, since it allows producers to collect information about their potential costumer. The structure of the population with respect to this variable reflects the golden rule of a Pareto distribution, as an already mature market structure would do. "
   ]
  },
  {
   "cell_type": "markdown",
   "id": "fd46b2c2",
   "metadata": {},
   "source": [
    "______________"
   ]
  },
  {
   "cell_type": "markdown",
   "id": "16e03552",
   "metadata": {},
   "source": [
    "# **Research Question 3 - When do users publish the most?**"
   ]
  },
  {
   "cell_type": "markdown",
   "id": "37db1a98",
   "metadata": {},
   "source": [
    "## What is the most common time in which users publish their posts?\n"
   ]
  },
  {
   "cell_type": "code",
   "execution_count": 3,
   "id": "be72a9e2",
   "metadata": {},
   "outputs": [],
   "source": [
    "posts_date = pd.read_csv('~/posts_dates.csv',delimiter='\\t')"
   ]
  },
  {
   "cell_type": "code",
   "execution_count": 4,
   "id": "ab3328c8",
   "metadata": {},
   "outputs": [],
   "source": [
    "posts_date.cts.fillna('', inplace=True)\n",
    "posts_date.cts = pd.to_datetime(posts_date.cts)"
   ]
  },
  {
   "cell_type": "code",
   "execution_count": 5,
   "id": "a1c5a5b4",
   "metadata": {},
   "outputs": [],
   "source": [
    "parsed_hours = pd.DataFrame({\n",
    "    'post_id':posts_date.post_id,\n",
    "    'Timestamp':posts_date.cts.dt.time\n",
    "})"
   ]
  },
  {
   "cell_type": "code",
   "execution_count": 6,
   "id": "eb31c87b",
   "metadata": {},
   "outputs": [
    {
     "data": {
      "text/plain": [
       "0    21:00:09\n",
       "dtype: object"
      ]
     },
     "execution_count": 6,
     "metadata": {},
     "output_type": "execute_result"
    }
   ],
   "source": [
    "parsed_hours.Timestamp.mode()"
   ]
  },
  {
   "cell_type": "markdown",
   "id": "351960ff",
   "metadata": {},
   "source": [
    "This information is clearly a simple index over an unstructured population. We'll get more useful information by building the required method. "
   ]
  },
  {
   "cell_type": "markdown",
   "id": "5b02f596",
   "metadata": {},
   "source": [
    "## Create a function that receives a time intervals list as a parameter and returns a plot with the number of posts for each given interval.\n"
   ]
  },
  {
   "cell_type": "code",
   "execution_count": 7,
   "id": "41cac669",
   "metadata": {},
   "outputs": [],
   "source": [
    "def plot_timestamps_occurrencies(timestamps):\n",
    "    occ = {}\n",
    "    for timeinterval in timestamps:\n",
    "        initial_time = timeinterval[0].split(':')\n",
    "        final_time   = timeinterval[1].split(':')\n",
    "        \n",
    "        initial_hour, initial_minute, initial_second = int(initial_time[0]), int(initial_time[1]), int(initial_time[2])\n",
    "        final_hour, final_minute, final_second = int(final_time[0]), int(final_time[1]), int(final_time[2])\n",
    "        \n",
    "        timestamp_1 = time(initial_hour, initial_minute, initial_second)\n",
    "        timestamp_2 = time(final_hour, final_minute, final_second)\n",
    "        occ[timeinterval] = len(parsed_hours[(parsed_hours.Timestamp > timestamp_1) & (parsed_hours.Timestamp < timestamp_2)])\n",
    "        \n",
    "    plt.ticklabel_format(style='plain')\n",
    "    plt.bar(range(len(occ)), list(occ.values()), align='center')\n",
    "    plt.xticks(range(len(occ)), list(occ.keys()), rotation='vertical')\n",
    "    plt.show()"
   ]
  },
  {
   "cell_type": "markdown",
   "id": "e2ef351e",
   "metadata": {},
   "source": [
    "## Use the function that you created in the previous literal to plot the number of posts between the following time intervals."
   ]
  },
  {
   "cell_type": "code",
   "execution_count": 8,
   "id": "323c9583",
   "metadata": {},
   "outputs": [
    {
     "data": {
      "image/png": "[encoded data removed]",
      "text/plain": [
       "<Figure size 432x288 with 1 Axes>"
      ]
     },
     "metadata": {
      "needs_background": "light"
     },
     "output_type": "display_data"
    }
   ],
   "source": [
    "plot_timestamps_occurrencies([('06:00:00','10:59:59'),\n",
    "                              ('11:00:00','13:59:59'),\n",
    "                              ('14:00:00','16:59:59'),\n",
    "                              ('17:00:00','19:59:59'),\n",
    "                              ('20:00:00','23:59:59'),\n",
    "                              ('00:00:00','02:59:59'),\n",
    "                              ('03:00:00','05:59:59')])"
   ]
  },
  {
   "cell_type": "markdown",
   "id": "ae807d11",
   "metadata": {},
   "source": [
    "The most common time-lapse of the day in which people usually posts on Instagram is $20:00:00-23:59:59$. In this time of the day people have usually ended up their tasks, so maybe they feel more free to post on Instagram. Furthermore, \n",
    "it is plausible to argue that business accounts targets this time-lapse for the same reasons, because the users influx is probabily more substantial in that moment of the day. "
   ]
  },
  {
   "cell_type": "code",
   "execution_count": null,
   "id": "adafe730",
   "metadata": {},
   "outputs": [],
   "source": [
    "del posts_date"
   ]
  },
  {
   "cell_type": "markdown",
   "id": "c98efed9",
   "metadata": {},
   "source": [
    "_________________________________________"
   ]
  },
  {
   "cell_type": "markdown",
   "id": "350d4fd8",
   "metadata": {},
   "source": [
    "# **Research Question 4 - Enhancing our analysis over profiles datasets**"
   ]
  },
  {
   "cell_type": "markdown",
   "id": "3ba68a16",
   "metadata": {},
   "source": [
    "First, we want to build a useful and optimized subdataset over the posts' one."
   ]
  },
  {
   "cell_type": "code",
   "execution_count": null,
   "id": "8c898852",
   "metadata": {},
   "outputs": [],
   "source": [
    "posts = pd.read_csv('~/posts.csv', delimiter='\\t', usecols = ['profile_id','post_id','numbr_likes','number_comments','cts'])"
   ]
  },
  {
   "cell_type": "code",
   "execution_count": 4,
   "id": "72328d05",
   "metadata": {},
   "outputs": [],
   "source": [
    "posts.numbr_likes = pd.to_numeric(posts.numbr_likes, errors='coerce')\n",
    "posts.number_comments = pd.to_numeric(posts.number_comments, errors='coerce')\n",
    "\n",
    "posts.numbr_likes.fillna(0, inplace=True)\n",
    "posts.number_comments.fillna(0, inplace=True)\n",
    "\n",
    "posts.cts.fillna('', inplace=True)\n",
    "\n",
    "posts.cts = pd.to_datetime(posts.cts).dt.time"
   ]
  },
  {
   "cell_type": "code",
   "execution_count": 5,
   "id": "b235a57c",
   "metadata": {},
   "outputs": [
    {
     "data": {
      "text/html": [
       "<div>\n",
       "<style scoped>\n",
       "    .dataframe tbody tr th:only-of-type {\n",
       "        vertical-align: middle;\n",
       "    }\n",
       "\n",
       "    .dataframe tbody tr th {\n",
       "        vertical-align: top;\n",
       "    }\n",
       "\n",
       "    .dataframe thead th {\n",
       "        text-align: right;\n",
       "    }\n",
       "</style>\n",
       "<table border=\"1\" class=\"dataframe\">\n",
       "  <thead>\n",
       "    <tr style=\"text-align: right;\">\n",
       "      <th></th>\n",
       "      <th>post_id</th>\n",
       "      <th>profile_id</th>\n",
       "      <th>cts</th>\n",
       "      <th>numbr_likes</th>\n",
       "      <th>number_comments</th>\n",
       "    </tr>\n",
       "  </thead>\n",
       "  <tbody>\n",
       "    <tr>\n",
       "      <th>0</th>\n",
       "      <td>BXdjjUlgcgq</td>\n",
       "      <td>2.237948e+09</td>\n",
       "      <td>20:06:57</td>\n",
       "      <td>80.0</td>\n",
       "      <td>0.0</td>\n",
       "    </tr>\n",
       "    <tr>\n",
       "      <th>1</th>\n",
       "      <td>BVg0pbolYBC</td>\n",
       "      <td>5.579335e+09</td>\n",
       "      <td>09:31:16</td>\n",
       "      <td>25.0</td>\n",
       "      <td>1.0</td>\n",
       "    </tr>\n",
       "    <tr>\n",
       "      <th>2</th>\n",
       "      <td>BRgkjcXFp3Q</td>\n",
       "      <td>3.134296e+08</td>\n",
       "      <td>20:05:03</td>\n",
       "      <td>9.0</td>\n",
       "      <td>0.0</td>\n",
       "    </tr>\n",
       "    <tr>\n",
       "      <th>3</th>\n",
       "      <td>BKTKeNhjEA7</td>\n",
       "      <td>1.837593e+09</td>\n",
       "      <td>16:27:16</td>\n",
       "      <td>4.0</td>\n",
       "      <td>0.0</td>\n",
       "    </tr>\n",
       "    <tr>\n",
       "      <th>4</th>\n",
       "      <td>8-NQrvoYLX</td>\n",
       "      <td>1.131527e+09</td>\n",
       "      <td>10:19:27</td>\n",
       "      <td>8.0</td>\n",
       "      <td>0.0</td>\n",
       "    </tr>\n",
       "  </tbody>\n",
       "</table>\n",
       "</div>"
      ],
      "text/plain": [
       "       post_id    profile_id       cts  numbr_likes  number_comments\n",
       "0  BXdjjUlgcgq  2.237948e+09  20:06:57         80.0              0.0\n",
       "1  BVg0pbolYBC  5.579335e+09  09:31:16         25.0              1.0\n",
       "2  BRgkjcXFp3Q  3.134296e+08  20:05:03          9.0              0.0\n",
       "3  BKTKeNhjEA7  1.837593e+09  16:27:16          4.0              0.0\n",
       "4   8-NQrvoYLX  1.131527e+09  10:19:27          8.0              0.0"
      ]
     },
     "execution_count": 5,
     "metadata": {},
     "output_type": "execute_result"
    }
   ],
   "source": [
    "posts.head()"
   ]
  },
  {
   "cell_type": "markdown",
   "id": "6037e42e",
   "metadata": {},
   "source": [
    "For this question we also need the profiles' dataset, in order to join it with the posts one. "
   ]
  },
  {
   "cell_type": "code",
   "execution_count": 6,
   "id": "4e8a2c18",
   "metadata": {},
   "outputs": [],
   "source": [
    "profiles = pd.read_csv('~/instagram_profiles.zip', delimiter='\\t', usecols=['profile_id','n_posts'])\n",
    "\n",
    "sorted_profiles = profiles.sort_values(by='n_posts',ascending=False).reset_index(drop=True)"
   ]
  },
  {
   "cell_type": "markdown",
   "id": "299b7707",
   "metadata": {},
   "source": [
    "## Write a function that, given a profile_id, will be able to return the posts that belong to the given profile_id.\n"
   ]
  },
  {
   "cell_type": "code",
   "execution_count": 7,
   "id": "51fc5f5b",
   "metadata": {},
   "outputs": [],
   "source": [
    "def posts_by_id(id):\n",
    "    return posts[posts['profile_id']==id]"
   ]
  },
  {
   "cell_type": "markdown",
   "id": "1663838a",
   "metadata": {},
   "source": [
    "## Write another function that, given an input n (an integer), will return the posts that belong to the n top posted profiles (top n profiles that have posted the highest number of posts) that their data is available in the profile.csv using the previously written function.\n"
   ]
  },
  {
   "cell_type": "code",
   "execution_count": 8,
   "id": "c481a959",
   "metadata": {},
   "outputs": [],
   "source": [
    "def posts_ntop(n):\n",
    "    top_profiles = sorted_profiles.reset_index(drop=True)\n",
    "    top_posts = posts_by_id(top_profiles['profile_id'][0])                                          #Initialize a new dataframe\n",
    "    counter = 1\n",
    "    flag = True\n",
    "    while flag:\n",
    "        if len(posts_by_id(top_profiles['profile_id'][counter])) > 0:\n",
    "            top_posts = top_posts.append(posts_by_id(top_profiles['profile_id'][counter]))          #And completing it to be able to use pandas methods to group by values and extract mean\n",
    "        if len(pd.unique(top_posts['profile_id'])) == n:\n",
    "            flag = False\n",
    "        counter += 1\n",
    "    return top_posts"
   ]
  },
  {
   "cell_type": "markdown",
   "id": "48079784",
   "metadata": {},
   "source": [
    "## What is the average number of \"likes\" and comments of the top 10 profiles with the highest number of posts which their information is available in profile.csv?\n"
   ]
  },
  {
   "cell_type": "code",
   "execution_count": 9,
   "id": "d1bf22ec",
   "metadata": {},
   "outputs": [
    {
     "data": {
      "text/html": [
       "<div>\n",
       "<style scoped>\n",
       "    .dataframe tbody tr th:only-of-type {\n",
       "        vertical-align: middle;\n",
       "    }\n",
       "\n",
       "    .dataframe tbody tr th {\n",
       "        vertical-align: top;\n",
       "    }\n",
       "\n",
       "    .dataframe thead th {\n",
       "        text-align: right;\n",
       "    }\n",
       "</style>\n",
       "<table border=\"1\" class=\"dataframe\">\n",
       "  <thead>\n",
       "    <tr style=\"text-align: right;\">\n",
       "      <th></th>\n",
       "      <th>mean_likes</th>\n",
       "      <th>mean_comments</th>\n",
       "    </tr>\n",
       "    <tr>\n",
       "      <th>profile_id</th>\n",
       "      <th></th>\n",
       "      <th></th>\n",
       "    </tr>\n",
       "  </thead>\n",
       "  <tbody>\n",
       "    <tr>\n",
       "      <th>9.813508e+06</th>\n",
       "      <td>0.296296</td>\n",
       "      <td>0.000000</td>\n",
       "    </tr>\n",
       "    <tr>\n",
       "      <th>1.996648e+08</th>\n",
       "      <td>7.666667</td>\n",
       "      <td>0.000000</td>\n",
       "    </tr>\n",
       "    <tr>\n",
       "      <th>2.181730e+08</th>\n",
       "      <td>0.400000</td>\n",
       "      <td>0.040000</td>\n",
       "    </tr>\n",
       "    <tr>\n",
       "      <th>2.855497e+08</th>\n",
       "      <td>3.921875</td>\n",
       "      <td>0.000000</td>\n",
       "    </tr>\n",
       "    <tr>\n",
       "      <th>1.087614e+09</th>\n",
       "      <td>2.026316</td>\n",
       "      <td>0.184211</td>\n",
       "    </tr>\n",
       "    <tr>\n",
       "      <th>1.273455e+09</th>\n",
       "      <td>2.960000</td>\n",
       "      <td>0.040000</td>\n",
       "    </tr>\n",
       "    <tr>\n",
       "      <th>1.603890e+09</th>\n",
       "      <td>6.477612</td>\n",
       "      <td>0.044776</td>\n",
       "    </tr>\n",
       "    <tr>\n",
       "      <th>1.607309e+09</th>\n",
       "      <td>1.540541</td>\n",
       "      <td>0.000000</td>\n",
       "    </tr>\n",
       "    <tr>\n",
       "      <th>1.701679e+09</th>\n",
       "      <td>1.447368</td>\n",
       "      <td>0.000000</td>\n",
       "    </tr>\n",
       "    <tr>\n",
       "      <th>8.563367e+09</th>\n",
       "      <td>0.000000</td>\n",
       "      <td>0.000000</td>\n",
       "    </tr>\n",
       "  </tbody>\n",
       "</table>\n",
       "</div>"
      ],
      "text/plain": [
       "              mean_likes  mean_comments\n",
       "profile_id                             \n",
       "9.813508e+06    0.296296       0.000000\n",
       "1.996648e+08    7.666667       0.000000\n",
       "2.181730e+08    0.400000       0.040000\n",
       "2.855497e+08    3.921875       0.000000\n",
       "1.087614e+09    2.026316       0.184211\n",
       "1.273455e+09    2.960000       0.040000\n",
       "1.603890e+09    6.477612       0.044776\n",
       "1.607309e+09    1.540541       0.000000\n",
       "1.701679e+09    1.447368       0.000000\n",
       "8.563367e+09    0.000000       0.000000"
      ]
     },
     "execution_count": 9,
     "metadata": {},
     "output_type": "execute_result"
    }
   ],
   "source": [
    "tentop = posts_ntop(10)\n",
    "tentop.groupby(['profile_id']).mean().rename(columns={'numbr_likes':'mean_likes', 'number_comments':'mean_comments'})"
   ]
  },
  {
   "cell_type": "markdown",
   "id": "f074afcb",
   "metadata": {},
   "source": [
    "## Plot the number of posts that these top 10 profiles have sent on Instagram in the given interval in question RQ3. Interpret the resulting chart.\n"
   ]
  },
  {
   "cell_type": "code",
   "execution_count": 10,
   "id": "bd8b06bc",
   "metadata": {},
   "outputs": [],
   "source": [
    "def tentop_plot_timestamps_occurrencies(timestamps):\n",
    "    occ = {}\n",
    "    for timeinterval in timestamps:\n",
    "        initial_time = timeinterval[0].split(':')\n",
    "        final_time   = timeinterval[1].split(':')\n",
    "        \n",
    "        initial_hour, initial_minute, initial_second = int(initial_time[0]), int(initial_time[1]), int(initial_time[2])\n",
    "        final_hour, final_minute, final_second = int(final_time[0]), int(final_time[1]), int(final_time[2])\n",
    "        \n",
    "        timestamp_1 = time(initial_hour, initial_minute, initial_second)\n",
    "        timestamp_2 = time(final_hour, final_minute, final_second)\n",
    "        occ[timeinterval] = len(tentop[(tentop.cts > timestamp_1) & (tentop.cts < timestamp_2)])\n",
    "        \n",
    "    plt.ticklabel_format(style='plain')\n",
    "    plt.bar(range(len(occ)), list(occ.values()), align='center')\n",
    "    plt.xticks(range(len(occ)), list(occ.keys()), rotation='vertical')\n",
    "    plt.show()"
   ]
  },
  {
   "cell_type": "code",
   "execution_count": 11,
   "id": "9861aabc",
   "metadata": {},
   "outputs": [
    {
     "data": {
      "image/png": "[encoded data removed]",
      "text/plain": [
       "<Figure size 432x288 with 1 Axes>"
      ]
     },
     "metadata": {
      "needs_background": "light"
     },
     "output_type": "display_data"
    }
   ],
   "source": [
    "tentop_plot_timestamps_occurrencies([('06:00:00','10:59:59'),\n",
    "                                     ('11:00:00','13:59:59'),\n",
    "                                     ('14:00:00','16:59:59'),\n",
    "                                     ('17:00:00','19:59:59'),\n",
    "                                     ('20:00:00','23:59:59'),\n",
    "                                     ('00:00:00','02:59:59'),\n",
    "                                     ('03:00:00','05:59:59')])"
   ]
  },
  {
   "cell_type": "markdown",
   "id": "7afe3c44",
   "metadata": {},
   "source": [
    "If we compare this chart with the one regarding the general trend among all the users, we'll find they're different.\n",
    "First of all, the global trend is increasing in the slot (11:00-20:00) until the peak, while these top 10 users posts don't show a trend. \n",
    "This means that their behaviour is queit insignificant in determining the global trend. "
   ]
  },
  {
   "cell_type": "code",
   "execution_count": 12,
   "id": "53cdb7bb",
   "metadata": {},
   "outputs": [],
   "source": [
    "del profiles\n",
    "del sorted_profiles\n",
    "del posts\n",
    "del tentop"
   ]
  },
  {
   "cell_type": "markdown",
   "id": "16fbce82",
   "metadata": {},
   "source": [
    "_________________________"
   ]
  },
  {
   "cell_type": "markdown",
   "id": "6dec91d0",
   "metadata": {},
   "source": [
    "# **Research Question 5 - Influential influencers**"
   ]
  },
  {
   "cell_type": "markdown",
   "id": "93be7970",
   "metadata": {},
   "source": [
    "## Plot the top 10 most popular users in terms of followers and their number of posts."
   ]
  },
  {
   "cell_type": "code",
   "execution_count": 3,
   "id": "a3600b3e",
   "metadata": {},
   "outputs": [],
   "source": [
    "profiles = pd.read_csv('~/instagram_profiles.zip', delimiter = '\\t', usecols = ['profile_id', 'profile_name', 'followers', 'n_posts'])\n",
    "top_10_profiles = profiles.sort_values(by ='followers', ascending = False)\n",
    "top_10_profiles = top_10_profiles.head(10)\n",
    "#top_n_post.profile_name,top_n_post.n_posts"
   ]
  },
  {
   "cell_type": "code",
   "execution_count": 4,
   "id": "76b6fe63",
   "metadata": {},
   "outputs": [
    {
     "data": {
      "text/plain": [
       "<BarContainer object of 10 artists>"
      ]
     },
     "execution_count": 4,
     "metadata": {},
     "output_type": "execute_result"
    },
    {
     "data": {
      "image/png": "[encoded data removed]",
      "text/plain": [
       "<Figure size 1152x504 with 1 Axes>"
      ]
     },
     "metadata": {
      "needs_background": "light"
     },
     "output_type": "display_data"
    }
   ],
   "source": [
    "figure, axis = plt.subplots(figsize = (16,7))\n",
    "plt.bar(top_10_profiles.profile_name,top_10_profiles.n_posts)"
   ]
  },
  {
   "cell_type": "markdown",
   "id": "16d11a96",
   "metadata": {},
   "source": [
    "## Who is the most influential user?"
   ]
  },
  {
   "cell_type": "code",
   "execution_count": 5,
   "id": "ad746b42",
   "metadata": {},
   "outputs": [
    {
     "name": "stdout",
     "output_type": "stream",
     "text": [
      "The most influential user is: instagram\n"
     ]
    }
   ],
   "source": [
    "top_n_post = profiles.sort_values(by ='followers', ascending = False).head(1) #created a subdataset which contains profiles of who have the highest number of post\n",
    "print(f'The most influential user is: {top_n_post.profile_name.values[0]}')"
   ]
  },
  {
   "cell_type": "markdown",
   "id": "ae53212b",
   "metadata": {},
   "source": [
    "## Have they posted anything with tagged locations? Extract the most frequent areas on their posts and plot the number of times each city has been visited.\n"
   ]
  },
  {
   "cell_type": "code",
   "execution_count": 6,
   "id": "1f6d028d",
   "metadata": {},
   "outputs": [],
   "source": [
    "posts = pd.read_csv('~/posts.csv', delimiter=\"\\t\", usecols = ['profile_id', 'location_id'])"
   ]
  },
  {
   "cell_type": "code",
   "execution_count": 7,
   "id": "44128aed",
   "metadata": {},
   "outputs": [],
   "source": [
    "new_df = pd.merge(top_10_profiles, posts, on= 'profile_id', how = 'left')\n",
    "new_df.rename(columns = {0:'times_seen_location'}, inplace = True)\n",
    "new_df.rename(columns = {'location_id':'id'}, inplace = True)"
   ]
  },
  {
   "cell_type": "code",
   "execution_count": 9,
   "id": "ad22fae6",
   "metadata": {},
   "outputs": [],
   "source": [
    "city =pd.read_csv('~/instagram_locations.zip', delimiter=\"\\t\", usecols = ['id', 'name','city'])\n",
    "merge = pd.merge(new_df,city, on = 'id', how = 'left')"
   ]
  },
  {
   "cell_type": "code",
   "execution_count": 10,
   "id": "53b271dc",
   "metadata": {},
   "outputs": [],
   "source": [
    "time_seen_areas = merge.groupby(['name']).size().reset_index().sort_values([0],ascending=False)\n",
    "time_seen_areas.rename(columns = {0:'times_seen_location'}, inplace = True)\n",
    "time_seen_areas.rename(columns = {'location_id':'id'}, inplace = True)"
   ]
  },
  {
   "cell_type": "code",
   "execution_count": 11,
   "id": "36a1b7c6",
   "metadata": {},
   "outputs": [
    {
     "data": {
      "text/html": [
       "<div>\n",
       "<style scoped>\n",
       "    .dataframe tbody tr th:only-of-type {\n",
       "        vertical-align: middle;\n",
       "    }\n",
       "\n",
       "    .dataframe tbody tr th {\n",
       "        vertical-align: top;\n",
       "    }\n",
       "\n",
       "    .dataframe thead th {\n",
       "        text-align: right;\n",
       "    }\n",
       "</style>\n",
       "<table border=\"1\" class=\"dataframe\">\n",
       "  <thead>\n",
       "    <tr style=\"text-align: right;\">\n",
       "      <th></th>\n",
       "      <th>name</th>\n",
       "      <th>times_seen_location</th>\n",
       "    </tr>\n",
       "  </thead>\n",
       "  <tbody>\n",
       "    <tr>\n",
       "      <th>70</th>\n",
       "      <td>Sydney, Australia</td>\n",
       "      <td>9</td>\n",
       "    </tr>\n",
       "    <tr>\n",
       "      <th>80</th>\n",
       "      <td>Victoria's Secret</td>\n",
       "      <td>4</td>\n",
       "    </tr>\n",
       "    <tr>\n",
       "      <th>37</th>\n",
       "      <td>Kobe-shi, Hyogo, Japan</td>\n",
       "      <td>3</td>\n",
       "    </tr>\n",
       "    <tr>\n",
       "      <th>81</th>\n",
       "      <td>Wells Fargo Center</td>\n",
       "      <td>2</td>\n",
       "    </tr>\n",
       "    <tr>\n",
       "      <th>9</th>\n",
       "      <td>Bel-Air Estate</td>\n",
       "      <td>2</td>\n",
       "    </tr>\n",
       "    <tr>\n",
       "      <th>11</th>\n",
       "      <td>Bora Bora, French Polynesia</td>\n",
       "      <td>2</td>\n",
       "    </tr>\n",
       "  </tbody>\n",
       "</table>\n",
       "</div>"
      ],
      "text/plain": [
       "                           name  times_seen_location\n",
       "70            Sydney, Australia                    9\n",
       "80            Victoria's Secret                    4\n",
       "37       Kobe-shi, Hyogo, Japan                    3\n",
       "81           Wells Fargo Center                    2\n",
       "9                Bel-Air Estate                    2\n",
       "11  Bora Bora, French Polynesia                    2"
      ]
     },
     "execution_count": 11,
     "metadata": {},
     "output_type": "execute_result"
    }
   ],
   "source": [
    "time_seen_areas = time_seen_areas[time_seen_areas.times_seen_location>1]\n",
    "time_seen_areas"
   ]
  },
  {
   "cell_type": "markdown",
   "id": "754929f5",
   "metadata": {},
   "source": [
    "These are the most tagged areas by the 10 most influential profiles."
   ]
  },
  {
   "cell_type": "code",
   "execution_count": 13,
   "id": "361715c7",
   "metadata": {},
   "outputs": [],
   "source": [
    "city =pd.read_csv('~/instagram_locations.zip', delimiter=\"\\t\", usecols = ['id','city'])\n",
    "merge = pd.merge(new_df,city, on = 'id', how = 'left')\n",
    "time_seen_city = merge.groupby(['city']).size().reset_index().sort_values([0],ascending=False)\n",
    "time_seen_city.rename(columns = {0:'times_seen_location'}, inplace = True)\n",
    "time_seen_city.rename(columns = {'location_id':'id'}, inplace = True)"
   ]
  },
  {
   "cell_type": "code",
   "execution_count": 14,
   "id": "d15516d3",
   "metadata": {},
   "outputs": [
    {
     "data": {
      "text/html": [
       "<div>\n",
       "<style scoped>\n",
       "    .dataframe tbody tr th:only-of-type {\n",
       "        vertical-align: middle;\n",
       "    }\n",
       "\n",
       "    .dataframe tbody tr th {\n",
       "        vertical-align: top;\n",
       "    }\n",
       "\n",
       "    .dataframe thead th {\n",
       "        text-align: right;\n",
       "    }\n",
       "</style>\n",
       "<table border=\"1\" class=\"dataframe\">\n",
       "  <thead>\n",
       "    <tr style=\"text-align: right;\">\n",
       "      <th></th>\n",
       "      <th>city</th>\n",
       "      <th>times_seen_location</th>\n",
       "    </tr>\n",
       "  </thead>\n",
       "  <tbody>\n",
       "    <tr>\n",
       "      <th>38</th>\n",
       "      <td>New York, New York</td>\n",
       "      <td>9</td>\n",
       "    </tr>\n",
       "    <tr>\n",
       "      <th>55</th>\n",
       "      <td>Sydney, Australia</td>\n",
       "      <td>9</td>\n",
       "    </tr>\n",
       "    <tr>\n",
       "      <th>34</th>\n",
       "      <td>Los Angeles, California</td>\n",
       "      <td>5</td>\n",
       "    </tr>\n",
       "    <tr>\n",
       "      <th>52</th>\n",
       "      <td>Singapore</td>\n",
       "      <td>4</td>\n",
       "    </tr>\n",
       "    <tr>\n",
       "      <th>21</th>\n",
       "      <td>Houston, Texas</td>\n",
       "      <td>3</td>\n",
       "    </tr>\n",
       "    <tr>\n",
       "      <th>24</th>\n",
       "      <td>Kobe-shi, Hyogo, Japan</td>\n",
       "      <td>3</td>\n",
       "    </tr>\n",
       "    <tr>\n",
       "      <th>32</th>\n",
       "      <td>London, United Kingdom</td>\n",
       "      <td>3</td>\n",
       "    </tr>\n",
       "    <tr>\n",
       "      <th>3</th>\n",
       "      <td>Amsterdam, Netherlands</td>\n",
       "      <td>3</td>\n",
       "    </tr>\n",
       "    <tr>\n",
       "      <th>59</th>\n",
       "      <td>Vaitape, French Polynesia</td>\n",
       "      <td>2</td>\n",
       "    </tr>\n",
       "    <tr>\n",
       "      <th>29</th>\n",
       "      <td>Las Vegas, Nevada</td>\n",
       "      <td>2</td>\n",
       "    </tr>\n",
       "    <tr>\n",
       "      <th>44</th>\n",
       "      <td>Philadelphia, Pennsylvania</td>\n",
       "      <td>2</td>\n",
       "    </tr>\n",
       "    <tr>\n",
       "      <th>51</th>\n",
       "      <td>Shanghai, China</td>\n",
       "      <td>2</td>\n",
       "    </tr>\n",
       "  </tbody>\n",
       "</table>\n",
       "</div>"
      ],
      "text/plain": [
       "                          city  times_seen_location\n",
       "38          New York, New York                    9\n",
       "55           Sydney, Australia                    9\n",
       "34     Los Angeles, California                    5\n",
       "52                   Singapore                    4\n",
       "21              Houston, Texas                    3\n",
       "24      Kobe-shi, Hyogo, Japan                    3\n",
       "32      London, United Kingdom                    3\n",
       "3       Amsterdam, Netherlands                    3\n",
       "59   Vaitape, French Polynesia                    2\n",
       "29           Las Vegas, Nevada                    2\n",
       "44  Philadelphia, Pennsylvania                    2\n",
       "51             Shanghai, China                    2"
      ]
     },
     "execution_count": 14,
     "metadata": {},
     "output_type": "execute_result"
    }
   ],
   "source": [
    "time_seen_city = time_seen_city[time_seen_city.times_seen_location>1]\n",
    "time_seen_city"
   ]
  },
  {
   "cell_type": "markdown",
   "id": "5fa9a4c4",
   "metadata": {},
   "source": [
    "Instead these are the cities where the most locations have been tagged by the 10 most influential profiles."
   ]
  },
  {
   "cell_type": "code",
   "execution_count": 15,
   "id": "91e820cc",
   "metadata": {},
   "outputs": [
    {
     "data": {
      "image/png": "[encoded data removed]",
      "text/plain": [
       "<Figure size 2088x720 with 1 Axes>"
      ]
     },
     "metadata": {
      "needs_background": "light"
     },
     "output_type": "display_data"
    }
   ],
   "source": [
    "figure, axis = plt.subplots(figsize = (29,10))\n",
    "x_pos = np.arange(len(time_seen_city.city))\n",
    "plt.bar(x_pos, time_seen_city.times_seen_location, color=('black', 'red', 'green', 'blue'))\n",
    "plt.xticks(x_pos, time_seen_city.city)\n",
    "plt.show()"
   ]
  },
  {
   "cell_type": "markdown",
   "id": "1628a7a7",
   "metadata": {},
   "source": [
    "## How many pictures-only posts have they published? How many reels? (only videos) and how many with both contents? Provide the number as percentages and interpret those figures."
   ]
  },
  {
   "cell_type": "code",
   "execution_count": null,
   "id": "623ef038",
   "metadata": {},
   "outputs": [],
   "source": [
    "posts = pd.read_csv('~/posts.csv', delimiter=\"\\t\", usecols = ['profile_id', 'post_type','numbr_likes','number_comments'])"
   ]
  },
  {
   "cell_type": "code",
   "execution_count": 18,
   "id": "17846ff8",
   "metadata": {},
   "outputs": [],
   "source": [
    "posts.numbr_likes = pd.to_numeric(posts.numbr_likes, errors ='coerce')\n",
    "posts.number_comments = pd.to_numeric(posts.number_comments, errors ='coerce')"
   ]
  },
  {
   "cell_type": "code",
   "execution_count": 19,
   "id": "e9cc4774",
   "metadata": {},
   "outputs": [
    {
     "data": {
      "text/html": [
       "<div>\n",
       "<style scoped>\n",
       "    .dataframe tbody tr th:only-of-type {\n",
       "        vertical-align: middle;\n",
       "    }\n",
       "\n",
       "    .dataframe tbody tr th {\n",
       "        vertical-align: top;\n",
       "    }\n",
       "\n",
       "    .dataframe thead th {\n",
       "        text-align: right;\n",
       "    }\n",
       "</style>\n",
       "<table border=\"1\" class=\"dataframe\">\n",
       "  <thead>\n",
       "    <tr style=\"text-align: right;\">\n",
       "      <th></th>\n",
       "      <th>profile_id</th>\n",
       "      <th>profile_name</th>\n",
       "      <th>followers</th>\n",
       "      <th>n_posts</th>\n",
       "      <th>post_type</th>\n",
       "      <th>numbr_likes</th>\n",
       "      <th>number_comments</th>\n",
       "    </tr>\n",
       "  </thead>\n",
       "  <tbody>\n",
       "    <tr>\n",
       "      <th>0</th>\n",
       "      <td>25025320.0</td>\n",
       "      <td>instagram</td>\n",
       "      <td>285457645.0</td>\n",
       "      <td>5760.0</td>\n",
       "      <td>1.0</td>\n",
       "      <td>125428.0</td>\n",
       "      <td>1240.0</td>\n",
       "    </tr>\n",
       "    <tr>\n",
       "      <th>1</th>\n",
       "      <td>25025320.0</td>\n",
       "      <td>instagram</td>\n",
       "      <td>285457645.0</td>\n",
       "      <td>5760.0</td>\n",
       "      <td>1.0</td>\n",
       "      <td>669786.0</td>\n",
       "      <td>4818.0</td>\n",
       "    </tr>\n",
       "    <tr>\n",
       "      <th>2</th>\n",
       "      <td>25025320.0</td>\n",
       "      <td>instagram</td>\n",
       "      <td>285457645.0</td>\n",
       "      <td>5760.0</td>\n",
       "      <td>1.0</td>\n",
       "      <td>1914299.0</td>\n",
       "      <td>20065.0</td>\n",
       "    </tr>\n",
       "    <tr>\n",
       "      <th>3</th>\n",
       "      <td>25025320.0</td>\n",
       "      <td>instagram</td>\n",
       "      <td>285457645.0</td>\n",
       "      <td>5760.0</td>\n",
       "      <td>1.0</td>\n",
       "      <td>840588.0</td>\n",
       "      <td>3627.0</td>\n",
       "    </tr>\n",
       "    <tr>\n",
       "      <th>4</th>\n",
       "      <td>25025320.0</td>\n",
       "      <td>instagram</td>\n",
       "      <td>285457645.0</td>\n",
       "      <td>5760.0</td>\n",
       "      <td>1.0</td>\n",
       "      <td>385494.0</td>\n",
       "      <td>5664.0</td>\n",
       "    </tr>\n",
       "    <tr>\n",
       "      <th>...</th>\n",
       "      <td>...</td>\n",
       "      <td>...</td>\n",
       "      <td>...</td>\n",
       "      <td>...</td>\n",
       "      <td>...</td>\n",
       "      <td>...</td>\n",
       "      <td>...</td>\n",
       "    </tr>\n",
       "    <tr>\n",
       "      <th>136</th>\n",
       "      <td>907025384.0</td>\n",
       "      <td>akshaykumar</td>\n",
       "      <td>26252169.0</td>\n",
       "      <td>1173.0</td>\n",
       "      <td>1.0</td>\n",
       "      <td>241543.0</td>\n",
       "      <td>1152.0</td>\n",
       "    </tr>\n",
       "    <tr>\n",
       "      <th>137</th>\n",
       "      <td>907025384.0</td>\n",
       "      <td>akshaykumar</td>\n",
       "      <td>26252169.0</td>\n",
       "      <td>1173.0</td>\n",
       "      <td>1.0</td>\n",
       "      <td>797506.0</td>\n",
       "      <td>2733.0</td>\n",
       "    </tr>\n",
       "    <tr>\n",
       "      <th>138</th>\n",
       "      <td>907025384.0</td>\n",
       "      <td>akshaykumar</td>\n",
       "      <td>26252169.0</td>\n",
       "      <td>1173.0</td>\n",
       "      <td>1.0</td>\n",
       "      <td>921671.0</td>\n",
       "      <td>9349.0</td>\n",
       "    </tr>\n",
       "    <tr>\n",
       "      <th>139</th>\n",
       "      <td>907025384.0</td>\n",
       "      <td>akshaykumar</td>\n",
       "      <td>26252169.0</td>\n",
       "      <td>1173.0</td>\n",
       "      <td>1.0</td>\n",
       "      <td>1402087.0</td>\n",
       "      <td>16180.0</td>\n",
       "    </tr>\n",
       "    <tr>\n",
       "      <th>140</th>\n",
       "      <td>907025384.0</td>\n",
       "      <td>akshaykumar</td>\n",
       "      <td>26252169.0</td>\n",
       "      <td>1173.0</td>\n",
       "      <td>1.0</td>\n",
       "      <td>1646010.0</td>\n",
       "      <td>5548.0</td>\n",
       "    </tr>\n",
       "  </tbody>\n",
       "</table>\n",
       "<p>141 rows × 7 columns</p>\n",
       "</div>"
      ],
      "text/plain": [
       "      profile_id profile_name    followers  n_posts  post_type  numbr_likes  \\\n",
       "0     25025320.0    instagram  285457645.0   5760.0        1.0     125428.0   \n",
       "1     25025320.0    instagram  285457645.0   5760.0        1.0     669786.0   \n",
       "2     25025320.0    instagram  285457645.0   5760.0        1.0    1914299.0   \n",
       "3     25025320.0    instagram  285457645.0   5760.0        1.0     840588.0   \n",
       "4     25025320.0    instagram  285457645.0   5760.0        1.0     385494.0   \n",
       "..           ...          ...          ...      ...        ...          ...   \n",
       "136  907025384.0  akshaykumar   26252169.0   1173.0        1.0     241543.0   \n",
       "137  907025384.0  akshaykumar   26252169.0   1173.0        1.0     797506.0   \n",
       "138  907025384.0  akshaykumar   26252169.0   1173.0        1.0     921671.0   \n",
       "139  907025384.0  akshaykumar   26252169.0   1173.0        1.0    1402087.0   \n",
       "140  907025384.0  akshaykumar   26252169.0   1173.0        1.0    1646010.0   \n",
       "\n",
       "     number_comments  \n",
       "0             1240.0  \n",
       "1             4818.0  \n",
       "2            20065.0  \n",
       "3             3627.0  \n",
       "4             5664.0  \n",
       "..               ...  \n",
       "136           1152.0  \n",
       "137           2733.0  \n",
       "138           9349.0  \n",
       "139          16180.0  \n",
       "140           5548.0  \n",
       "\n",
       "[141 rows x 7 columns]"
      ]
     },
     "execution_count": 19,
     "metadata": {},
     "output_type": "execute_result"
    }
   ],
   "source": [
    "new_df = pd.merge(top_10_profiles, posts, on= 'profile_id', how = 'left')\n",
    "new_df"
   ]
  },
  {
   "cell_type": "code",
   "execution_count": 20,
   "id": "c03b4d0c",
   "metadata": {},
   "outputs": [
    {
     "data": {
      "text/html": [
       "<div>\n",
       "<style scoped>\n",
       "    .dataframe tbody tr th:only-of-type {\n",
       "        vertical-align: middle;\n",
       "    }\n",
       "\n",
       "    .dataframe tbody tr th {\n",
       "        vertical-align: top;\n",
       "    }\n",
       "\n",
       "    .dataframe thead th {\n",
       "        text-align: right;\n",
       "    }\n",
       "</style>\n",
       "<table border=\"1\" class=\"dataframe\">\n",
       "  <thead>\n",
       "    <tr style=\"text-align: right;\">\n",
       "      <th></th>\n",
       "      <th>profile_id</th>\n",
       "      <th>post_type</th>\n",
       "      <th>profile_name</th>\n",
       "      <th>published_posts</th>\n",
       "    </tr>\n",
       "  </thead>\n",
       "  <tbody>\n",
       "    <tr>\n",
       "      <th>0</th>\n",
       "      <td>3.416684e+06</td>\n",
       "      <td>1.0</td>\n",
       "      <td>victoriassecret</td>\n",
       "      <td>5</td>\n",
       "    </tr>\n",
       "    <tr>\n",
       "      <th>1</th>\n",
       "      <td>3.416684e+06</td>\n",
       "      <td>2.0</td>\n",
       "      <td>victoriassecret</td>\n",
       "      <td>2</td>\n",
       "    </tr>\n",
       "    <tr>\n",
       "      <th>2</th>\n",
       "      <td>2.082449e+07</td>\n",
       "      <td>1.0</td>\n",
       "      <td>nba</td>\n",
       "      <td>13</td>\n",
       "    </tr>\n",
       "    <tr>\n",
       "      <th>3</th>\n",
       "      <td>2.082449e+07</td>\n",
       "      <td>2.0</td>\n",
       "      <td>nba</td>\n",
       "      <td>5</td>\n",
       "    </tr>\n",
       "    <tr>\n",
       "      <th>4</th>\n",
       "      <td>2.341008e+07</td>\n",
       "      <td>1.0</td>\n",
       "      <td>hm</td>\n",
       "      <td>2</td>\n",
       "    </tr>\n",
       "    <tr>\n",
       "      <th>5</th>\n",
       "      <td>2.423993e+07</td>\n",
       "      <td>1.0</td>\n",
       "      <td>princessyahrini</td>\n",
       "      <td>23</td>\n",
       "    </tr>\n",
       "    <tr>\n",
       "      <th>6</th>\n",
       "      <td>2.423993e+07</td>\n",
       "      <td>2.0</td>\n",
       "      <td>princessyahrini</td>\n",
       "      <td>3</td>\n",
       "    </tr>\n",
       "    <tr>\n",
       "      <th>7</th>\n",
       "      <td>2.502532e+07</td>\n",
       "      <td>1.0</td>\n",
       "      <td>instagram</td>\n",
       "      <td>31</td>\n",
       "    </tr>\n",
       "    <tr>\n",
       "      <th>8</th>\n",
       "      <td>2.502532e+07</td>\n",
       "      <td>2.0</td>\n",
       "      <td>instagram</td>\n",
       "      <td>3</td>\n",
       "    </tr>\n",
       "    <tr>\n",
       "      <th>9</th>\n",
       "      <td>5.041706e+07</td>\n",
       "      <td>1.0</td>\n",
       "      <td>danbilzerian</td>\n",
       "      <td>15</td>\n",
       "    </tr>\n",
       "    <tr>\n",
       "      <th>10</th>\n",
       "      <td>1.876191e+08</td>\n",
       "      <td>1.0</td>\n",
       "      <td>louisvuitton</td>\n",
       "      <td>1</td>\n",
       "    </tr>\n",
       "    <tr>\n",
       "      <th>11</th>\n",
       "      <td>4.968651e+08</td>\n",
       "      <td>1.0</td>\n",
       "      <td>andresiniesta8</td>\n",
       "      <td>12</td>\n",
       "    </tr>\n",
       "    <tr>\n",
       "      <th>12</th>\n",
       "      <td>9.070254e+08</td>\n",
       "      <td>1.0</td>\n",
       "      <td>akshaykumar</td>\n",
       "      <td>13</td>\n",
       "    </tr>\n",
       "    <tr>\n",
       "      <th>13</th>\n",
       "      <td>2.125507e+09</td>\n",
       "      <td>1.0</td>\n",
       "      <td>buzzfeedtasty</td>\n",
       "      <td>13</td>\n",
       "    </tr>\n",
       "  </tbody>\n",
       "</table>\n",
       "</div>"
      ],
      "text/plain": [
       "      profile_id  post_type     profile_name  published_posts\n",
       "0   3.416684e+06        1.0  victoriassecret                5\n",
       "1   3.416684e+06        2.0  victoriassecret                2\n",
       "2   2.082449e+07        1.0              nba               13\n",
       "3   2.082449e+07        2.0              nba                5\n",
       "4   2.341008e+07        1.0               hm                2\n",
       "5   2.423993e+07        1.0  princessyahrini               23\n",
       "6   2.423993e+07        2.0  princessyahrini                3\n",
       "7   2.502532e+07        1.0        instagram               31\n",
       "8   2.502532e+07        2.0        instagram                3\n",
       "9   5.041706e+07        1.0     danbilzerian               15\n",
       "10  1.876191e+08        1.0     louisvuitton                1\n",
       "11  4.968651e+08        1.0   andresiniesta8               12\n",
       "12  9.070254e+08        1.0      akshaykumar               13\n",
       "13  2.125507e+09        1.0    buzzfeedtasty               13"
      ]
     },
     "execution_count": 20,
     "metadata": {},
     "output_type": "execute_result"
    }
   ],
   "source": [
    "posts_type = new_df.groupby(['profile_id', 'post_type', 'profile_name']).size().reset_index()\n",
    "posts_type.rename(columns = {0:'published_posts'}, inplace = True)\n",
    "posts_type"
   ]
  },
  {
   "cell_type": "code",
   "execution_count": 21,
   "id": "5502efb6",
   "metadata": {},
   "outputs": [
    {
     "data": {
      "text/html": [
       "<div>\n",
       "<style scoped>\n",
       "    .dataframe tbody tr th:only-of-type {\n",
       "        vertical-align: middle;\n",
       "    }\n",
       "\n",
       "    .dataframe tbody tr th {\n",
       "        vertical-align: top;\n",
       "    }\n",
       "\n",
       "    .dataframe thead th {\n",
       "        text-align: right;\n",
       "    }\n",
       "</style>\n",
       "<table border=\"1\" class=\"dataframe\">\n",
       "  <thead>\n",
       "    <tr style=\"text-align: right;\">\n",
       "      <th></th>\n",
       "      <th>profile_id</th>\n",
       "      <th>post_type</th>\n",
       "      <th>profile_name</th>\n",
       "      <th>published_posts</th>\n",
       "      <th>%</th>\n",
       "    </tr>\n",
       "  </thead>\n",
       "  <tbody>\n",
       "    <tr>\n",
       "      <th>0</th>\n",
       "      <td>3.416684e+06</td>\n",
       "      <td>1.0</td>\n",
       "      <td>victoriassecret</td>\n",
       "      <td>5</td>\n",
       "      <td>71.428571</td>\n",
       "    </tr>\n",
       "    <tr>\n",
       "      <th>1</th>\n",
       "      <td>3.416684e+06</td>\n",
       "      <td>2.0</td>\n",
       "      <td>victoriassecret</td>\n",
       "      <td>2</td>\n",
       "      <td>28.571429</td>\n",
       "    </tr>\n",
       "    <tr>\n",
       "      <th>2</th>\n",
       "      <td>2.082449e+07</td>\n",
       "      <td>1.0</td>\n",
       "      <td>nba</td>\n",
       "      <td>13</td>\n",
       "      <td>72.222222</td>\n",
       "    </tr>\n",
       "    <tr>\n",
       "      <th>3</th>\n",
       "      <td>2.082449e+07</td>\n",
       "      <td>2.0</td>\n",
       "      <td>nba</td>\n",
       "      <td>5</td>\n",
       "      <td>27.777778</td>\n",
       "    </tr>\n",
       "    <tr>\n",
       "      <th>4</th>\n",
       "      <td>2.341008e+07</td>\n",
       "      <td>1.0</td>\n",
       "      <td>hm</td>\n",
       "      <td>2</td>\n",
       "      <td>100.000000</td>\n",
       "    </tr>\n",
       "    <tr>\n",
       "      <th>5</th>\n",
       "      <td>2.423993e+07</td>\n",
       "      <td>1.0</td>\n",
       "      <td>princessyahrini</td>\n",
       "      <td>23</td>\n",
       "      <td>88.461538</td>\n",
       "    </tr>\n",
       "    <tr>\n",
       "      <th>6</th>\n",
       "      <td>2.423993e+07</td>\n",
       "      <td>2.0</td>\n",
       "      <td>princessyahrini</td>\n",
       "      <td>3</td>\n",
       "      <td>11.538462</td>\n",
       "    </tr>\n",
       "    <tr>\n",
       "      <th>7</th>\n",
       "      <td>2.502532e+07</td>\n",
       "      <td>1.0</td>\n",
       "      <td>instagram</td>\n",
       "      <td>31</td>\n",
       "      <td>91.176471</td>\n",
       "    </tr>\n",
       "    <tr>\n",
       "      <th>8</th>\n",
       "      <td>2.502532e+07</td>\n",
       "      <td>2.0</td>\n",
       "      <td>instagram</td>\n",
       "      <td>3</td>\n",
       "      <td>8.823529</td>\n",
       "    </tr>\n",
       "    <tr>\n",
       "      <th>9</th>\n",
       "      <td>5.041706e+07</td>\n",
       "      <td>1.0</td>\n",
       "      <td>danbilzerian</td>\n",
       "      <td>15</td>\n",
       "      <td>100.000000</td>\n",
       "    </tr>\n",
       "    <tr>\n",
       "      <th>10</th>\n",
       "      <td>1.876191e+08</td>\n",
       "      <td>1.0</td>\n",
       "      <td>louisvuitton</td>\n",
       "      <td>1</td>\n",
       "      <td>100.000000</td>\n",
       "    </tr>\n",
       "    <tr>\n",
       "      <th>11</th>\n",
       "      <td>4.968651e+08</td>\n",
       "      <td>1.0</td>\n",
       "      <td>andresiniesta8</td>\n",
       "      <td>12</td>\n",
       "      <td>100.000000</td>\n",
       "    </tr>\n",
       "    <tr>\n",
       "      <th>12</th>\n",
       "      <td>9.070254e+08</td>\n",
       "      <td>1.0</td>\n",
       "      <td>akshaykumar</td>\n",
       "      <td>13</td>\n",
       "      <td>100.000000</td>\n",
       "    </tr>\n",
       "    <tr>\n",
       "      <th>13</th>\n",
       "      <td>2.125507e+09</td>\n",
       "      <td>1.0</td>\n",
       "      <td>buzzfeedtasty</td>\n",
       "      <td>13</td>\n",
       "      <td>100.000000</td>\n",
       "    </tr>\n",
       "  </tbody>\n",
       "</table>\n",
       "</div>"
      ],
      "text/plain": [
       "      profile_id  post_type     profile_name  published_posts           %\n",
       "0   3.416684e+06        1.0  victoriassecret                5   71.428571\n",
       "1   3.416684e+06        2.0  victoriassecret                2   28.571429\n",
       "2   2.082449e+07        1.0              nba               13   72.222222\n",
       "3   2.082449e+07        2.0              nba                5   27.777778\n",
       "4   2.341008e+07        1.0               hm                2  100.000000\n",
       "5   2.423993e+07        1.0  princessyahrini               23   88.461538\n",
       "6   2.423993e+07        2.0  princessyahrini                3   11.538462\n",
       "7   2.502532e+07        1.0        instagram               31   91.176471\n",
       "8   2.502532e+07        2.0        instagram                3    8.823529\n",
       "9   5.041706e+07        1.0     danbilzerian               15  100.000000\n",
       "10  1.876191e+08        1.0     louisvuitton                1  100.000000\n",
       "11  4.968651e+08        1.0   andresiniesta8               12  100.000000\n",
       "12  9.070254e+08        1.0      akshaykumar               13  100.000000\n",
       "13  2.125507e+09        1.0    buzzfeedtasty               13  100.000000"
      ]
     },
     "execution_count": 21,
     "metadata": {},
     "output_type": "execute_result"
    }
   ],
   "source": [
    "new_df2 = posts_type.groupby(['profile_name', 'published_posts', 'post_type']).agg({'published_posts': 'sum'})\n",
    "new_df3 = new_df2.groupby(level=0).apply(lambda x:100 * x / float(x.sum()))\n",
    "posts_type['%'] = 100 * posts_type['published_posts'] / posts_type.groupby('profile_name')['published_posts'].transform('sum')\n",
    "posts_type"
   ]
  },
  {
   "cell_type": "markdown",
   "id": "facf99e4",
   "metadata": {},
   "source": [
    "As you can see from the table above, no posts published by the most influential profiles contain both videos and photos. In particular, 6 out of 10 of them published posts containing only photos; of these 6 users, therefore, there are no posts with videos, but only posts containing photos. As for the 4 profiles that have published both posts with photos and posts containing videos, they are Instagram, princessyahrini, NBA and VictoriaSecret. In particular, as regards the last two, it is noted that the percentage of videos published is much bigger then the percentage of videos published from the other two profiles (Instagram and princessyahrini). The fact that NBA has a high number of videos published compared to the others, is presumably given by the fact that being a sports association it publishes many videos regarding highlights of played matches or videos regarding clips of matches."
   ]
  },
  {
   "cell_type": "markdown",
   "id": "fa486d0c",
   "metadata": {},
   "source": [
    "## How many \"likes\" and comments did posts with only pictures receive? How about videos and mixed posts? Try to provide the average numbers and confront them with their followers amount, explaining what you can say from that comparison."
   ]
  },
  {
   "cell_type": "code",
   "execution_count": 22,
   "id": "675684cc",
   "metadata": {},
   "outputs": [],
   "source": [
    "likes = new_df.groupby(['profile_id', 'post_type','profile_name','followers']).sum().reset_index()\n",
    "likes['published_posts'] = posts_type['published_posts']\n",
    "likes['mean_comments'] = likes['number_comments']/likes['published_posts']\n",
    "likes['mean_likes'] = likes['numbr_likes']/likes['published_posts']\n",
    "likes['%like/followers'] = likes['mean_likes']/likes['followers']*100"
   ]
  },
  {
   "cell_type": "code",
   "execution_count": 23,
   "id": "3652e074",
   "metadata": {},
   "outputs": [
    {
     "data": {
      "text/html": [
       "<div>\n",
       "<style scoped>\n",
       "    .dataframe tbody tr th:only-of-type {\n",
       "        vertical-align: middle;\n",
       "    }\n",
       "\n",
       "    .dataframe tbody tr th {\n",
       "        vertical-align: top;\n",
       "    }\n",
       "\n",
       "    .dataframe thead th {\n",
       "        text-align: right;\n",
       "    }\n",
       "</style>\n",
       "<table border=\"1\" class=\"dataframe\">\n",
       "  <thead>\n",
       "    <tr style=\"text-align: right;\">\n",
       "      <th></th>\n",
       "      <th>profile_id</th>\n",
       "      <th>post_type</th>\n",
       "      <th>profile_name</th>\n",
       "      <th>followers</th>\n",
       "      <th>n_posts</th>\n",
       "      <th>numbr_likes</th>\n",
       "      <th>number_comments</th>\n",
       "      <th>published_posts</th>\n",
       "      <th>mean_comments</th>\n",
       "      <th>mean_likes</th>\n",
       "      <th>%like/followers</th>\n",
       "    </tr>\n",
       "  </thead>\n",
       "  <tbody>\n",
       "    <tr>\n",
       "      <th>0</th>\n",
       "      <td>3416684.000</td>\n",
       "      <td>1.000</td>\n",
       "      <td>victoriassecret</td>\n",
       "      <td>65269440.000</td>\n",
       "      <td>36775.000</td>\n",
       "      <td>1153749.000</td>\n",
       "      <td>2192.000</td>\n",
       "      <td>5</td>\n",
       "      <td>438.400</td>\n",
       "      <td>230749.800</td>\n",
       "      <td>0.354</td>\n",
       "    </tr>\n",
       "    <tr>\n",
       "      <th>1</th>\n",
       "      <td>3416684.000</td>\n",
       "      <td>2.000</td>\n",
       "      <td>victoriassecret</td>\n",
       "      <td>65269440.000</td>\n",
       "      <td>14710.000</td>\n",
       "      <td>522816.000</td>\n",
       "      <td>1166.000</td>\n",
       "      <td>2</td>\n",
       "      <td>583.000</td>\n",
       "      <td>261408.000</td>\n",
       "      <td>0.401</td>\n",
       "    </tr>\n",
       "    <tr>\n",
       "      <th>2</th>\n",
       "      <td>20824486.000</td>\n",
       "      <td>1.000</td>\n",
       "      <td>nba</td>\n",
       "      <td>35339708.000</td>\n",
       "      <td>374608.000</td>\n",
       "      <td>3149064.000</td>\n",
       "      <td>14142.000</td>\n",
       "      <td>13</td>\n",
       "      <td>1087.846</td>\n",
       "      <td>242235.692</td>\n",
       "      <td>0.685</td>\n",
       "    </tr>\n",
       "    <tr>\n",
       "      <th>3</th>\n",
       "      <td>20824486.000</td>\n",
       "      <td>2.000</td>\n",
       "      <td>nba</td>\n",
       "      <td>35339708.000</td>\n",
       "      <td>144080.000</td>\n",
       "      <td>1036478.000</td>\n",
       "      <td>5134.000</td>\n",
       "      <td>5</td>\n",
       "      <td>1026.800</td>\n",
       "      <td>207295.600</td>\n",
       "      <td>0.587</td>\n",
       "    </tr>\n",
       "    <tr>\n",
       "      <th>4</th>\n",
       "      <td>23410080.000</td>\n",
       "      <td>1.000</td>\n",
       "      <td>hm</td>\n",
       "      <td>29176804.000</td>\n",
       "      <td>9132.000</td>\n",
       "      <td>162427.000</td>\n",
       "      <td>730.000</td>\n",
       "      <td>2</td>\n",
       "      <td>365.000</td>\n",
       "      <td>81213.500</td>\n",
       "      <td>0.278</td>\n",
       "    </tr>\n",
       "    <tr>\n",
       "      <th>5</th>\n",
       "      <td>24239929.000</td>\n",
       "      <td>1.000</td>\n",
       "      <td>princessyahrini</td>\n",
       "      <td>29042823.000</td>\n",
       "      <td>108537.000</td>\n",
       "      <td>3263087.000</td>\n",
       "      <td>17421.000</td>\n",
       "      <td>23</td>\n",
       "      <td>757.435</td>\n",
       "      <td>141873.348</td>\n",
       "      <td>0.488</td>\n",
       "    </tr>\n",
       "    <tr>\n",
       "      <th>6</th>\n",
       "      <td>24239929.000</td>\n",
       "      <td>2.000</td>\n",
       "      <td>princessyahrini</td>\n",
       "      <td>29042823.000</td>\n",
       "      <td>14157.000</td>\n",
       "      <td>125291.000</td>\n",
       "      <td>2710.000</td>\n",
       "      <td>3</td>\n",
       "      <td>903.333</td>\n",
       "      <td>41763.667</td>\n",
       "      <td>0.144</td>\n",
       "    </tr>\n",
       "    <tr>\n",
       "      <th>7</th>\n",
       "      <td>25025320.000</td>\n",
       "      <td>1.000</td>\n",
       "      <td>instagram</td>\n",
       "      <td>285457645.000</td>\n",
       "      <td>178560.000</td>\n",
       "      <td>28083937.000</td>\n",
       "      <td>207802.000</td>\n",
       "      <td>31</td>\n",
       "      <td>6703.290</td>\n",
       "      <td>905933.452</td>\n",
       "      <td>0.317</td>\n",
       "    </tr>\n",
       "    <tr>\n",
       "      <th>8</th>\n",
       "      <td>25025320.000</td>\n",
       "      <td>2.000</td>\n",
       "      <td>instagram</td>\n",
       "      <td>285457645.000</td>\n",
       "      <td>17280.000</td>\n",
       "      <td>1780229.000</td>\n",
       "      <td>17248.000</td>\n",
       "      <td>3</td>\n",
       "      <td>5749.333</td>\n",
       "      <td>593409.667</td>\n",
       "      <td>0.208</td>\n",
       "    </tr>\n",
       "    <tr>\n",
       "      <th>9</th>\n",
       "      <td>50417061.000</td>\n",
       "      <td>1.000</td>\n",
       "      <td>danbilzerian</td>\n",
       "      <td>26476004.000</td>\n",
       "      <td>19665.000</td>\n",
       "      <td>12946699.000</td>\n",
       "      <td>128921.000</td>\n",
       "      <td>15</td>\n",
       "      <td>8594.733</td>\n",
       "      <td>863113.267</td>\n",
       "      <td>3.260</td>\n",
       "    </tr>\n",
       "    <tr>\n",
       "      <th>10</th>\n",
       "      <td>187619120.000</td>\n",
       "      <td>1.000</td>\n",
       "      <td>louisvuitton</td>\n",
       "      <td>30689316.000</td>\n",
       "      <td>3352.000</td>\n",
       "      <td>186857.000</td>\n",
       "      <td>867.000</td>\n",
       "      <td>1</td>\n",
       "      <td>867.000</td>\n",
       "      <td>186857.000</td>\n",
       "      <td>0.609</td>\n",
       "    </tr>\n",
       "    <tr>\n",
       "      <th>11</th>\n",
       "      <td>496865116.000</td>\n",
       "      <td>1.000</td>\n",
       "      <td>andresiniesta8</td>\n",
       "      <td>29542143.000</td>\n",
       "      <td>11880.000</td>\n",
       "      <td>5676272.000</td>\n",
       "      <td>26845.000</td>\n",
       "      <td>12</td>\n",
       "      <td>2237.083</td>\n",
       "      <td>473022.667</td>\n",
       "      <td>1.601</td>\n",
       "    </tr>\n",
       "    <tr>\n",
       "      <th>12</th>\n",
       "      <td>907025384.000</td>\n",
       "      <td>1.000</td>\n",
       "      <td>akshaykumar</td>\n",
       "      <td>26252169.000</td>\n",
       "      <td>15249.000</td>\n",
       "      <td>13352324.000</td>\n",
       "      <td>85572.000</td>\n",
       "      <td>13</td>\n",
       "      <td>6582.462</td>\n",
       "      <td>1027101.846</td>\n",
       "      <td>3.912</td>\n",
       "    </tr>\n",
       "    <tr>\n",
       "      <th>13</th>\n",
       "      <td>2125506698.000</td>\n",
       "      <td>1.000</td>\n",
       "      <td>buzzfeedtasty</td>\n",
       "      <td>30246783.000</td>\n",
       "      <td>36283.000</td>\n",
       "      <td>1311218.000</td>\n",
       "      <td>12521.000</td>\n",
       "      <td>13</td>\n",
       "      <td>963.154</td>\n",
       "      <td>100862.923</td>\n",
       "      <td>0.333</td>\n",
       "    </tr>\n",
       "  </tbody>\n",
       "</table>\n",
       "</div>"
      ],
      "text/plain": [
       "       profile_id  post_type     profile_name     followers    n_posts  \\\n",
       "0     3416684.000      1.000  victoriassecret  65269440.000  36775.000   \n",
       "1     3416684.000      2.000  victoriassecret  65269440.000  14710.000   \n",
       "2    20824486.000      1.000              nba  35339708.000 374608.000   \n",
       "3    20824486.000      2.000              nba  35339708.000 144080.000   \n",
       "4    23410080.000      1.000               hm  29176804.000   9132.000   \n",
       "5    24239929.000      1.000  princessyahrini  29042823.000 108537.000   \n",
       "6    24239929.000      2.000  princessyahrini  29042823.000  14157.000   \n",
       "7    25025320.000      1.000        instagram 285457645.000 178560.000   \n",
       "8    25025320.000      2.000        instagram 285457645.000  17280.000   \n",
       "9    50417061.000      1.000     danbilzerian  26476004.000  19665.000   \n",
       "10  187619120.000      1.000     louisvuitton  30689316.000   3352.000   \n",
       "11  496865116.000      1.000   andresiniesta8  29542143.000  11880.000   \n",
       "12  907025384.000      1.000      akshaykumar  26252169.000  15249.000   \n",
       "13 2125506698.000      1.000    buzzfeedtasty  30246783.000  36283.000   \n",
       "\n",
       "    numbr_likes  number_comments  published_posts  mean_comments  mean_likes  \\\n",
       "0   1153749.000         2192.000                5        438.400  230749.800   \n",
       "1    522816.000         1166.000                2        583.000  261408.000   \n",
       "2   3149064.000        14142.000               13       1087.846  242235.692   \n",
       "3   1036478.000         5134.000                5       1026.800  207295.600   \n",
       "4    162427.000          730.000                2        365.000   81213.500   \n",
       "5   3263087.000        17421.000               23        757.435  141873.348   \n",
       "6    125291.000         2710.000                3        903.333   41763.667   \n",
       "7  28083937.000       207802.000               31       6703.290  905933.452   \n",
       "8   1780229.000        17248.000                3       5749.333  593409.667   \n",
       "9  12946699.000       128921.000               15       8594.733  863113.267   \n",
       "10   186857.000          867.000                1        867.000  186857.000   \n",
       "11  5676272.000        26845.000               12       2237.083  473022.667   \n",
       "12 13352324.000        85572.000               13       6582.462 1027101.846   \n",
       "13  1311218.000        12521.000               13        963.154  100862.923   \n",
       "\n",
       "    %like/followers  \n",
       "0             0.354  \n",
       "1             0.401  \n",
       "2             0.685  \n",
       "3             0.587  \n",
       "4             0.278  \n",
       "5             0.488  \n",
       "6             0.144  \n",
       "7             0.317  \n",
       "8             0.208  \n",
       "9             3.260  \n",
       "10            0.609  \n",
       "11            1.601  \n",
       "12            3.912  \n",
       "13            0.333  "
      ]
     },
     "execution_count": 23,
     "metadata": {},
     "output_type": "execute_result"
    }
   ],
   "source": [
    "pd.options.display.float_format = '{:.3f}'.format\n",
    "likes"
   ]
  },
  {
   "cell_type": "markdown",
   "id": "6b897c73",
   "metadata": {},
   "source": [
    "From the table above you can see how many likes and comments the posts with only photos or videos have received. In addition, for each profile (of the top 10) we have created two columns that respectively highlight the number of likes and the number of average comments for posts with only photos and with only videos. The column of average likes, we then compared it with the respective followers of the users, creating another column that actually indicates the average percentage of followers who like the posts. From this it is clear that the 'akshaykumar' and 'danbilzerian' profiles are those where on average more followers like the posts; in fact in these profiles, on average, respectively 3.9% and 3.3% of followers like the posts, while this percentage in all other profiles is always less than 1%, except in the 'andresiniesta8' profile, where it is equal at 1.6%."
   ]
  },
  {
   "cell_type": "markdown",
   "id": "a856edaa",
   "metadata": {},
   "source": [
    "_______________"
   ]
  },
  {
   "cell_type": "markdown",
   "id": "214855a6",
   "metadata": {},
   "source": [
    "# **Research Question 6 - Posting effectiveness**"
   ]
  },
  {
   "cell_type": "markdown",
   "id": "6f189c9b",
   "metadata": {},
   "source": [
    "## What is the average time (days and minutes) a user lets pass before publishing another post? \n",
    "Plot the top 3 users that publish posts more frequently (calculate the average time that passes between posts), including their amount of followers and following. Provide insights from that chart."
   ]
  },
  {
   "cell_type": "markdown",
   "id": "f50cd844",
   "metadata": {},
   "source": [
    "Load instagram_profiles.csv dataset into a Pandas Dataframe object:"
   ]
  },
  {
   "cell_type": "code",
   "execution_count": 3,
   "id": "63ba30ac",
   "metadata": {},
   "outputs": [],
   "source": [
    "data_profiles = pd.read_csv('~/instagram_profiles.zip', delimiter = '\\t', usecols = ['sid',\n",
    "                                                                                    'profile_name', \n",
    "                                                                                    'following', \n",
    "                                                                                    'followers',\n",
    "                                                                                    'n_posts'])"
   ]
  },
  {
   "cell_type": "markdown",
   "id": "8eec2f88",
   "metadata": {},
   "source": [
    "Rename column 'sid' to 'sid_profile' (to simplify the merge operation later on):"
   ]
  },
  {
   "cell_type": "code",
   "execution_count": 4,
   "id": "4611d80f",
   "metadata": {},
   "outputs": [],
   "source": [
    "data_profiles.rename(columns = {'sid':'sid_profile'}, inplace = True)"
   ]
  },
  {
   "cell_type": "markdown",
   "id": "33f12f67",
   "metadata": {},
   "source": [
    "Get a glimpse of the dataframe structure:"
   ]
  },
  {
   "cell_type": "code",
   "execution_count": 5,
   "id": "cd615d28",
   "metadata": {},
   "outputs": [
    {
     "data": {
      "text/html": [
       "<div>\n",
       "<style scoped>\n",
       "    .dataframe tbody tr th:only-of-type {\n",
       "        vertical-align: middle;\n",
       "    }\n",
       "\n",
       "    .dataframe tbody tr th {\n",
       "        vertical-align: top;\n",
       "    }\n",
       "\n",
       "    .dataframe thead th {\n",
       "        text-align: right;\n",
       "    }\n",
       "</style>\n",
       "<table border=\"1\" class=\"dataframe\">\n",
       "  <thead>\n",
       "    <tr style=\"text-align: right;\">\n",
       "      <th></th>\n",
       "      <th>sid_profile</th>\n",
       "      <th>profile_name</th>\n",
       "      <th>following</th>\n",
       "      <th>followers</th>\n",
       "      <th>n_posts</th>\n",
       "    </tr>\n",
       "  </thead>\n",
       "  <tbody>\n",
       "    <tr>\n",
       "      <th>0</th>\n",
       "      <td>4184446</td>\n",
       "      <td>jphillip033</td>\n",
       "      <td>250.0</td>\n",
       "      <td>146.0</td>\n",
       "      <td>170.0</td>\n",
       "    </tr>\n",
       "    <tr>\n",
       "      <th>1</th>\n",
       "      <td>4184457</td>\n",
       "      <td>mama_haas</td>\n",
       "      <td>534.0</td>\n",
       "      <td>1145.0</td>\n",
       "      <td>2878.0</td>\n",
       "    </tr>\n",
       "    <tr>\n",
       "      <th>2</th>\n",
       "      <td>4184460</td>\n",
       "      <td>yellowlightbreen</td>\n",
       "      <td>469.0</td>\n",
       "      <td>324.0</td>\n",
       "      <td>431.0</td>\n",
       "    </tr>\n",
       "    <tr>\n",
       "      <th>3</th>\n",
       "      <td>4184461</td>\n",
       "      <td>tec1025</td>\n",
       "      <td>NaN</td>\n",
       "      <td>NaN</td>\n",
       "      <td>NaN</td>\n",
       "    </tr>\n",
       "    <tr>\n",
       "      <th>4</th>\n",
       "      <td>4184462</td>\n",
       "      <td>luckyfluff</td>\n",
       "      <td>NaN</td>\n",
       "      <td>NaN</td>\n",
       "      <td>NaN</td>\n",
       "    </tr>\n",
       "    <tr>\n",
       "      <th>...</th>\n",
       "      <td>...</td>\n",
       "      <td>...</td>\n",
       "      <td>...</td>\n",
       "      <td>...</td>\n",
       "      <td>...</td>\n",
       "    </tr>\n",
       "    <tr>\n",
       "      <th>4509581</th>\n",
       "      <td>4184467</td>\n",
       "      <td>karenarkesteyn</td>\n",
       "      <td>468.0</td>\n",
       "      <td>481.0</td>\n",
       "      <td>497.0</td>\n",
       "    </tr>\n",
       "    <tr>\n",
       "      <th>4509582</th>\n",
       "      <td>4184469</td>\n",
       "      <td>jornvlaeminck</td>\n",
       "      <td>NaN</td>\n",
       "      <td>NaN</td>\n",
       "      <td>NaN</td>\n",
       "    </tr>\n",
       "    <tr>\n",
       "      <th>4509583</th>\n",
       "      <td>4184470</td>\n",
       "      <td>s_degol</td>\n",
       "      <td>NaN</td>\n",
       "      <td>NaN</td>\n",
       "      <td>NaN</td>\n",
       "    </tr>\n",
       "    <tr>\n",
       "      <th>4509584</th>\n",
       "      <td>4184473</td>\n",
       "      <td>anwilms</td>\n",
       "      <td>504.0</td>\n",
       "      <td>153.0</td>\n",
       "      <td>183.0</td>\n",
       "    </tr>\n",
       "    <tr>\n",
       "      <th>4509585</th>\n",
       "      <td>4184511</td>\n",
       "      <td>arnaubassols_</td>\n",
       "      <td>NaN</td>\n",
       "      <td>NaN</td>\n",
       "      <td>NaN</td>\n",
       "    </tr>\n",
       "  </tbody>\n",
       "</table>\n",
       "<p>4509586 rows × 5 columns</p>\n",
       "</div>"
      ],
      "text/plain": [
       "         sid_profile      profile_name  following  followers  n_posts\n",
       "0            4184446       jphillip033      250.0      146.0    170.0\n",
       "1            4184457         mama_haas      534.0     1145.0   2878.0\n",
       "2            4184460  yellowlightbreen      469.0      324.0    431.0\n",
       "3            4184461           tec1025        NaN        NaN      NaN\n",
       "4            4184462        luckyfluff        NaN        NaN      NaN\n",
       "...              ...               ...        ...        ...      ...\n",
       "4509581      4184467    karenarkesteyn      468.0      481.0    497.0\n",
       "4509582      4184469     jornvlaeminck        NaN        NaN      NaN\n",
       "4509583      4184470           s_degol        NaN        NaN      NaN\n",
       "4509584      4184473           anwilms      504.0      153.0    183.0\n",
       "4509585      4184511     arnaubassols_        NaN        NaN      NaN\n",
       "\n",
       "[4509586 rows x 5 columns]"
      ]
     },
     "execution_count": 5,
     "metadata": {},
     "output_type": "execute_result"
    }
   ],
   "source": [
    "data_profiles"
   ]
  },
  {
   "cell_type": "markdown",
   "id": "d2ad0ce2",
   "metadata": {},
   "source": [
    "Define a couple of useful functions:"
   ]
  },
  {
   "cell_type": "code",
   "execution_count": 6,
   "id": "3548e6c3",
   "metadata": {},
   "outputs": [],
   "source": [
    "#Function to clean and prepare the dataframe for further processing\n",
    "def refine_result(dataframe):\n",
    "    dataframe.drop_duplicates(inplace = True)\n",
    "    dataframe.dropna(inplace = True)\n",
    "    dataframe.drop(dataframe[dataframe.n_posts <= 1].index, inplace = True)\n",
    "    dataframe.cts = pd.to_datetime(dataframe.cts)\n",
    "    \n",
    "#Function that calculates the average delta among a group of user's posts\n",
    "def average_time(grp):\n",
    "    dict = {}\n",
    "    for k, g in grp:\n",
    "        if g.cts.size > 1:\n",
    "            #Calculate timedeltas\n",
    "            deltas = []\n",
    "            for i in range(g.cts.size - 1):\n",
    "                d = g.cts[grp.groups[k][i+1]] - g.cts[grp.groups[k][i]]\n",
    "                deltas.append(d)\n",
    "            #Calculate the average\n",
    "            deltas = pd.Series(deltas) #convert to Series to use sum() method without iterating\n",
    "            avg = deltas.sum() / len(deltas)\n",
    "            dict[k] = avg\n",
    "        else:\n",
    "            continue \n",
    "    return dict"
   ]
  },
  {
   "cell_type": "markdown",
   "id": "dbf79b26",
   "metadata": {},
   "source": [
    "Actually begin data processing. <br>\n",
    "**NOTE:** we merge on *sid_profile*, not on *profile_id*, because the latter contains NA values in the original datasets: joining them on that attribute would mean to cut out some potentially significant information about yet available profiles, so we choose sid_profile instead, that has an explicit constraint to be non-null."
   ]
  },
  {
   "cell_type": "code",
   "execution_count": null,
   "id": "b89ce210",
   "metadata": {},
   "outputs": [],
   "source": [
    "#Prepare a data structure to store the result of data processing.\n",
    "#We use a dictionary with key = sid_profile, value = average posting rate\n",
    "final = {}\n",
    "\n",
    "#86 iterations expected\n",
    "for chunk in tqdm(pd.read_csv('~/instagram_posts.csv', delimiter='\\t', usecols = ['sid_profile', 'cts'], chunksize = 500000)):\n",
    "   \n",
    "    result = pd.merge(data_profiles, chunk, on = 'sid_profile')\n",
    "    result.sort_values(by = 'cts', inplace = True)\n",
    "    refine_result(result)\n",
    "    \n",
    "    grp = result.groupby('sid_profile')\n",
    "    \n",
    "    diz = average_time(grp)\n",
    "    \n",
    "    final.update(diz)\n",
    "    \n",
    "print('Unbelievably true')"
   ]
  },
  {
   "cell_type": "code",
   "execution_count": null,
   "id": "aeca6b59",
   "metadata": {},
   "outputs": [],
   "source": [
    "Checks on the dictionary's dimensionality:"
   ]
  },
  {
   "cell_type": "code",
   "execution_count": null,
   "id": "03e14a1b",
   "metadata": {},
   "outputs": [],
   "source": [
    "final"
   ]
  },
  {
   "cell_type": "code",
   "execution_count": null,
   "id": "360ac40c",
   "metadata": {},
   "outputs": [],
   "source": [
    "#Number of posts and profiles actually common to both datasets\n",
    "len(final)"
   ]
  },
  {
   "cell_type": "markdown",
   "id": "00fda395",
   "metadata": {},
   "source": [
    "**NOTE:** Some profiles may have been associated with a null average rate, so we remove them as they can't give us any relevant information for our analysis' purpose. So we do some further processing to extrapolate the answer."
   ]
  },
  {
   "cell_type": "code",
   "execution_count": null,
   "id": "8d8cb971",
   "metadata": {},
   "outputs": [],
   "source": [
    "#Define a null delta to enable comparison\n",
    "zero_delta = pd.Timedelta(0)\n",
    "\n",
    "#Use dict comprehension to cut out the null deltas\n",
    "final = {x:y for x, y in final.items() if y != zero_delta}\n",
    "\n",
    "#Return a list of sid_profiles ordered by smaller average rate\n",
    "top_freq = sorted(final, key = final.get) "
   ]
  },
  {
   "cell_type": "code",
   "execution_count": null,
   "id": "b6ea2f8c",
   "metadata": {},
   "outputs": [],
   "source": [
    "top_freq #list of sid_profiles"
   ]
  },
  {
   "cell_type": "markdown",
   "id": "715de197",
   "metadata": {},
   "source": [
    "<br>\n",
    "We extract the average time of the first 3 users that post more frequently: <br>\n",
    "<br>"
   ]
  },
  {
   "cell_type": "code",
   "execution_count": null,
   "id": "94c06bb6",
   "metadata": {},
   "outputs": [],
   "source": [
    "final[top_freq[0]]"
   ]
  },
  {
   "cell_type": "code",
   "execution_count": null,
   "id": "9c4cfb15",
   "metadata": {},
   "outputs": [],
   "source": [
    "final[top_freq[1]]"
   ]
  },
  {
   "cell_type": "code",
   "execution_count": null,
   "id": "ad8d738e",
   "metadata": {},
   "outputs": [],
   "source": [
    "final[top_freq[2]]"
   ]
  },
  {
   "cell_type": "markdown",
   "id": "d86c23e1",
   "metadata": {},
   "source": [
    "<br>\n",
    "We extract the first 3 users that have the previously shown average posting rates: <br>\n",
    "<br>"
   ]
  },
  {
   "cell_type": "code",
   "execution_count": null,
   "id": "6c0a2ce0",
   "metadata": {},
   "outputs": [],
   "source": [
    "data_profiles.loc[data_profiles.sid_profile == top_freq[0]]"
   ]
  },
  {
   "cell_type": "code",
   "execution_count": null,
   "id": "5c1954fe",
   "metadata": {},
   "outputs": [],
   "source": [
    "data_profiles.loc[data_profiles.sid_profile == top_freq[1]]"
   ]
  },
  {
   "cell_type": "code",
   "execution_count": null,
   "id": "09e5ec2d",
   "metadata": {},
   "outputs": [],
   "source": [
    "data_profiles.loc[data_profiles.sid_profile == top_freq[2]]"
   ]
  },
  {
   "cell_type": "markdown",
   "id": "39edf92f",
   "metadata": {},
   "source": [
    "<br>\n",
    "Finally, we graphically plot the number of following, followers and posts that these 3 users have. <br>\n",
    "<br>"
   ]
  },
  {
   "cell_type": "code",
   "execution_count": null,
   "id": "dfb0e3af",
   "metadata": {},
   "outputs": [],
   "source": [
    "df = pd.concat([x1, x2, x3])\n",
    "df.pop('sid_profile')\n",
    "df.pop('profile_name')\n",
    "df"
   ]
  },
  {
   "cell_type": "code",
   "execution_count": null,
   "id": "afcf8f54",
   "metadata": {},
   "outputs": [],
   "source": [
    "df.plot(kind = 'bar', subplots = True, figsize = (16, 9), layout = (1, 3), title = 'Plot the top 3 users')\n",
    "fig.tight_layout()"
   ]
  },
  {
   "cell_type": "markdown",
   "id": "01dda245",
   "metadata": {},
   "source": [
    "From the plot of the 3 profiles that publish more frequently, we can see that there's no real connection between the rate of posts and the number of followers they get. In fact, the third user has substancially more followers than the first two, though his/her average time of posts is smaller. Although, all 3 top users have an average posting rate of a few hundredths of a second, so it's a too small difference to claim anything. We should study the distribution of followers and number of posts for intervals of average rates of posting to make this investigation more relevant. In addition, the timedeltas are so small that this users are most likely bots or fake profiles, as we can say examining the data of the first profile: it published 18 posts with an average waiting time from one post to another of 0.09 seconds. It's not a rate a human can reasonably keep up with."
   ]
  },
  {
   "cell_type": "markdown",
   "id": "002228ca",
   "metadata": {},
   "source": [
    "## Using the function you previously coded, plot the time intervals with the highest average number of “likes” and the ones with the highest average number of comments on posts."
   ]
  },
  {
   "cell_type": "markdown",
   "id": "add621a3",
   "metadata": {},
   "source": [
    "Define useful functions:"
   ]
  },
  {
   "cell_type": "code",
   "execution_count": 24,
   "id": "7e3b7299",
   "metadata": {},
   "outputs": [],
   "source": [
    "def refine_dataframe(dataframe):\n",
    "    dataframe.drop_duplicates(inplace = True)\n",
    "    dataframe.dropna(inplace = True)\n",
    "    dataframe.cts = pd.to_datetime(dataframe.cts)\n",
    "    \n",
    "def check_time(hour):\n",
    "    for slot in slots:\n",
    "        if hour >= slot[0] and hour <= slot[1]:\n",
    "            return slots.index(slot)"
   ]
  },
  {
   "cell_type": "markdown",
   "id": "a5351cf2",
   "metadata": {},
   "source": [
    "Start processing:"
   ]
  },
  {
   "cell_type": "code",
   "execution_count": 41,
   "id": "ed7ad1ca",
   "metadata": {},
   "outputs": [
    {
     "name": "stderr",
     "output_type": "stream",
     "text": [
      "86it [04:52,  3.40s/it]\n"
     ]
    }
   ],
   "source": [
    "#We choose to define hourly intervals to have a meaningful range\n",
    "slots = [(0, 1), (1, 2), (2, 3), (3, 4),\n",
    "         (4, 5), (5, 6), (6, 7), (7, 8),\n",
    "         (8, 9), (9, 10), (10, 11), (11, 12),\n",
    "         (12, 13), (13, 14), (14, 15), (15, 16),\n",
    "         (16, 17), (17, 18), (18, 19), (19, 20),\n",
    "         (20, 21), (21, 22), (22, 23), (23, 24)]\n",
    "\n",
    "t = [0] * 24             #final list with number of posts per time interval (aka list indexes)\n",
    "t_likes = [0] * 24       #final list with number of likes per time interval\n",
    "t_comments = [0] * 24    #final list with number of comments per time interval\n",
    "\n",
    "for chunk in tqdm(pd.read_csv('~/instagram_posts.csv', delimiter='\\t', usecols = ['sid', 'sid_profile', 'cts', \n",
    "                                                                                  'numbr_likes', 'number_comments'], chunksize = 500000)):\n",
    "    \n",
    "    refine_dataframe(chunk)\n",
    "\n",
    "    chunk['hour'] = chunk.cts.dt.hour #add a column with the hour\n",
    "    \n",
    "    chunk['slot'] = chunk.hour.apply(lambda row: check_time(row)) #add a column with the index of the hour intervals the post falls in\n",
    "    \n",
    "    grp = chunk.groupby('slot')\n",
    "    \n",
    "    part_elements = list(grp.sid_profile.count()) #lista di quanti elementi cadono in ogni intervallo\n",
    "    part_likes = list(grp.numbr_likes.sum()) #likes per interval\n",
    "    part_comments = list(grp.number_comments.sum()) #comments per interval\n",
    "    \n",
    "    t = [t[i] + part_elements[i] for i in range(23)]\n",
    "    t_likes = [t[i] + part_likes[i] for i in range(23)]\n",
    "    t_comments = [t[i] + part_comments[i] for i in range(23)]"
   ]
  },
  {
   "cell_type": "markdown",
   "id": "f3707665",
   "metadata": {},
   "source": [
    "Checks on the results' dimensionality:"
   ]
  },
  {
   "cell_type": "code",
   "execution_count": 40,
   "id": "9cf58c0e",
   "metadata": {},
   "outputs": [
    {
     "data": {
      "text/plain": [
       "0"
      ]
     },
     "execution_count": 40,
     "metadata": {},
     "output_type": "execute_result"
    }
   ],
   "source": [
    "sum(t)"
   ]
  },
  {
   "cell_type": "code",
   "execution_count": 29,
   "id": "a1f185de",
   "metadata": {},
   "outputs": [
    {
     "data": {
      "text/plain": [
       "[2923183,\n",
       " 1290434,\n",
       " 1231644,\n",
       " 1135290,\n",
       " 1044289,\n",
       " 1011923,\n",
       " 1093280,\n",
       " 1267423,\n",
       " 1434724,\n",
       " 1571222,\n",
       " 1720602,\n",
       " 1868544,\n",
       " 2025569,\n",
       " 2158976,\n",
       " 2263009,\n",
       " 2341052,\n",
       " 2423768,\n",
       " 2486381,\n",
       " 2499758,\n",
       " 2495269,\n",
       " 2414932,\n",
       " 2167378,\n",
       " 1838215]"
      ]
     },
     "execution_count": 29,
     "metadata": {},
     "output_type": "execute_result"
    }
   ],
   "source": [
    "t"
   ]
  },
  {
   "cell_type": "code",
   "execution_count": 30,
   "id": "6a0641ac",
   "metadata": {},
   "outputs": [
    {
     "data": {
      "text/plain": [
       "[7493621,\n",
       " 3287386,\n",
       " 3061184,\n",
       " 3955118,\n",
       " 2235546,\n",
       " 2260176,\n",
       " 2337605,\n",
       " 2835814,\n",
       " 3119361,\n",
       " 3585831,\n",
       " 3889179,\n",
       " 4540754,\n",
       " 5234751,\n",
       " 5405755,\n",
       " 5615137,\n",
       " 5737690,\n",
       " 6760034,\n",
       " 6826177,\n",
       " 6694792,\n",
       " 6165983,\n",
       " 6416456,\n",
       " 5101069,\n",
       " 6039696]"
      ]
     },
     "execution_count": 30,
     "metadata": {},
     "output_type": "execute_result"
    }
   ],
   "source": [
    "t_likes"
   ]
  },
  {
   "cell_type": "code",
   "execution_count": 31,
   "id": "5d3f198f",
   "metadata": {},
   "outputs": [
    {
     "data": {
      "text/plain": [
       "[3049808,\n",
       " 1344505,\n",
       " 1275203,\n",
       " 1200409,\n",
       " 1074190,\n",
       " 1038361,\n",
       " 1132811,\n",
       " 1302467,\n",
       " 1472180,\n",
       " 1614632,\n",
       " 1773536,\n",
       " 1929505,\n",
       " 2096765,\n",
       " 2221679,\n",
       " 2331562,\n",
       " 2420425,\n",
       " 2518896,\n",
       " 2581853,\n",
       " 2599456,\n",
       " 2587657,\n",
       " 2503618,\n",
       " 2244335,\n",
       " 1906676]"
      ]
     },
     "execution_count": 31,
     "metadata": {},
     "output_type": "execute_result"
    }
   ],
   "source": [
    "t_comments"
   ]
  },
  {
   "cell_type": "markdown",
   "id": "ffbcf749",
   "metadata": {},
   "source": [
    "Compute the average number of likes and comments in each interval:"
   ]
  },
  {
   "cell_type": "code",
   "execution_count": 38,
   "id": "07bfa766",
   "metadata": {},
   "outputs": [
    {
     "ename": "NameError",
     "evalue": "name 'l2' is not defined",
     "output_type": "error",
     "traceback": [
      "\u001b[0;31m---------------------------------------------------------------------------\u001b[0m",
      "\u001b[0;31mNameError\u001b[0m                                 Traceback (most recent call last)",
      "\u001b[0;32m/tmp/ipykernel_6970/2537777726.py\u001b[0m in \u001b[0;36m<cell line: 1>\u001b[0;34m()\u001b[0m\n\u001b[0;32m----> 1\u001b[0;31m \u001b[0mavg_likes\u001b[0m \u001b[0;34m=\u001b[0m \u001b[0;34m[\u001b[0m\u001b[0mround\u001b[0m\u001b[0;34m(\u001b[0m\u001b[0mt_likes\u001b[0m\u001b[0;34m[\u001b[0m\u001b[0mi\u001b[0m\u001b[0;34m]\u001b[0m \u001b[0;34m/\u001b[0m \u001b[0ml2\u001b[0m\u001b[0;34m[\u001b[0m\u001b[0mi\u001b[0m\u001b[0;34m]\u001b[0m\u001b[0;34m,\u001b[0m \u001b[0;36m2\u001b[0m\u001b[0;34m)\u001b[0m \u001b[0;32mfor\u001b[0m \u001b[0mi\u001b[0m \u001b[0;32min\u001b[0m \u001b[0mrange\u001b[0m\u001b[0;34m(\u001b[0m\u001b[0;36m23\u001b[0m\u001b[0;34m)\u001b[0m\u001b[0;34m]\u001b[0m \u001b[0;31m#list of average number of likes in the given time interval\u001b[0m\u001b[0;34m\u001b[0m\u001b[0;34m\u001b[0m\u001b[0m\n\u001b[0m\u001b[1;32m      2\u001b[0m \u001b[0mavg_likes\u001b[0m\u001b[0;34m\u001b[0m\u001b[0;34m\u001b[0m\u001b[0m\n",
      "\u001b[0;32m/tmp/ipykernel_6970/2537777726.py\u001b[0m in \u001b[0;36m<listcomp>\u001b[0;34m(.0)\u001b[0m\n\u001b[0;32m----> 1\u001b[0;31m \u001b[0mavg_likes\u001b[0m \u001b[0;34m=\u001b[0m \u001b[0;34m[\u001b[0m\u001b[0mround\u001b[0m\u001b[0;34m(\u001b[0m\u001b[0mt_likes\u001b[0m\u001b[0;34m[\u001b[0m\u001b[0mi\u001b[0m\u001b[0;34m]\u001b[0m \u001b[0;34m/\u001b[0m \u001b[0ml2\u001b[0m\u001b[0;34m[\u001b[0m\u001b[0mi\u001b[0m\u001b[0;34m]\u001b[0m\u001b[0;34m,\u001b[0m \u001b[0;36m2\u001b[0m\u001b[0;34m)\u001b[0m \u001b[0;32mfor\u001b[0m \u001b[0mi\u001b[0m \u001b[0;32min\u001b[0m \u001b[0mrange\u001b[0m\u001b[0;34m(\u001b[0m\u001b[0;36m23\u001b[0m\u001b[0;34m)\u001b[0m\u001b[0;34m]\u001b[0m \u001b[0;31m#list of average number of likes in the given time interval\u001b[0m\u001b[0;34m\u001b[0m\u001b[0;34m\u001b[0m\u001b[0m\n\u001b[0m\u001b[1;32m      2\u001b[0m \u001b[0mavg_likes\u001b[0m\u001b[0;34m\u001b[0m\u001b[0;34m\u001b[0m\u001b[0m\n",
      "\u001b[0;31mNameError\u001b[0m: name 'l2' is not defined"
     ]
    }
   ],
   "source": [
    "avg_likes = [round(t_likes[i] / t[i], 2) for i in range(23)] #list of average number of likes in the given time interval\n",
    "avg_likes"
   ]
  },
  {
   "cell_type": "code",
   "execution_count": 36,
   "id": "a55102de",
   "metadata": {},
   "outputs": [
    {
     "data": {
      "text/plain": [
       "23"
      ]
     },
     "execution_count": 36,
     "metadata": {},
     "output_type": "execute_result"
    }
   ],
   "source": [
    "avg_comments = [round(t_comments[i] / t[i], 2) for i in range(23)] #list of average number of likes in the given time interval\n",
    "len(avg_comments)"
   ]
  },
  {
   "cell_type": "markdown",
   "id": "2743e6eb",
   "metadata": {},
   "source": [
    "Finally, plot what we've found:"
   ]
  },
  {
   "cell_type": "code",
   "execution_count": 37,
   "id": "64df8e17",
   "metadata": {},
   "outputs": [
    {
     "data": {
      "image/png": "[encoded data removed]",
      "text/plain": [
       "<Figure size 1152x504 with 2 Axes>"
      ]
     },
     "metadata": {
      "needs_background": "light"
     },
     "output_type": "display_data"
    }
   ],
   "source": [
    "fig, (ax1, ax2) = plt.subplots(1, 2, figsize = (16, 7))\n",
    "fig.suptitle('Average number of likes and comments per time interval', fontsize = 20)\n",
    "\n",
    "ax1.plot(avg_likes)\n",
    "ax1.title.set_text('Likes')\n",
    "ax1.set_xticks([x for x in range(len(avg_likes))]) #aka range(24)\n",
    "\n",
    "ax2.plot(avg_comments)\n",
    "ax2.title.set_text('Comments')\n",
    "ax2.set_xticks([x for x in range(len(avg_likes))]) #aka range(24)\n",
    "\n",
    "fig.tight_layout()"
   ]
  },
  {
   "cell_type": "markdown",
   "id": "da37043e",
   "metadata": {},
   "source": [
    "______________"
   ]
  },
  {
   "cell_type": "markdown",
   "id": "24d11503",
   "metadata": {},
   "source": [
    "# **Research Question 7 - Probabilities as drivers for prevision**"
   ]
  },
  {
   "cell_type": "markdown",
   "id": "a7d7929f",
   "metadata": {},
   "source": [
    "## What's the probability that a post receives more than 20% \"likes\" of the number of followers a user has?\n"
   ]
  },
  {
   "cell_type": "markdown",
   "id": "9375c418",
   "metadata": {},
   "source": [
    "We could define two random variables:\n",
    "\\begin{align}\n",
    "X \\sim Gauss(\\mu_x,\\sigma^2_x)\\\\\n",
    "Y \\sim Gauss(\\mu_y,\\sigma^2_y)\n",
    "\\end{align}\n",
    "\n",
    "The first is the distribution of the number of likes through posts, the second is the distribution of the number of followers through profiles. \n",
    "With this assumptions we can calculate the required probability as\n",
    "\n",
    "\\begin{align}\n",
    "P(X>\\frac{20Y}{100})\n",
    "\\end{align} \n",
    "\n",
    "leveraging the properties of the linear combination of gaussians. In our research we found out that the three dataset are strongly unrelated, and since we need a JOIN between posts and profiles over the key *'profile_id'* to build a serviceable dataset in which we can find related pairs of post and profiles, this model need more assumptions that make it pretty unuseful.\n",
    "\n",
    "So we decided to choose a poor frequentist approach.\n",
    "By the way, computationally speaking this question is unsolvable with the methods we try to used. We defined two views over the profiles and posts datasets, by calling only the columns that are needed and providing a common column over which perform the join. In particular it is the primary key for profiles view, and so works as a foreign key for the posts view.\n",
    "\n",
    "We then iterated through chunks of the posts, then made an outher join between the chunks and the profiles dataframe on *'profile_id'* key. At each iteration we updated a stored in a variable adding **len(data[data['numbr_likes']>0.2*data['followers']])**.\n",
    "\n",
    "So we decided to shrink the two datasets to the population included in the first and third quartile, assuming we can consider both as gaussian distributed and therefore simmetrically excluding the two tails. Then we also provided some memory optimizazion methods, by changing the type of a series. "
   ]
  },
  {
   "cell_type": "code",
   "execution_count": 13,
   "id": "1a93732d",
   "metadata": {},
   "outputs": [],
   "source": [
    "from tqdm import tqdm"
   ]
  },
  {
   "cell_type": "code",
   "execution_count": 14,
   "id": "5d2fc211",
   "metadata": {},
   "outputs": [],
   "source": [
    "profiles_followers = pd.read_csv('~/instagram_profiles.zip', delimiter='\\t',usecols=['profile_id','followers'])\n",
    "\n",
    "profiles_followers.followers = pd.to_numeric(profiles_followers.followers, errors='coerce')\n",
    "profiles_followers.followers.fillna(0,inplace=True)\n",
    "\n",
    "profiles_followers = profiles_followers[profiles_followers['followers']>0]"
   ]
  },
  {
   "cell_type": "code",
   "execution_count": 15,
   "id": "b0699954",
   "metadata": {},
   "outputs": [
    {
     "data": {
      "text/html": [
       "<div>\n",
       "<style scoped>\n",
       "    .dataframe tbody tr th:only-of-type {\n",
       "        vertical-align: middle;\n",
       "    }\n",
       "\n",
       "    .dataframe tbody tr th {\n",
       "        vertical-align: top;\n",
       "    }\n",
       "\n",
       "    .dataframe thead th {\n",
       "        text-align: right;\n",
       "    }\n",
       "</style>\n",
       "<table border=\"1\" class=\"dataframe\">\n",
       "  <thead>\n",
       "    <tr style=\"text-align: right;\">\n",
       "      <th></th>\n",
       "      <th>profile_id</th>\n",
       "      <th>followers</th>\n",
       "    </tr>\n",
       "  </thead>\n",
       "  <tbody>\n",
       "    <tr>\n",
       "      <th>0</th>\n",
       "      <td>4.721050e+09</td>\n",
       "      <td>146.0</td>\n",
       "    </tr>\n",
       "    <tr>\n",
       "      <th>1</th>\n",
       "      <td>5.905830e+08</td>\n",
       "      <td>1145.0</td>\n",
       "    </tr>\n",
       "    <tr>\n",
       "      <th>2</th>\n",
       "      <td>1.074147e+09</td>\n",
       "      <td>324.0</td>\n",
       "    </tr>\n",
       "    <tr>\n",
       "      <th>5</th>\n",
       "      <td>1.450642e+08</td>\n",
       "      <td>192.0</td>\n",
       "    </tr>\n",
       "    <tr>\n",
       "      <th>6</th>\n",
       "      <td>2.061868e+09</td>\n",
       "      <td>4137.0</td>\n",
       "    </tr>\n",
       "  </tbody>\n",
       "</table>\n",
       "</div>"
      ],
      "text/plain": [
       "     profile_id  followers\n",
       "0  4.721050e+09      146.0\n",
       "1  5.905830e+08     1145.0\n",
       "2  1.074147e+09      324.0\n",
       "5  1.450642e+08      192.0\n",
       "6  2.061868e+09     4137.0"
      ]
     },
     "execution_count": 15,
     "metadata": {},
     "output_type": "execute_result"
    }
   ],
   "source": [
    "profiles_followers.head()"
   ]
  },
  {
   "cell_type": "code",
   "execution_count": null,
   "id": "e47e8d98",
   "metadata": {},
   "outputs": [],
   "source": [
    "posts_likes = (pd.read_csv('~/posts.csv', delimiter='\\t', usecols=['profile_id','numbr_likes']))\n",
    "\n",
    "posts_likes.numbr_likes = pd.to_numeric(posts_likes.numbr_likes,errors='coerce')"
   ]
  },
  {
   "cell_type": "code",
   "execution_count": 17,
   "id": "a4f28a19",
   "metadata": {},
   "outputs": [
    {
     "data": {
      "text/html": [
       "<div>\n",
       "<style scoped>\n",
       "    .dataframe tbody tr th:only-of-type {\n",
       "        vertical-align: middle;\n",
       "    }\n",
       "\n",
       "    .dataframe tbody tr th {\n",
       "        vertical-align: top;\n",
       "    }\n",
       "\n",
       "    .dataframe thead th {\n",
       "        text-align: right;\n",
       "    }\n",
       "</style>\n",
       "<table border=\"1\" class=\"dataframe\">\n",
       "  <thead>\n",
       "    <tr style=\"text-align: right;\">\n",
       "      <th></th>\n",
       "      <th>profile_id</th>\n",
       "      <th>numbr_likes</th>\n",
       "    </tr>\n",
       "  </thead>\n",
       "  <tbody>\n",
       "    <tr>\n",
       "      <th>0</th>\n",
       "      <td>2.237948e+09</td>\n",
       "      <td>80.0</td>\n",
       "    </tr>\n",
       "    <tr>\n",
       "      <th>1</th>\n",
       "      <td>5.579335e+09</td>\n",
       "      <td>25.0</td>\n",
       "    </tr>\n",
       "    <tr>\n",
       "      <th>2</th>\n",
       "      <td>3.134296e+08</td>\n",
       "      <td>9.0</td>\n",
       "    </tr>\n",
       "    <tr>\n",
       "      <th>3</th>\n",
       "      <td>1.837593e+09</td>\n",
       "      <td>4.0</td>\n",
       "    </tr>\n",
       "    <tr>\n",
       "      <th>4</th>\n",
       "      <td>1.131527e+09</td>\n",
       "      <td>8.0</td>\n",
       "    </tr>\n",
       "  </tbody>\n",
       "</table>\n",
       "</div>"
      ],
      "text/plain": [
       "     profile_id  numbr_likes\n",
       "0  2.237948e+09         80.0\n",
       "1  5.579335e+09         25.0\n",
       "2  3.134296e+08          9.0\n",
       "3  1.837593e+09          4.0\n",
       "4  1.131527e+09          8.0"
      ]
     },
     "execution_count": 17,
     "metadata": {},
     "output_type": "execute_result"
    }
   ],
   "source": [
    "posts_likes.head()"
   ]
  },
  {
   "cell_type": "code",
   "execution_count": 18,
   "id": "bd0ba2ca",
   "metadata": {},
   "outputs": [],
   "source": [
    "first_posts_quartile = posts_likes.quantile(q=0.25)['numbr_likes']\n",
    "third_posts_quartile = posts_likes.quantile(q=0.75)['numbr_likes']\n",
    "\n",
    "first_profiles_quartile = profiles_followers.quantile(q=0.25)['followers']\n",
    "third_profiles_quartile = profiles_followers.quantile(q=0.75)['followers']"
   ]
  },
  {
   "cell_type": "code",
   "execution_count": 19,
   "id": "3ce57c14",
   "metadata": {},
   "outputs": [],
   "source": [
    "significant_posts = posts_likes[(posts_likes['numbr_likes']>first_posts_quartile)&\n",
    "                                (posts_likes['numbr_likes']<third_posts_quartile)]\n",
    "\n",
    "significant_profiles = profiles_followers[(profiles_followers['followers']>first_profiles_quartile)&\n",
    "                                          (profiles_followers['followers']<third_profiles_quartile)]"
   ]
  },
  {
   "cell_type": "code",
   "execution_count": null,
   "id": "a521df3d",
   "metadata": {},
   "outputs": [],
   "source": [
    "significant_posts.numbr_likes = significant_posts.numbr_likes.astype(np.float16)              #This is just memory optimization\n",
    "significant_posts.profile_id = significant_posts.profile_id.astype(np.float16)"
   ]
  },
  {
   "cell_type": "code",
   "execution_count": 21,
   "id": "f017f11b",
   "metadata": {},
   "outputs": [],
   "source": [
    "significant_profiles.profile_id = significant_profiles.profile_id.astype(np.float16)\n",
    "significant_profiles.followers = significant_profiles.followers.astype(np.float16)"
   ]
  },
  {
   "cell_type": "code",
   "execution_count": null,
   "id": "52f1e0da",
   "metadata": {},
   "outputs": [],
   "source": [
    "significant_posts.to_csv('significant_posts.csv',index=False)"
   ]
  },
  {
   "cell_type": "markdown",
   "id": "860dc047",
   "metadata": {},
   "source": [
    "We also need to take in account the correct number of possible cases, dropping the NA from the joint tables since they are the result of a full outer join when there's no matching in the common column, and we are only considering data of which we have information about profiles, so we needed an additional variable to store the measure over which we are performing this method. "
   ]
  },
  {
   "cell_type": "code",
   "execution_count": 22,
   "id": "1c22cf4f",
   "metadata": {},
   "outputs": [
    {
     "name": "stderr",
     "output_type": "stream",
     "text": [
      "0it [00:00, ?it/s]/home/ec2-user/anaconda3/envs/python3/lib/python3.8/site-packages/pandas/core/reshape/merge.py:1204: UserWarning: You are merging on int and float columns where the float values are not equal to their int representation\n",
      "  warnings.warn(\n",
      "22it [00:58,  2.66s/it]\n"
     ]
    }
   ],
   "source": [
    "high_recalling_posts = 0\n",
    "measure = 0\n",
    "for chunk in tqdm(pd.read_csv('significant_posts.csv', delimiter=',', chunksize=1000000)):\n",
    "    data = chunk.join(significant_profiles, on='profile_id',how='outer', lsuffix='_left', rsuffix='_right')\n",
    "    data = data.dropna()\n",
    "    high_recalling_posts += len(data[data['numbr_likes']>0.2*data['followers']])\n",
    "    measure += len(data)"
   ]
  },
  {
   "cell_type": "code",
   "execution_count": 23,
   "id": "7d4dfb7c",
   "metadata": {},
   "outputs": [
    {
     "name": "stdout",
     "output_type": "stream",
     "text": [
      "The probability that a post receives more than 20% \"likes\" of the number of followers a user has is: 17.77 %\n"
     ]
    }
   ],
   "source": [
    "print('The probability that a post receives more than 20% \"likes\" of the number of followers a user has is:', '%.2f' % (high_recalling_posts/measure*100), '%')"
   ]
  },
  {
   "cell_type": "code",
   "execution_count": null,
   "id": "85c4f62d",
   "metadata": {},
   "outputs": [],
   "source": [
    "del profiles_followers\n",
    "del posts_likes\n",
    "del signficant_posts\n",
    "del significant_profiles"
   ]
  },
  {
   "cell_type": "markdown",
   "id": "e3035e60",
   "metadata": {},
   "source": [
    "________________________"
   ]
  },
  {
   "cell_type": "markdown",
   "id": "77a50e7c",
   "metadata": {},
   "source": [
    "## Do users usually return to locations? Extract the probability that a user returns to a site after having posted it in the past. Does that probability make sense to you? Explain why or why not."
   ]
  },
  {
   "cell_type": "markdown",
   "id": "2c67a4de",
   "metadata": {},
   "source": [
    "We can make an initial assumption, trying to model the event *'The i-th user return to a location after having posted it in the past'*. We can say that this is a dicotomic event, that can be modelled with a Bernoulli random variable.\n",
    "\n",
    "\\begin{align}\n",
    "X_i \\sim Ber(p_i), \\ i = 1,...,n\n",
    "\\end{align}"
   ]
  },
  {
   "cell_type": "markdown",
   "id": "fdcb58d9",
   "metadata": {},
   "source": [
    "where $n$ is the number of users. We would like to find an estimator for $p_i$ in order to treat any of these Bernoulli random variables as independent and equally distributed. \n"
   ]
  },
  {
   "cell_type": "markdown",
   "id": "70b00502",
   "metadata": {},
   "source": [
    "We are going to extract each $p_i$ from a frequentist perspective, and then we'll try to figure out a more general model."
   ]
  },
  {
   "cell_type": "code",
   "execution_count": 25,
   "id": "ee0f4245",
   "metadata": {},
   "outputs": [
    {
     "data": {
      "text/plain": [
       "0          1.102965e+14\n",
       "1          2.743913e+08\n",
       "2          1.488856e+14\n",
       "3          2.632583e+08\n",
       "4          4.061475e+14\n",
       "               ...     \n",
       "1022653    8.739264e+14\n",
       "1022654    3.907075e+08\n",
       "1022655    1.205467e+15\n",
       "1022656    2.867948e+08\n",
       "1022657    5.543307e+08\n",
       "Name: location_id, Length: 1022658, dtype: float64"
      ]
     },
     "execution_count": 25,
     "metadata": {},
     "output_type": "execute_result"
    }
   ],
   "source": [
    "locations = pd.read_csv('~/instagram_locations.zip', delimiter='\\t',usecols=['id'])\n",
    "posts_locations = pd.read_csv('~/posts.csv', delimiter='\\t',usecols=['profile_id','location_id'])\n",
    "locations = locations.rename(columns={'id':'location_id'})\n",
    "posts_locations = posts_locations.dropna()\n",
    "locations = locations.dropna()\n",
    "locations.location_id.astype(np.float64)"
   ]
  },
  {
   "cell_type": "code",
   "execution_count": 28,
   "id": "82b46b0a",
   "metadata": {},
   "outputs": [
    {
     "data": {
      "text/html": [
       "<div>\n",
       "<style scoped>\n",
       "    .dataframe tbody tr th:only-of-type {\n",
       "        vertical-align: middle;\n",
       "    }\n",
       "\n",
       "    .dataframe tbody tr th {\n",
       "        vertical-align: top;\n",
       "    }\n",
       "\n",
       "    .dataframe thead th {\n",
       "        text-align: right;\n",
       "    }\n",
       "</style>\n",
       "<table border=\"1\" class=\"dataframe\">\n",
       "  <thead>\n",
       "    <tr style=\"text-align: right;\">\n",
       "      <th></th>\n",
       "      <th>profile_id</th>\n",
       "      <th>location_id</th>\n",
       "    </tr>\n",
       "  </thead>\n",
       "  <tbody>\n",
       "    <tr>\n",
       "      <th>0</th>\n",
       "      <td>2.237948e+09</td>\n",
       "      <td>1.022366e+15</td>\n",
       "    </tr>\n",
       "    <tr>\n",
       "      <th>1</th>\n",
       "      <td>5.579335e+09</td>\n",
       "      <td>4.574268e+14</td>\n",
       "    </tr>\n",
       "    <tr>\n",
       "      <th>2</th>\n",
       "      <td>3.134296e+08</td>\n",
       "      <td>4.574268e+14</td>\n",
       "    </tr>\n",
       "    <tr>\n",
       "      <th>3</th>\n",
       "      <td>1.837593e+09</td>\n",
       "      <td>4.574268e+14</td>\n",
       "    </tr>\n",
       "    <tr>\n",
       "      <th>4</th>\n",
       "      <td>1.131527e+09</td>\n",
       "      <td>4.574268e+14</td>\n",
       "    </tr>\n",
       "  </tbody>\n",
       "</table>\n",
       "</div>"
      ],
      "text/plain": [
       "     profile_id   location_id\n",
       "0  2.237948e+09  1.022366e+15\n",
       "1  5.579335e+09  4.574268e+14\n",
       "2  3.134296e+08  4.574268e+14\n",
       "3  1.837593e+09  4.574268e+14\n",
       "4  1.131527e+09  4.574268e+14"
      ]
     },
     "execution_count": 28,
     "metadata": {},
     "output_type": "execute_result"
    }
   ],
   "source": [
    "posts_locations.head()"
   ]
  },
  {
   "cell_type": "code",
   "execution_count": 27,
   "id": "a7a1b6e7",
   "metadata": {},
   "outputs": [
    {
     "data": {
      "text/html": [
       "<div>\n",
       "<style scoped>\n",
       "    .dataframe tbody tr th:only-of-type {\n",
       "        vertical-align: middle;\n",
       "    }\n",
       "\n",
       "    .dataframe tbody tr th {\n",
       "        vertical-align: top;\n",
       "    }\n",
       "\n",
       "    .dataframe thead th {\n",
       "        text-align: right;\n",
       "    }\n",
       "</style>\n",
       "<table border=\"1\" class=\"dataframe\">\n",
       "  <thead>\n",
       "    <tr style=\"text-align: right;\">\n",
       "      <th></th>\n",
       "      <th>location_id</th>\n",
       "    </tr>\n",
       "  </thead>\n",
       "  <tbody>\n",
       "    <tr>\n",
       "      <th>0</th>\n",
       "      <td>110296492939207</td>\n",
       "    </tr>\n",
       "    <tr>\n",
       "      <th>1</th>\n",
       "      <td>274391278</td>\n",
       "    </tr>\n",
       "    <tr>\n",
       "      <th>2</th>\n",
       "      <td>148885595789195</td>\n",
       "    </tr>\n",
       "    <tr>\n",
       "      <th>3</th>\n",
       "      <td>263258277</td>\n",
       "    </tr>\n",
       "    <tr>\n",
       "      <th>4</th>\n",
       "      <td>406147529857708</td>\n",
       "    </tr>\n",
       "  </tbody>\n",
       "</table>\n",
       "</div>"
      ],
      "text/plain": [
       "       location_id\n",
       "0  110296492939207\n",
       "1        274391278\n",
       "2  148885595789195\n",
       "3        263258277\n",
       "4  406147529857708"
      ]
     },
     "execution_count": 27,
     "metadata": {},
     "output_type": "execute_result"
    }
   ],
   "source": [
    "locations.head()"
   ]
  },
  {
   "cell_type": "markdown",
   "id": "e5dd9adb",
   "metadata": {},
   "source": [
    "Now we can JOIN on 'profile_id' the two tables to get a view of every locations visited by every user. "
   ]
  },
  {
   "cell_type": "code",
   "execution_count": 26,
   "id": "e274d014",
   "metadata": {},
   "outputs": [],
   "source": [
    "user_locations = locations.merge(posts_locations, on='location_id', how='outer')\n",
    "user_locations = user_locations.dropna()"
   ]
  },
  {
   "cell_type": "code",
   "execution_count": 29,
   "id": "55b7d5cb",
   "metadata": {},
   "outputs": [
    {
     "data": {
      "text/html": [
       "<div>\n",
       "<style scoped>\n",
       "    .dataframe tbody tr th:only-of-type {\n",
       "        vertical-align: middle;\n",
       "    }\n",
       "\n",
       "    .dataframe tbody tr th {\n",
       "        vertical-align: top;\n",
       "    }\n",
       "\n",
       "    .dataframe thead th {\n",
       "        text-align: right;\n",
       "    }\n",
       "</style>\n",
       "<table border=\"1\" class=\"dataframe\">\n",
       "  <thead>\n",
       "    <tr style=\"text-align: right;\">\n",
       "      <th></th>\n",
       "      <th>location_id</th>\n",
       "      <th>profile_id</th>\n",
       "    </tr>\n",
       "  </thead>\n",
       "  <tbody>\n",
       "    <tr>\n",
       "      <th>0</th>\n",
       "      <td>1.102965e+14</td>\n",
       "      <td>1.782736e+09</td>\n",
       "    </tr>\n",
       "    <tr>\n",
       "      <th>1</th>\n",
       "      <td>1.102965e+14</td>\n",
       "      <td>1.169129e+09</td>\n",
       "    </tr>\n",
       "    <tr>\n",
       "      <th>2</th>\n",
       "      <td>1.102965e+14</td>\n",
       "      <td>8.358455e+08</td>\n",
       "    </tr>\n",
       "    <tr>\n",
       "      <th>3</th>\n",
       "      <td>1.102965e+14</td>\n",
       "      <td>2.308603e+08</td>\n",
       "    </tr>\n",
       "    <tr>\n",
       "      <th>4</th>\n",
       "      <td>1.102965e+14</td>\n",
       "      <td>1.041179e+09</td>\n",
       "    </tr>\n",
       "  </tbody>\n",
       "</table>\n",
       "</div>"
      ],
      "text/plain": [
       "    location_id    profile_id\n",
       "0  1.102965e+14  1.782736e+09\n",
       "1  1.102965e+14  1.169129e+09\n",
       "2  1.102965e+14  8.358455e+08\n",
       "3  1.102965e+14  2.308603e+08\n",
       "4  1.102965e+14  1.041179e+09"
      ]
     },
     "execution_count": 29,
     "metadata": {},
     "output_type": "execute_result"
    }
   ],
   "source": [
    "user_locations.head()"
   ]
  },
  {
   "cell_type": "markdown",
   "id": "29c1ca79",
   "metadata": {},
   "source": [
    "We need another view where we can see how many times have been visited by each of the users, groupping by over both profile_id and location_id. Than from this view we are going to consider only rows where the count is greater than 1, because these rows represent the repeated visits."
   ]
  },
  {
   "cell_type": "code",
   "execution_count": 30,
   "id": "79e76716",
   "metadata": {},
   "outputs": [],
   "source": [
    "visited_locations = user_locations.groupby(['profile_id','location_id']).size().reset_index(name='Counts')\n",
    "repeated_visits = visited_locations[visited_locations['Counts']>1]"
   ]
  },
  {
   "cell_type": "code",
   "execution_count": 31,
   "id": "37c716e1",
   "metadata": {},
   "outputs": [
    {
     "data": {
      "text/html": [
       "<div>\n",
       "<style scoped>\n",
       "    .dataframe tbody tr th:only-of-type {\n",
       "        vertical-align: middle;\n",
       "    }\n",
       "\n",
       "    .dataframe tbody tr th {\n",
       "        vertical-align: top;\n",
       "    }\n",
       "\n",
       "    .dataframe thead th {\n",
       "        text-align: right;\n",
       "    }\n",
       "</style>\n",
       "<table border=\"1\" class=\"dataframe\">\n",
       "  <thead>\n",
       "    <tr style=\"text-align: right;\">\n",
       "      <th></th>\n",
       "      <th>profile_id</th>\n",
       "      <th>location_id</th>\n",
       "      <th>Counts</th>\n",
       "    </tr>\n",
       "  </thead>\n",
       "  <tbody>\n",
       "    <tr>\n",
       "      <th>40</th>\n",
       "      <td>4.0</td>\n",
       "      <td>6.076926e+08</td>\n",
       "      <td>2</td>\n",
       "    </tr>\n",
       "    <tr>\n",
       "      <th>44</th>\n",
       "      <td>4.0</td>\n",
       "      <td>1.814978e+14</td>\n",
       "      <td>2</td>\n",
       "    </tr>\n",
       "    <tr>\n",
       "      <th>48</th>\n",
       "      <td>11.0</td>\n",
       "      <td>5.389193e+14</td>\n",
       "      <td>2</td>\n",
       "    </tr>\n",
       "    <tr>\n",
       "      <th>68</th>\n",
       "      <td>19.0</td>\n",
       "      <td>2.139013e+08</td>\n",
       "      <td>2</td>\n",
       "    </tr>\n",
       "    <tr>\n",
       "      <th>120</th>\n",
       "      <td>28.0</td>\n",
       "      <td>4.808880e+05</td>\n",
       "      <td>2</td>\n",
       "    </tr>\n",
       "    <tr>\n",
       "      <th>139</th>\n",
       "      <td>28.0</td>\n",
       "      <td>4.496136e+07</td>\n",
       "      <td>3</td>\n",
       "    </tr>\n",
       "    <tr>\n",
       "      <th>202</th>\n",
       "      <td>34.0</td>\n",
       "      <td>2.711897e+08</td>\n",
       "      <td>2</td>\n",
       "    </tr>\n",
       "    <tr>\n",
       "      <th>206</th>\n",
       "      <td>34.0</td>\n",
       "      <td>7.884002e+08</td>\n",
       "      <td>2</td>\n",
       "    </tr>\n",
       "    <tr>\n",
       "      <th>303</th>\n",
       "      <td>83.0</td>\n",
       "      <td>1.138297e+14</td>\n",
       "      <td>2</td>\n",
       "    </tr>\n",
       "    <tr>\n",
       "      <th>306</th>\n",
       "      <td>88.0</td>\n",
       "      <td>2.729597e+08</td>\n",
       "      <td>2</td>\n",
       "    </tr>\n",
       "    <tr>\n",
       "      <th>350</th>\n",
       "      <td>118.0</td>\n",
       "      <td>1.014730e+09</td>\n",
       "      <td>3</td>\n",
       "    </tr>\n",
       "    <tr>\n",
       "      <th>353</th>\n",
       "      <td>118.0</td>\n",
       "      <td>3.129826e+14</td>\n",
       "      <td>2</td>\n",
       "    </tr>\n",
       "    <tr>\n",
       "      <th>366</th>\n",
       "      <td>192.0</td>\n",
       "      <td>2.129475e+08</td>\n",
       "      <td>2</td>\n",
       "    </tr>\n",
       "    <tr>\n",
       "      <th>372</th>\n",
       "      <td>192.0</td>\n",
       "      <td>1.017845e+09</td>\n",
       "      <td>2</td>\n",
       "    </tr>\n",
       "    <tr>\n",
       "      <th>395</th>\n",
       "      <td>266.0</td>\n",
       "      <td>2.350607e+08</td>\n",
       "      <td>2</td>\n",
       "    </tr>\n",
       "  </tbody>\n",
       "</table>\n",
       "</div>"
      ],
      "text/plain": [
       "     profile_id   location_id  Counts\n",
       "40          4.0  6.076926e+08       2\n",
       "44          4.0  1.814978e+14       2\n",
       "48         11.0  5.389193e+14       2\n",
       "68         19.0  2.139013e+08       2\n",
       "120        28.0  4.808880e+05       2\n",
       "139        28.0  4.496136e+07       3\n",
       "202        34.0  2.711897e+08       2\n",
       "206        34.0  7.884002e+08       2\n",
       "303        83.0  1.138297e+14       2\n",
       "306        88.0  2.729597e+08       2\n",
       "350       118.0  1.014730e+09       3\n",
       "353       118.0  3.129826e+14       2\n",
       "366       192.0  2.129475e+08       2\n",
       "372       192.0  1.017845e+09       2\n",
       "395       266.0  2.350607e+08       2"
      ]
     },
     "execution_count": 31,
     "metadata": {},
     "output_type": "execute_result"
    }
   ],
   "source": [
    "repeated_visits.head(15)"
   ]
  },
  {
   "cell_type": "markdown",
   "id": "833f3cb2",
   "metadata": {},
   "source": [
    "Now finally we get the view where for every user we have the exactly amount of locations visited more than once. "
   ]
  },
  {
   "cell_type": "code",
   "execution_count": 32,
   "id": "78e417c3",
   "metadata": {},
   "outputs": [],
   "source": [
    "total_repeated_visits = repeated_visits.groupby(by='profile_id').nunique()\n",
    "total_repeated_visits = total_repeated_visits.drop(axis=1, columns='Counts').rename(columns={'location_id':'revisited'}).dropna()"
   ]
  },
  {
   "cell_type": "code",
   "execution_count": 33,
   "id": "ee65684a",
   "metadata": {},
   "outputs": [
    {
     "data": {
      "text/html": [
       "<div>\n",
       "<style scoped>\n",
       "    .dataframe tbody tr th:only-of-type {\n",
       "        vertical-align: middle;\n",
       "    }\n",
       "\n",
       "    .dataframe tbody tr th {\n",
       "        vertical-align: top;\n",
       "    }\n",
       "\n",
       "    .dataframe thead th {\n",
       "        text-align: right;\n",
       "    }\n",
       "</style>\n",
       "<table border=\"1\" class=\"dataframe\">\n",
       "  <thead>\n",
       "    <tr style=\"text-align: right;\">\n",
       "      <th></th>\n",
       "      <th>revisited</th>\n",
       "    </tr>\n",
       "    <tr>\n",
       "      <th>profile_id</th>\n",
       "      <th></th>\n",
       "    </tr>\n",
       "  </thead>\n",
       "  <tbody>\n",
       "    <tr>\n",
       "      <th>4.0</th>\n",
       "      <td>2</td>\n",
       "    </tr>\n",
       "    <tr>\n",
       "      <th>11.0</th>\n",
       "      <td>1</td>\n",
       "    </tr>\n",
       "    <tr>\n",
       "      <th>19.0</th>\n",
       "      <td>1</td>\n",
       "    </tr>\n",
       "    <tr>\n",
       "      <th>28.0</th>\n",
       "      <td>2</td>\n",
       "    </tr>\n",
       "    <tr>\n",
       "      <th>34.0</th>\n",
       "      <td>2</td>\n",
       "    </tr>\n",
       "    <tr>\n",
       "      <th>83.0</th>\n",
       "      <td>1</td>\n",
       "    </tr>\n",
       "    <tr>\n",
       "      <th>88.0</th>\n",
       "      <td>1</td>\n",
       "    </tr>\n",
       "    <tr>\n",
       "      <th>118.0</th>\n",
       "      <td>2</td>\n",
       "    </tr>\n",
       "    <tr>\n",
       "      <th>192.0</th>\n",
       "      <td>2</td>\n",
       "    </tr>\n",
       "    <tr>\n",
       "      <th>266.0</th>\n",
       "      <td>1</td>\n",
       "    </tr>\n",
       "    <tr>\n",
       "      <th>332.0</th>\n",
       "      <td>1</td>\n",
       "    </tr>\n",
       "    <tr>\n",
       "      <th>366.0</th>\n",
       "      <td>2</td>\n",
       "    </tr>\n",
       "    <tr>\n",
       "      <th>391.0</th>\n",
       "      <td>1</td>\n",
       "    </tr>\n",
       "    <tr>\n",
       "      <th>459.0</th>\n",
       "      <td>1</td>\n",
       "    </tr>\n",
       "    <tr>\n",
       "      <th>491.0</th>\n",
       "      <td>1</td>\n",
       "    </tr>\n",
       "  </tbody>\n",
       "</table>\n",
       "</div>"
      ],
      "text/plain": [
       "            revisited\n",
       "profile_id           \n",
       "4.0                 2\n",
       "11.0                1\n",
       "19.0                1\n",
       "28.0                2\n",
       "34.0                2\n",
       "83.0                1\n",
       "88.0                1\n",
       "118.0               2\n",
       "192.0               2\n",
       "266.0               1\n",
       "332.0               1\n",
       "366.0               2\n",
       "391.0               1\n",
       "459.0               1\n",
       "491.0               1"
      ]
     },
     "execution_count": 33,
     "metadata": {},
     "output_type": "execute_result"
    }
   ],
   "source": [
    "total_repeated_visits.head(15)"
   ]
  },
  {
   "cell_type": "markdown",
   "id": "3e455474",
   "metadata": {},
   "source": [
    "We need another view where we can see the totally amount of visits and number of unique locations visited, because a user can visit more than twice the same location, so revisited ones are not simple given by the difference from total visits and unique ones. "
   ]
  },
  {
   "cell_type": "code",
   "execution_count": 34,
   "id": "10ba7bd1",
   "metadata": {},
   "outputs": [],
   "source": [
    "groupped_user_locations = user_locations.groupby(by='profile_id').count()\n",
    "unique_user_locations = user_locations.groupby(by='profile_id').nunique()\n",
    "data = unique_user_locations.merge(groupped_user_locations, on='profile_id', how='outer')\n",
    "data = data.rename(columns={'location_id_x':'unique_locations','location_id_y':'total_locations'})\n",
    "useful_data = data[(data['total_locations']>data['unique_locations'])]"
   ]
  },
  {
   "cell_type": "code",
   "execution_count": 37,
   "id": "798372b7",
   "metadata": {},
   "outputs": [
    {
     "data": {
      "text/html": [
       "<div>\n",
       "<style scoped>\n",
       "    .dataframe tbody tr th:only-of-type {\n",
       "        vertical-align: middle;\n",
       "    }\n",
       "\n",
       "    .dataframe tbody tr th {\n",
       "        vertical-align: top;\n",
       "    }\n",
       "\n",
       "    .dataframe thead th {\n",
       "        text-align: right;\n",
       "    }\n",
       "</style>\n",
       "<table border=\"1\" class=\"dataframe\">\n",
       "  <thead>\n",
       "    <tr style=\"text-align: right;\">\n",
       "      <th></th>\n",
       "      <th>unique_locations</th>\n",
       "      <th>total_locations</th>\n",
       "      <th>revisits</th>\n",
       "    </tr>\n",
       "    <tr>\n",
       "      <th>profile_id</th>\n",
       "      <th></th>\n",
       "      <th></th>\n",
       "      <th></th>\n",
       "    </tr>\n",
       "  </thead>\n",
       "  <tbody>\n",
       "    <tr>\n",
       "      <th>3.0</th>\n",
       "      <td>14</td>\n",
       "      <td>14</td>\n",
       "      <td>NaN</td>\n",
       "    </tr>\n",
       "    <tr>\n",
       "      <th>4.0</th>\n",
       "      <td>34</td>\n",
       "      <td>36</td>\n",
       "      <td>2.0</td>\n",
       "    </tr>\n",
       "    <tr>\n",
       "      <th>11.0</th>\n",
       "      <td>1</td>\n",
       "      <td>2</td>\n",
       "      <td>1.0</td>\n",
       "    </tr>\n",
       "    <tr>\n",
       "      <th>12.0</th>\n",
       "      <td>1</td>\n",
       "      <td>1</td>\n",
       "      <td>NaN</td>\n",
       "    </tr>\n",
       "    <tr>\n",
       "      <th>14.0</th>\n",
       "      <td>1</td>\n",
       "      <td>1</td>\n",
       "      <td>NaN</td>\n",
       "    </tr>\n",
       "    <tr>\n",
       "      <th>19.0</th>\n",
       "      <td>50</td>\n",
       "      <td>51</td>\n",
       "      <td>1.0</td>\n",
       "    </tr>\n",
       "    <tr>\n",
       "      <th>23.0</th>\n",
       "      <td>2</td>\n",
       "      <td>2</td>\n",
       "      <td>NaN</td>\n",
       "    </tr>\n",
       "    <tr>\n",
       "      <th>25.0</th>\n",
       "      <td>1</td>\n",
       "      <td>1</td>\n",
       "      <td>NaN</td>\n",
       "    </tr>\n",
       "    <tr>\n",
       "      <th>28.0</th>\n",
       "      <td>87</td>\n",
       "      <td>90</td>\n",
       "      <td>2.0</td>\n",
       "    </tr>\n",
       "    <tr>\n",
       "      <th>29.0</th>\n",
       "      <td>1</td>\n",
       "      <td>1</td>\n",
       "      <td>NaN</td>\n",
       "    </tr>\n",
       "    <tr>\n",
       "      <th>33.0</th>\n",
       "      <td>2</td>\n",
       "      <td>2</td>\n",
       "      <td>NaN</td>\n",
       "    </tr>\n",
       "    <tr>\n",
       "      <th>34.0</th>\n",
       "      <td>17</td>\n",
       "      <td>19</td>\n",
       "      <td>2.0</td>\n",
       "    </tr>\n",
       "    <tr>\n",
       "      <th>40.0</th>\n",
       "      <td>2</td>\n",
       "      <td>2</td>\n",
       "      <td>NaN</td>\n",
       "    </tr>\n",
       "    <tr>\n",
       "      <th>54.0</th>\n",
       "      <td>1</td>\n",
       "      <td>1</td>\n",
       "      <td>NaN</td>\n",
       "    </tr>\n",
       "    <tr>\n",
       "      <th>56.0</th>\n",
       "      <td>3</td>\n",
       "      <td>3</td>\n",
       "      <td>NaN</td>\n",
       "    </tr>\n",
       "  </tbody>\n",
       "</table>\n",
       "</div>"
      ],
      "text/plain": [
       "            unique_locations  total_locations  revisits\n",
       "profile_id                                             \n",
       "3.0                       14               14       NaN\n",
       "4.0                       34               36       2.0\n",
       "11.0                       1                2       1.0\n",
       "12.0                       1                1       NaN\n",
       "14.0                       1                1       NaN\n",
       "19.0                      50               51       1.0\n",
       "23.0                       2                2       NaN\n",
       "25.0                       1                1       NaN\n",
       "28.0                      87               90       2.0\n",
       "29.0                       1                1       NaN\n",
       "33.0                       2                2       NaN\n",
       "34.0                      17               19       2.0\n",
       "40.0                       2                2       NaN\n",
       "54.0                       1                1       NaN\n",
       "56.0                       3                3       NaN"
      ]
     },
     "execution_count": 37,
     "metadata": {},
     "output_type": "execute_result"
    }
   ],
   "source": [
    "data.head(15)"
   ]
  },
  {
   "cell_type": "markdown",
   "id": "6225a2f9",
   "metadata": {},
   "source": [
    "Finally, we come up with this table where we can compare some useful informations about visited locations and compute the probability that a user come back to a location from a frequentist perspective. Our measure will be $\\frac{revisited}{unique locations}$."
   ]
  },
  {
   "cell_type": "code",
   "execution_count": 38,
   "id": "827cc895",
   "metadata": {},
   "outputs": [],
   "source": [
    "final_table = useful_data.merge(total_repeated_visits, on='profile_id', how='outer')\n",
    "final_table['Probability'] = final_table['revisited']/final_table['unique_locations']\n",
    "final_table = final_table.drop(axis=1, columns=['unique_locations','total_locations','revisited'])"
   ]
  },
  {
   "cell_type": "code",
   "execution_count": 52,
   "id": "180e29cf",
   "metadata": {},
   "outputs": [
    {
     "data": {
      "text/html": [
       "<div>\n",
       "<style scoped>\n",
       "    .dataframe tbody tr th:only-of-type {\n",
       "        vertical-align: middle;\n",
       "    }\n",
       "\n",
       "    .dataframe tbody tr th {\n",
       "        vertical-align: top;\n",
       "    }\n",
       "\n",
       "    .dataframe thead th {\n",
       "        text-align: right;\n",
       "    }\n",
       "</style>\n",
       "<table border=\"1\" class=\"dataframe\">\n",
       "  <thead>\n",
       "    <tr style=\"text-align: right;\">\n",
       "      <th></th>\n",
       "      <th>Probability</th>\n",
       "    </tr>\n",
       "    <tr>\n",
       "      <th>profile_id</th>\n",
       "      <th></th>\n",
       "    </tr>\n",
       "  </thead>\n",
       "  <tbody>\n",
       "    <tr>\n",
       "      <th>4.0</th>\n",
       "      <td>0.058824</td>\n",
       "    </tr>\n",
       "    <tr>\n",
       "      <th>11.0</th>\n",
       "      <td>1.000000</td>\n",
       "    </tr>\n",
       "    <tr>\n",
       "      <th>19.0</th>\n",
       "      <td>0.020000</td>\n",
       "    </tr>\n",
       "    <tr>\n",
       "      <th>28.0</th>\n",
       "      <td>0.022989</td>\n",
       "    </tr>\n",
       "    <tr>\n",
       "      <th>34.0</th>\n",
       "      <td>0.117647</td>\n",
       "    </tr>\n",
       "    <tr>\n",
       "      <th>83.0</th>\n",
       "      <td>0.083333</td>\n",
       "    </tr>\n",
       "    <tr>\n",
       "      <th>88.0</th>\n",
       "      <td>1.000000</td>\n",
       "    </tr>\n",
       "    <tr>\n",
       "      <th>118.0</th>\n",
       "      <td>0.333333</td>\n",
       "    </tr>\n",
       "    <tr>\n",
       "      <th>192.0</th>\n",
       "      <td>0.153846</td>\n",
       "    </tr>\n",
       "    <tr>\n",
       "      <th>266.0</th>\n",
       "      <td>0.200000</td>\n",
       "    </tr>\n",
       "    <tr>\n",
       "      <th>332.0</th>\n",
       "      <td>1.000000</td>\n",
       "    </tr>\n",
       "    <tr>\n",
       "      <th>366.0</th>\n",
       "      <td>0.666667</td>\n",
       "    </tr>\n",
       "    <tr>\n",
       "      <th>391.0</th>\n",
       "      <td>0.333333</td>\n",
       "    </tr>\n",
       "    <tr>\n",
       "      <th>459.0</th>\n",
       "      <td>0.500000</td>\n",
       "    </tr>\n",
       "    <tr>\n",
       "      <th>491.0</th>\n",
       "      <td>1.000000</td>\n",
       "    </tr>\n",
       "  </tbody>\n",
       "</table>\n",
       "</div>"
      ],
      "text/plain": [
       "            Probability\n",
       "profile_id             \n",
       "4.0            0.058824\n",
       "11.0           1.000000\n",
       "19.0           0.020000\n",
       "28.0           0.022989\n",
       "34.0           0.117647\n",
       "83.0           0.083333\n",
       "88.0           1.000000\n",
       "118.0          0.333333\n",
       "192.0          0.153846\n",
       "266.0          0.200000\n",
       "332.0          1.000000\n",
       "366.0          0.666667\n",
       "391.0          0.333333\n",
       "459.0          0.500000\n",
       "491.0          1.000000"
      ]
     },
     "execution_count": 52,
     "metadata": {},
     "output_type": "execute_result"
    }
   ],
   "source": [
    "final_table.head(15)"
   ]
  },
  {
   "cell_type": "markdown",
   "id": "a6eea8ba",
   "metadata": {},
   "source": [
    "We are going to take the median as an estimator of the probability of the initial assumption, and then we drop any further hypotesis about the model assuming every $X_i$ is indipendent and identically distributed."
   ]
  },
  {
   "cell_type": "code",
   "execution_count": 49,
   "id": "ca821241",
   "metadata": {},
   "outputs": [
    {
     "data": {
      "text/plain": [
       "0.6"
      ]
     },
     "execution_count": 49,
     "metadata": {},
     "output_type": "execute_result"
    }
   ],
   "source": [
    "p = final_table.Probability.median()\n",
    "p"
   ]
  },
  {
   "cell_type": "markdown",
   "id": "1a04cc65",
   "metadata": {},
   "source": [
    "So we can estimate that every user as the probability of 60% to come back to a locations he already visit. This measure doesn't look as a robuste one, because it needed too many assumptions and approximation to be extracted."
   ]
  },
  {
   "cell_type": "code",
   "execution_count": 53,
   "id": "af8058d7",
   "metadata": {},
   "outputs": [],
   "source": [
    "del locations\n",
    "del posts_locations\n",
    "del user_locations\n",
    "del visited_locations\n",
    "del repeated_visits\n",
    "del data\n",
    "del final_table"
   ]
  },
  {
   "cell_type": "markdown",
   "id": "823e7e71",
   "metadata": {},
   "source": [
    "_____________"
   ]
  },
  {
   "cell_type": "markdown",
   "id": "27979e8a",
   "metadata": {},
   "source": [
    "# **Research Question 8 - Charts, statistical tests and further hypotesis**"
   ]
  },
  {
   "cell_type": "markdown",
   "id": "6e387b91",
   "metadata": {},
   "source": [
    "## Does more “likes” also mean more comments? Plot a scatter plot of “likes” vs comments for posts."
   ]
  },
  {
   "cell_type": "code",
   "execution_count": null,
   "id": "fabc2020",
   "metadata": {},
   "outputs": [],
   "source": [
    "like_comments = pd.read_csv('~/posts.csv', delimiter='\\t', usecols=['numbr_likes','number_comments','cts'])"
   ]
  },
  {
   "cell_type": "code",
   "execution_count": 5,
   "id": "31e54a83",
   "metadata": {},
   "outputs": [],
   "source": [
    "like_comments.cts.fillna('', inplace=True)\n",
    "like_comments.cts = pd.to_datetime(like_comments.cts)\n",
    "like_comments.cts = like_comments.cts.dt.hour                  #For further analysis we're only taking in account the hour a post was posted"
   ]
  },
  {
   "cell_type": "code",
   "execution_count": 6,
   "id": "79bd8de0",
   "metadata": {},
   "outputs": [],
   "source": [
    "like_comments.numbr_likes = pd.to_numeric(like_comments.numbr_likes, errors='coerce')\n",
    "like_comments.number_comments = pd.to_numeric(like_comments.number_comments, errors='coerce')"
   ]
  },
  {
   "cell_type": "code",
   "execution_count": 7,
   "id": "3e6279e9",
   "metadata": {},
   "outputs": [
    {
     "data": {
      "text/plain": [
       "<bound method Series.dropna of 0            0.0\n",
       "1            1.0\n",
       "2            0.0\n",
       "3            0.0\n",
       "4            0.0\n",
       "            ... \n",
       "42710702     0.0\n",
       "42710703     0.0\n",
       "42710704     0.0\n",
       "42710705     1.0\n",
       "42710706    49.0\n",
       "Name: number_comments, Length: 42710707, dtype: float64>"
      ]
     },
     "execution_count": 7,
     "metadata": {},
     "output_type": "execute_result"
    }
   ],
   "source": [
    "like_comments.numbr_likes.dropna\n",
    "like_comments.number_comments.dropna"
   ]
  },
  {
   "cell_type": "code",
   "execution_count": 8,
   "id": "42098eff",
   "metadata": {},
   "outputs": [
    {
     "data": {
      "text/html": [
       "<div>\n",
       "<style scoped>\n",
       "    .dataframe tbody tr th:only-of-type {\n",
       "        vertical-align: middle;\n",
       "    }\n",
       "\n",
       "    .dataframe tbody tr th {\n",
       "        vertical-align: top;\n",
       "    }\n",
       "\n",
       "    .dataframe thead th {\n",
       "        text-align: right;\n",
       "    }\n",
       "</style>\n",
       "<table border=\"1\" class=\"dataframe\">\n",
       "  <thead>\n",
       "    <tr style=\"text-align: right;\">\n",
       "      <th></th>\n",
       "      <th>cts</th>\n",
       "      <th>numbr_likes</th>\n",
       "      <th>number_comments</th>\n",
       "    </tr>\n",
       "  </thead>\n",
       "  <tbody>\n",
       "    <tr>\n",
       "      <th>0</th>\n",
       "      <td>20.0</td>\n",
       "      <td>80.0</td>\n",
       "      <td>0.0</td>\n",
       "    </tr>\n",
       "    <tr>\n",
       "      <th>1</th>\n",
       "      <td>9.0</td>\n",
       "      <td>25.0</td>\n",
       "      <td>1.0</td>\n",
       "    </tr>\n",
       "    <tr>\n",
       "      <th>2</th>\n",
       "      <td>20.0</td>\n",
       "      <td>9.0</td>\n",
       "      <td>0.0</td>\n",
       "    </tr>\n",
       "    <tr>\n",
       "      <th>3</th>\n",
       "      <td>16.0</td>\n",
       "      <td>4.0</td>\n",
       "      <td>0.0</td>\n",
       "    </tr>\n",
       "    <tr>\n",
       "      <th>4</th>\n",
       "      <td>10.0</td>\n",
       "      <td>8.0</td>\n",
       "      <td>0.0</td>\n",
       "    </tr>\n",
       "  </tbody>\n",
       "</table>\n",
       "</div>"
      ],
      "text/plain": [
       "    cts  numbr_likes  number_comments\n",
       "0  20.0         80.0              0.0\n",
       "1   9.0         25.0              1.0\n",
       "2  20.0          9.0              0.0\n",
       "3  16.0          4.0              0.0\n",
       "4  10.0          8.0              0.0"
      ]
     },
     "execution_count": 8,
     "metadata": {},
     "output_type": "execute_result"
    }
   ],
   "source": [
    "like_comments.head()"
   ]
  },
  {
   "cell_type": "markdown",
   "id": "669a981d",
   "metadata": {},
   "source": [
    "We sample over the whole population because the scatterplot is barely unreadable when plotting the whole dataset. "
   ]
  },
  {
   "cell_type": "code",
   "execution_count": 9,
   "id": "55f231fa",
   "metadata": {},
   "outputs": [],
   "source": [
    "like_comments_sampled = like_comments.sample(5000)"
   ]
  },
  {
   "cell_type": "code",
   "execution_count": 10,
   "id": "e4f705f0",
   "metadata": {},
   "outputs": [
    {
     "data": {
      "image/png": "[encoded data removed]",
      "text/plain": [
       "<Figure size 1152x1152 with 1 Axes>"
      ]
     },
     "metadata": {
      "needs_background": "light"
     },
     "output_type": "display_data"
    }
   ],
   "source": [
    "x = like_comments_sampled.numbr_likes[(like_comments_sampled.numbr_likes>0)&(like_comments_sampled.number_comments>0)]\n",
    "y = like_comments_sampled.number_comments[(like_comments_sampled.numbr_likes>0)&(like_comments_sampled.number_comments>0)]\n",
    "\n",
    "fig, ax = plt.subplots(figsize = (16,16))\n",
    "ax.scatter(x,y,s=30,alpha=0.35)\n",
    "\n",
    "m,q = np.polyfit(np.log10(x),np.log10(y),deg=1)\n",
    "k = np.power(10,q)\n",
    "Y = np.power(x,m)\n",
    "ax.plot(x,k*Y,color='red',linestyle=':')\n",
    "\n",
    "ax.set_xscale(\"log\")\n",
    "ax.set_yscale(\"log\")\n",
    "plt.show()"
   ]
  },
  {
   "cell_type": "markdown",
   "id": "adea24e2",
   "metadata": {},
   "source": [
    "From a data-visualization perspective, there's clearly a strong correlation between the number of likes and the number of comments. We had to scale to a log-log plot to make a readable plot, because other wise it would have been to much scattered. \n",
    "\n",
    "In particular to get the regression line in a log-log plot we had firstly to find the regression parameters between $log(x)$ and $log(y)$, because we knew that then we would have set the log scales to both axes. So we defined an exponential model in order to get a linear one after log-scaling. Given $m,q$ as the slope and the intercept of the linear regression line over $log(x)$ and $log(y)$, we defined this relation:\n",
    "\n",
    "\\begin{align}\n",
    "y=10^q \\cdot x^m\n",
    "\\end{align}\n",
    "\n",
    "After log-scaling on both axes this equation becomes:\n",
    "\n",
    "\\begin{align}\n",
    "y=10^q \\cdot x^m \\\\\n",
    "log_{10}(y) = log_{10}(10^q \\cdot x^m) \\\\\n",
    "log_{10}(y) = log_{10}(10^q) + log_{10}(x^m) \\\\\n",
    "log_{10}(y) = q + m \\cdot log_{10}(x)\n",
    "\\end{align}\n",
    "\n",
    "which is a linear model between $log(x)$ and $log(y)$."
   ]
  },
  {
   "cell_type": "markdown",
   "id": "b8820dd0",
   "metadata": {},
   "source": [
    "## Can you find any significant relationship between the time a user publishes a post and the number of comments and “likes”? Use an appropriate statistical test or technique and support your choice."
   ]
  },
  {
   "cell_type": "markdown",
   "id": "1eaf5acb",
   "metadata": {},
   "source": [
    "We can start from a data-visualization perspective, scatterplotting both likes and comments with respect to the timestamp of the post."
   ]
  },
  {
   "cell_type": "code",
   "execution_count": 11,
   "id": "34abc9aa",
   "metadata": {},
   "outputs": [
    {
     "data": {
      "image/png": "[encoded data removed]",
      "text/plain": [
       "<Figure size 1152x1152 with 2 Axes>"
      ]
     },
     "metadata": {
      "needs_background": "light"
     },
     "output_type": "display_data"
    }
   ],
   "source": [
    "like_comments_sampled = like_comments.sample(100000)\n",
    "\n",
    "x = like_comments_sampled.numbr_likes[(like_comments_sampled.numbr_likes>0)&(like_comments_sampled.number_comments>0)]\n",
    "y = like_comments_sampled.number_comments[(like_comments_sampled.numbr_likes>0)&(like_comments_sampled.number_comments>0)]\n",
    "z = like_comments_sampled.cts[(like_comments_sampled.numbr_likes>0)&(like_comments_sampled.number_comments>0)]\n",
    "\n",
    "fig, (ax1, ax2) = plt.subplots(2,1, figsize=(16,16))\n",
    "ax1.scatter(x,z)\n",
    "ax1.set_xscale('log')\n",
    "\n",
    "ax2.scatter(y,z)\n",
    "ax2.set_xscale('log')\n",
    "               \n",
    "plt.show()"
   ]
  },
  {
   "cell_type": "markdown",
   "id": "e93ef1a8",
   "metadata": {},
   "source": [
    "These charts are not useful for interpreting this distribution, so we are going to manipulate this data. \n",
    "We are going to build a new dataframe where each of the series related to each of the timestamps is estimated with its median. \n"
   ]
  },
  {
   "cell_type": "code",
   "execution_count": 24,
   "id": "18e20f71",
   "metadata": {},
   "outputs": [],
   "source": [
    "estimated_likes = []\n",
    "estimated_comments = []\n",
    "timestamps = []\n",
    "for i in range(0,24):\n",
    "    mask = (like_comments.cts == i)\n",
    "    timestamps.append(i)\n",
    "    estimated_likes.append(like_comments.numbr_likes[mask].median())\n",
    "    estimated_comments.append(like_comments.number_comments[mask].median())\n",
    "    \n",
    "estimated_like_comments = pd.DataFrame({\n",
    "    'Timestamps': np.array(timestamps),\n",
    "    'Estimated Likes':np.array(estimated_likes),\n",
    "    'Estimated Comments':np.array(estimated_comments)\n",
    "})"
   ]
  },
  {
   "cell_type": "markdown",
   "id": "51f00fa2",
   "metadata": {},
   "source": [
    "Now we are going to plot this new dataframe to better visualize if there is any relation between number of likes or number of comments and the time a user publishes. "
   ]
  },
  {
   "cell_type": "code",
   "execution_count": 33,
   "id": "bd5bcbdb",
   "metadata": {},
   "outputs": [
    {
     "data": {
      "image/png": "[encoded data removed]",
      "text/plain": [
       "<Figure size 1152x1152 with 2 Axes>"
      ]
     },
     "metadata": {
      "needs_background": "light"
     },
     "output_type": "display_data"
    }
   ],
   "source": [
    "x = estimated_like_comments['Estimated Likes']\n",
    "y = estimated_like_comments['Estimated Comments']\n",
    "z = estimated_like_comments['Timestamps']\n",
    "\n",
    "\n",
    "fig, (ax1, ax2) = plt.subplots(2,1, figsize=(16,16))\n",
    "ax1.plot(z,x,marker='o')\n",
    "ax1.set_xticks(z)\n",
    "\n",
    "ax2.plot(z,y,marker='o')\n",
    "ax2.set_xticks(z)\n",
    "\n",
    "\n",
    "plt.show()"
   ]
  },
  {
   "cell_type": "markdown",
   "id": "1cf82a1a",
   "metadata": {},
   "source": [
    "We can assert that comments are almost evenly distributed through the whole day.\n",
    "Instead there's clearly a trend in the number of likes during the day: it is particularly interesting to observe that the number of likes shows its peak in the moment of the day where users also post the most. "
   ]
  },
  {
   "cell_type": "markdown",
   "id": "5b7e391d",
   "metadata": {},
   "source": [
    "## What’s the distribution of followers? Plot the empirical distribution of followers amongst all users and extract the mean, mode, and quantiles. Interpret those figures."
   ]
  },
  {
   "cell_type": "code",
   "execution_count": 17,
   "id": "8888bfc3",
   "metadata": {},
   "outputs": [],
   "source": [
    "profiles_followers = pd.read_csv('~/instagram_profiles.zip', delimiter='\\t',usecols=['profile_id','followers'])"
   ]
  },
  {
   "cell_type": "code",
   "execution_count": 18,
   "id": "ecaac993",
   "metadata": {},
   "outputs": [],
   "source": [
    "profiles_followers.followers.fillna(0,inplace=True)"
   ]
  },
  {
   "cell_type": "code",
   "execution_count": 19,
   "id": "7adbd8c8",
   "metadata": {},
   "outputs": [
    {
     "data": {
      "text/html": [
       "<div>\n",
       "<style scoped>\n",
       "    .dataframe tbody tr th:only-of-type {\n",
       "        vertical-align: middle;\n",
       "    }\n",
       "\n",
       "    .dataframe tbody tr th {\n",
       "        vertical-align: top;\n",
       "    }\n",
       "\n",
       "    .dataframe thead th {\n",
       "        text-align: right;\n",
       "    }\n",
       "</style>\n",
       "<table border=\"1\" class=\"dataframe\">\n",
       "  <thead>\n",
       "    <tr style=\"text-align: right;\">\n",
       "      <th></th>\n",
       "      <th>profile_id</th>\n",
       "      <th>followers</th>\n",
       "    </tr>\n",
       "  </thead>\n",
       "  <tbody>\n",
       "    <tr>\n",
       "      <th>count</th>\n",
       "      <td>4.477139e+06</td>\n",
       "      <td>4.509586e+06</td>\n",
       "    </tr>\n",
       "    <tr>\n",
       "      <th>mean</th>\n",
       "      <td>3.083302e+09</td>\n",
       "      <td>3.629111e+03</td>\n",
       "    </tr>\n",
       "    <tr>\n",
       "      <th>std</th>\n",
       "      <td>4.266575e+10</td>\n",
       "      <td>1.696849e+05</td>\n",
       "    </tr>\n",
       "    <tr>\n",
       "      <th>min</th>\n",
       "      <td>4.000000e+00</td>\n",
       "      <td>0.000000e+00</td>\n",
       "    </tr>\n",
       "    <tr>\n",
       "      <th>25%</th>\n",
       "      <td>2.735177e+08</td>\n",
       "      <td>9.000000e+00</td>\n",
       "    </tr>\n",
       "    <tr>\n",
       "      <th>50%</th>\n",
       "      <td>1.649248e+09</td>\n",
       "      <td>2.380000e+02</td>\n",
       "    </tr>\n",
       "    <tr>\n",
       "      <th>75%</th>\n",
       "      <td>5.514691e+09</td>\n",
       "      <td>7.290000e+02</td>\n",
       "    </tr>\n",
       "    <tr>\n",
       "      <th>max</th>\n",
       "      <td>9.001013e+13</td>\n",
       "      <td>2.854576e+08</td>\n",
       "    </tr>\n",
       "  </tbody>\n",
       "</table>\n",
       "</div>"
      ],
      "text/plain": [
       "         profile_id     followers\n",
       "count  4.477139e+06  4.509586e+06\n",
       "mean   3.083302e+09  3.629111e+03\n",
       "std    4.266575e+10  1.696849e+05\n",
       "min    4.000000e+00  0.000000e+00\n",
       "25%    2.735177e+08  9.000000e+00\n",
       "50%    1.649248e+09  2.380000e+02\n",
       "75%    5.514691e+09  7.290000e+02\n",
       "max    9.001013e+13  2.854576e+08"
      ]
     },
     "execution_count": 19,
     "metadata": {},
     "output_type": "execute_result"
    }
   ],
   "source": [
    "profiles_followers.describe()"
   ]
  },
  {
   "cell_type": "markdown",
   "id": "62469501",
   "metadata": {},
   "source": [
    "Now we want to define a method to plot the eCDF. \n",
    "We are defining a script that approximate the CDF of the variable that defined the statistical population, treated as a sample from iid random variables.  "
   ]
  },
  {
   "cell_type": "code",
   "execution_count": 20,
   "id": "660e9f29",
   "metadata": {},
   "outputs": [],
   "source": [
    "followers = np.sort(profiles_followers.followers)\n",
    "distribution = np.arange(1,(len(followers) + 1)) / len(followers)"
   ]
  },
  {
   "cell_type": "code",
   "execution_count": 21,
   "id": "da8c0b11",
   "metadata": {},
   "outputs": [
    {
     "data": {
      "image/png": "[encoded data removed]",
      "text/plain": [
       "<Figure size 1152x648 with 1 Axes>"
      ]
     },
     "metadata": {
      "needs_background": "light"
     },
     "output_type": "display_data"
    }
   ],
   "source": [
    "fig, ax = plt.subplots(figsize=(16,9))\n",
    "ax = plt.gca()\n",
    "ax.set_ylim([0.1, 2])\n",
    "ax.plot(followers, distribution)\n",
    "plt.xlabel('Number of followers')\n",
    "plt.ylabel('eCDF')\n",
    "ax.set_xscale('log')\n",
    "ax.set_yscale('log')\n",
    "plt.show()"
   ]
  },
  {
   "cell_type": "markdown",
   "id": "e627f027",
   "metadata": {},
   "source": [
    "From a data-visualization perspective this chart confirms the consequences of the central limit theorem. Infact the empirical cumulative distribution function looks like the CDF of a gaussian variable. "
   ]
  },
  {
   "cell_type": "code",
   "execution_count": 22,
   "id": "4ba99ee3",
   "metadata": {},
   "outputs": [
    {
     "name": "stdout",
     "output_type": "stream",
     "text": [
      "The mean of the number of followers is:           3629.1106174713154\n",
      "The median of the number of followers is:         238.0\n",
      "The mode of the number of followers is: 0    0.0\n",
      "dtype: float64\n",
      "The first quartile of the number of followers is: 9.0\n",
      "The third quartile of the number of followers is: 729.0\n",
      "The variance of the number of followers is:       28792973151.50589\n"
     ]
    }
   ],
   "source": [
    "print('The mean of the number of followers is:          ', profiles_followers.followers.mean())\n",
    "print('The median of the number of followers is:        ', profiles_followers.followers.median())\n",
    "print('The mode of the number of followers is:'          , profiles_followers.followers.mode())\n",
    "print('The first quartile of the number of followers is:', profiles_followers.followers.quantile(q=0.25))\n",
    "print('The third quartile of the number of followers is:', profiles_followers.followers.quantile(q=0.75))\n",
    "print('The variance of the number of followers is:      ', profiles_followers.followers.var())"
   ]
  },
  {
   "cell_type": "markdown",
   "id": "fec73ac2",
   "metadata": {},
   "source": [
    "Looking briefly at this summaries disregards our previous hypotesis, because we know that in a gaussian distribution median and mean are the same values, because the gaussian distribution is centered in the mean. Moreover, the median is not centered between the first and the third quartile. This can result as a consequence of an unbalanced sample, due to choice we made over the data cleaning options, or maybe this effect is due to the massive presence of outliers. "
   ]
  },
  {
   "cell_type": "markdown",
   "id": "59b1b37e",
   "metadata": {},
   "source": [
    "## What are histograms, bar plots, scatterplots and pie charts used for?"
   ]
  },
  {
   "cell_type": "markdown",
   "id": "3c083d83",
   "metadata": {},
   "source": [
    "**Histograms** <br>\n",
    "A histogram can be thought of as an estimator for the frequency distribution of a numeric variable. Outwardly, it looks like a bar plot, but instead of mechanically comparing data the histogram breaks it down into a certain amount of intervals and shows the frequency that falls into each interval. Thus, the values are split in bins (or buckets), each of whom is represented with a bar of a certain height. The number of bins is actually a very important parameter, because different values lead to a different representations; so it's crucial to try several rates to find the one that better depicts the pattern of data distribution over the given numeric spectrum. <br>\n",
    "**Bar plots** <br>\n",
    "A barplot (or bar chart or bar graph) is one of the most common types of graphics. It is used to show the relationship between a numeric variable and a categoric variable with rectangular bars with heights or lengths proportional to the values that they represent. In fact, a bar chart can be plotted both horizontally and vertically, case in which it is called a \"column chart\". In any case, the size of the bar represents the numeric value of the categoric variable. Because of these characteristics, bar plots are the most immediate charts to think of when having to display comparison among discrete categories. One axis shows the specific categories being compared, and the other a measured value for that category. In addition, it's possible to plot moltiple bars clustered in groups to represent the measure of more than one category. There are a few variations to create slighlty different-looking figures preserving the barplot accuracy, like for example lollipop plots: they are substancially a bar plot, but the bars are replaced with a stem and a dot. <br>\n",
    "**Scatterplots** <br>\n",
    "A scatter plot (or scatter chart or scatter graph) is a graphic that displays values for typically two variables of the same dataset, placing them in a Cartesian coordinates system. So, the data appears as a collection of points where the value of each variable determines the position of the point along the related axis. Each point represent an individual of the population we're examining through the information available in the dataset. A scatterplot's primary purpose is to observe the relationship between two variables: moreover, an important advantage of a scatterplot is that not only it allows to compare the numeric values of two variables, but it also displays the pattern between them. And from this pattern we can infer correlational relationships among variables. If there's correlation, given a particular horizontal value, we're able to tell what a good prediction would be for the vertical value. In order to be able to do so, we can divide data points into different groups based on how much aggregated a set of points appear. If there's a proportional increment in the point cloud displayed in the graph, the variables are correlated. In addition, we can look for any unexpected gaps in the data and/or any outlier points. Therefore, a scatterplot it's a quite meaningful and powerful type of chart. Anyway, it's important to underline that not always changes in one variable are responsible for changes in the other, as it may be implicated be some third variable contribution. <br>\n",
    "**Pie charts** <br>\n",
    "A pie chart (or a circle chart) is a circular statistical chart. Each variable is represented by a \"slice of the pie\" corresponding to its numerical proportion to the total. Consequently, in a pie chart, the arc of length of each slice, its angle and its area, are all proportional to the quantity it represents. This kind of graph has been named for its similarity to a pie that has been sliced, and there are a few variations on the way it can be displayed (for example as a donut chart). Although pie charts are widely used in the business world and the mass media, they're actually deprecated beacuse of the difficulty of reading angles and accurately compare the different sections. Whenever possible, pie charts should be replaced by other plots such as bar plots, box plots, dot plots, etc. On the other hand, a pie chart offers some advantages: it's best to use it when dealing with a few distinctive parts, as it overall provides a \"user-friendly\" visualization, and when data analysis doesn’t need to include time, as the pie chart lacks a dimension to represent it."
   ]
  },
  {
   "cell_type": "markdown",
   "id": "464388e6",
   "metadata": {},
   "source": [
    "## What insights can you extract from a Box Plot?"
   ]
  },
  {
   "cell_type": "markdown",
   "id": "3f2f7a15",
   "metadata": {},
   "source": [
    "A box plot (also knows as box and whisker plot) exploits boxes and lines to illustrate the distributions of numeric data values, especially when we're interested in comparing them between groups of variables. The construction of a box plot is based on quartiles, i.e. the values that divide the dataset into three equal fourths. The box limits demarcate the range of the central 50% of the data, whereas the central line identifies the median value, so that the ends of the box and its center line actually mark the locations of quartiles. Lines then extend from each box to reach the range of the remaining data, with dots placed past the line edges to indicate outliers. The distance between the third and first quartile is known as the interquartile range (IQR) and determines how long the whiskers extending from the box are. Box plots provide high-level information at a glance and are compact in their description of data, thanks to the the fact that they're based on the five-number summary: they comprise the minimum, the maximum, the sample median, and the first and third quartiles of the dataset. They're widely used in descriptive statistics as they're a standardized method to provide global information about data's symmetry, skew, variance and outliers. Outliers that differ significantly from the distribution of the dataset are shown as individual points beyond the whiskers limit, so it's immediate to notice them. It is also easy to see where the main bulk and skew of the data are. If a distribution is skewed, the median will not be in the middle of the box but will move to one or another side. We can also find imbalance in the length of the wiskers, that are one shorter with no outliers and the other with a long tail full of outliers.\n",
    "\n",
    "<div>\n",
    "    <center><img src=\"https://builtin.com/sites/www.builtin.com/files/styles/ckeditor_optimize/public/inline-images/1_boxplots.jpg\", width='750'/></center>\n",
    "</div>\n"
   ]
  },
  {
   "cell_type": "markdown",
   "id": "4fd73a47",
   "metadata": {},
   "source": [
    "_______________"
   ]
  },
  {
   "cell_type": "markdown",
   "id": "4cbc32a7",
   "metadata": {},
   "source": [
    "____________"
   ]
  },
  {
   "cell_type": "markdown",
   "id": "e92e05b8",
   "metadata": {},
   "source": [
    "# Algorithmic question #1"
   ]
  },
  {
   "cell_type": "raw",
   "id": "e896147d",
   "metadata": {},
   "source": [
    "Input: \n",
    "    N : an integer \n",
    "    List : array of characters of length N without repetition\n",
    "    \n",
    "function f1(sequence, end): \n",
    "    For i=0 To end:\n",
    "        OUTPUT sequence[i]\n",
    "    EndFor\n",
    "    Output \"\\n\"\n",
    "    \n",
    "function f2(sequence, start, end): \n",
    "    If start = end: \n",
    "        f1(sequence, end)\n",
    "    Else\n",
    "        For i=start To end: \n",
    "            temp <-- sequence[start]\n",
    "            sequence[start] <-- sequence[i]\n",
    "            sequence[i] <-- temp\n",
    "            f2(sequence, start+1, end)\n",
    "            temp <-- sequence[start]\n",
    "            sequence[start] <-- sequence[i]\n",
    "            sequence[i] <-- temp\n",
    "            \n",
    "f2(List, 0, N)"
   ]
  },
  {
   "cell_type": "markdown",
   "id": "1a1b0cf8",
   "metadata": {},
   "source": [
    "### *1. What is the output of the algorithm?*\n"
   ]
  },
  {
   "cell_type": "markdown",
   "id": "2773d9da",
   "metadata": {},
   "source": [
    "This algorithm is defined in two blocks. One is a subroutine $f_1$ that for an input array gives back each element of the array till the $end$ index. The second block $f_2$ is defined recursively: this recursive expression shifts forward the $start$ index until the condition $start = end$ is True and the subroutine $f_1$ is called to output the modified array, while in the inner loops temporary variables store the element pointed by $start$ element to do a switch.\n",
    "Basically, ignoring the partial outputs of the algorithm, this script takes the last element of the sequence, brings it to the first position, and then shift one position ahead the remaining sequence. "
   ]
  },
  {
   "cell_type": "markdown",
   "id": "6ed5adb8",
   "metadata": {},
   "source": [
    "The problem in this algorithm is that every second part of every loop and every first part of the following loop does exactly the same tasks, so it is not efficient at all. Actually, it has many redundancies, also in the stop condition verification and the initialization of the loop. It is not a well designed algorithm: the switch, the core of the algorithm, actually only happens after the recursive calls. "
   ]
  },
  {
   "cell_type": "markdown",
   "id": "24b3358f",
   "metadata": {},
   "source": [
    "### *2. Asymptotical running time*"
   ]
  },
  {
   "cell_type": "markdown",
   "id": "68dc1619",
   "metadata": {},
   "source": [
    "We have the $f_1$ subroutine that is executed only one time in a running time $n$. We then have a for loop where there's the recursive call. This implies that every $for$ loop nests another for loop on every recursive calls, resulting in $n$ nested for loops: each $i_{th}$ iteration goes from $i$ to $n$. So this part of the algorithm runs in $6\\cdot\\prod_{i=0}^{n} (n-1)$. So asymptotically $T(n) = \\theta(n^{n})$."
   ]
  },
  {
   "cell_type": "markdown",
   "id": "a958932a",
   "metadata": {},
   "source": [
    "### *3. Optimizing the algorithm*"
   ]
  },
  {
   "cell_type": "markdown",
   "id": "0f41d4bd",
   "metadata": {},
   "source": [
    "We can write a linear algorithm that points straight to the final output of the whole procedure. "
   ]
  },
  {
   "cell_type": "raw",
   "id": "46833843",
   "metadata": {},
   "source": [
    "Input: \n",
    "    N : an integer \n",
    "    List : array of characters of length N without repetition\n",
    "    \n",
    "function bestOne(sequence, N):\n",
    "    newSequence = [sequence[N]]\n",
    "    For i=0 To N-1:\n",
    "        newSequence += sequence[i]\n",
    "    EndFor\n",
    "    For i=0 To N: Output newSequence[i]\n",
    "    EndFor\n",
    "\n",
    "bestOne"
   ]
  },
  {
   "cell_type": "markdown",
   "id": "8f4f1bbf",
   "metadata": {},
   "source": [
    "_____________"
   ]
  },
  {
   "cell_type": "markdown",
   "id": "da768399",
   "metadata": {},
   "source": [
    "# Algorithmic question #2"
   ]
  },
  {
   "cell_type": "markdown",
   "id": "484f1538",
   "metadata": {},
   "source": [
    "## Some introductive notes"
   ]
  },
  {
   "cell_type": "markdown",
   "id": "267cfc46",
   "metadata": {},
   "source": [
    "We want to analyze two basic istances of the problem: maximizing the product of the lengths after one single cut, and maximizing the product of the lengths after two following cuts. It can be shown thath both problem are concave non linear maximization problems with integer constraints, so we are going to get only specific solutions without branching&bounding.\n",
    "\n",
    "##### *Maximize the product of the lengths given by a single cut*\n",
    "\n",
    "Given $N$ as an integer and supposing we cut $k$ element from it, the product between the length of the two sections is $k(N-k)$. \n",
    "The problem is \n",
    "\\begin{align}\n",
    "\\max\\limits_{k = 1,2,...,N-1}\\ \\ k(N-k)\n",
    "\\end{align}\n",
    "\n",
    "Expanding the expression we have\n",
    "\\begin{align}\n",
    "\\max\\limits_{{k = 1,2,...,N-1}}\\ \\ k(N-k) =\\max\\limits_{{k = 1,2,...,N-1}}\\ \\ kN-k^2\n",
    "\\end{align}\n",
    "\n",
    "It's easy to prove that the target function $F(k,N) = kN-k^2 $ is a concave one in his domain: infact\n",
    "\\begin{align}\n",
    "\\frac{\\partial ^2 F}{\\partial k^2} = -2\n",
    "\\end{align}\n",
    "\n",
    "Since $F$ is a concave function and we are dealing with a maximization problem, first order conditions of optimality are necessary and sufficient conditions. \n",
    "\n",
    "So \n",
    "\\begin{align}\n",
    "\\frac{\\partial F}{\\partial k}  = N - 2k = 0\n",
    "\\end{align}\n",
    "\n",
    "Gives us the optimal value for $k$, \n",
    "\\begin{align}\n",
    "k^*=\\frac{N}{2}\n",
    "\\end{align}\n",
    "\n",
    "and sets an obvious constraint over $N$, which should be $N>2$. It is also only true for even values of $N$.\n",
    "\n",
    "This approach doesn't seem to work with even or not even number without further assumptions. In other words, maximizing on the first cut is not enough to come up with a global solution. \n",
    "- Given for example $N=8$, applying this first criterion, we choose the cut $(4,4)$ that maxizime the product on ther first cut. Infact we have the cuts and associated products $(1,7):7, (2,6):12, (3,5):15, (4,4):16$. The cut $(3,5)$, with a furter cut, gives $(3,3,2)$, and the product is $18$ which is greate than every possible furter cut on $(4,4)$.\n",
    "- Given for example $N=9$, we see that even if the first cut $(4,5)$ gives $20$ as a partial output it doesn't lead to the maximum, dispite it is greater than the partial output given by the cut $(3,6)$ that is $18$. In fact the cut $(3,6)$ than gives us the cut $(3,3,3)$ which outputs $27$, against the first that leads to $(2,2,2,3)$, which outputs $24$. So we can extend our analysis to a more dynamic approach. \n",
    "\n",
    "##### *Maximize the product of the lengths given by two folllowing cuts*\n",
    "\n",
    "Given $N$ as an integer, let's suppose we remove $k$ elements from it. Then, we remove $j$ elements from the remaining $N-k$, so that we are left with $N-k-j$ elements. The problem becomes\n",
    "\\begin{align}\n",
    "\\begin{cases}\n",
    "\\max\\limits_{{k,j}}\\ \\ kj(N-k-j)\\\\\n",
    "1 \\leq k < N \\\\\n",
    "1 \\leq j < N - k\n",
    "\\end{cases}\n",
    "\\end{align}\n",
    "\n",
    "We can prove concavity of the target function $F(N,k,j)$ with the determinant of the Hessian. \n",
    "\\begin{equation}\n",
    "\\begin{bmatrix}\n",
    "\\frac{\\partial ^2 F}{\\partial k^2} & \\frac{\\partial ^2 F}{\\partial k \\partial j}\\\\\n",
    "\\frac{\\partial ^2 F}{\\partial k \\partial j} & \\frac{\\partial ^2 F}{\\partial j^2}\\\\\n",
    "\\end{bmatrix}\n",
    "=\n",
    "\\begin{bmatrix}\n",
    "-2j & N-2k-2j\\\\\n",
    "N-2k-2j & -2k\n",
    "\\end{bmatrix}\n",
    "\\end{equation}\n",
    "\n",
    "We can show that the determinant of the Hessian is definite negative since $H(1,1) < 0$ and its determinant is positive for all values of $N$, $j$ and $k$. \n",
    "\n",
    "Now we can find the optimal solution by using first order conditions, since we are dealing with maximizing a concave function. \n",
    "\\begin{cases}\n",
    "    \\frac{\\partial F}{\\partial k}  = jN - 2kj - j^2 = 0\\\\\n",
    "    \\frac{\\partial F}{\\partial j}  = kN - 2kj - k^2 = 0\n",
    "\\end{cases}\n",
    "\n",
    "\\begin{cases}\n",
    "j^2+(2k-N)j=0\\\\\n",
    "k^2+(2j-N)k=0\n",
    "\\end{cases}\n",
    "\n",
    "\\begin{cases}\n",
    "j(j+2k-N)=0\\\\\n",
    "k(k+2j-N)=0\n",
    "\\end{cases}\n",
    "\n",
    "\\begin{cases}\n",
    "j=N-2k\\\\\n",
    "k+2N-4k-N=0\n",
    "\\end{cases}\n",
    "\n",
    "So we are given the optimal values $k^*=\\frac{N}{3}$ and $j^*=\\frac{N}{3}$. This is basically true for multiples of 3, but we can merge this solution with the initial one to find a path that leads us to a recursive solution and to a linear heuristic solution for $N$ generic. Infact the cuts that make block of length $2$ or $3$ are the ones that give us the maximum product between lengths. So we are going to work on algorithms assuming that $N>4$, because as the basic cases of the recursion we'll exclude the cases $N=2,N=3,N=4$.\n",
    "- $N=2$ : the only mandatory cut is $(1,1)$, that reduces the product of lengths in a more complex case, so we don't go any further;\n",
    "- $N=3$ : the only mandatory cut is $(2,1)$ and we don't go any further, because cutting again will reduce the product of lengths, but in a more complex case where we find $(..,...,...,3)$ as a result of successive cuts we don't cut the ribbon of length 3 anymore;\n",
    "- $N=4$ : the best mandatory cut is $(2,2)$ and we don't go any further for the same reasons; in a more complex case where we find $(...,...,...,4)$ as a result of successive cuts it is indifferent wheter we cut again or not."
   ]
  },
  {
   "cell_type": "markdown",
   "id": "690db069",
   "metadata": {},
   "source": [
    "### *1. Recursive version of the algorithm*"
   ]
  },
  {
   "cell_type": "code",
   "execution_count": 1,
   "id": "21cedbb0",
   "metadata": {},
   "outputs": [],
   "source": [
    "def ribbonCut(n:int) -> int:\n",
    "    if n <= 4:\n",
    "        return n\n",
    "    else:\n",
    "        return max([i*ribbonCut(n-i) for i in range(1,n)])"
   ]
  },
  {
   "cell_type": "markdown",
   "id": "c1122a23",
   "metadata": {},
   "source": [
    "We are going to look at the results for the first 25 number and then make some comments about this algorithm. "
   ]
  },
  {
   "cell_type": "code",
   "execution_count": 2,
   "id": "e314ca17",
   "metadata": {},
   "outputs": [
    {
     "data": {
      "text/html": [
       "<div>\n",
       "<style scoped>\n",
       "    .dataframe tbody tr th:only-of-type {\n",
       "        vertical-align: middle;\n",
       "    }\n",
       "\n",
       "    .dataframe tbody tr th {\n",
       "        vertical-align: top;\n",
       "    }\n",
       "\n",
       "    .dataframe thead th {\n",
       "        text-align: right;\n",
       "    }\n",
       "</style>\n",
       "<table border=\"1\" class=\"dataframe\">\n",
       "  <thead>\n",
       "    <tr style=\"text-align: right;\">\n",
       "      <th></th>\n",
       "      <th>Ribbons</th>\n",
       "      <th>Max product of sublengths</th>\n",
       "    </tr>\n",
       "  </thead>\n",
       "  <tbody>\n",
       "    <tr>\n",
       "      <th>0</th>\n",
       "      <td>5</td>\n",
       "      <td>6</td>\n",
       "    </tr>\n",
       "    <tr>\n",
       "      <th>1</th>\n",
       "      <td>6</td>\n",
       "      <td>9</td>\n",
       "    </tr>\n",
       "    <tr>\n",
       "      <th>2</th>\n",
       "      <td>7</td>\n",
       "      <td>12</td>\n",
       "    </tr>\n",
       "    <tr>\n",
       "      <th>3</th>\n",
       "      <td>8</td>\n",
       "      <td>18</td>\n",
       "    </tr>\n",
       "    <tr>\n",
       "      <th>4</th>\n",
       "      <td>9</td>\n",
       "      <td>27</td>\n",
       "    </tr>\n",
       "    <tr>\n",
       "      <th>5</th>\n",
       "      <td>10</td>\n",
       "      <td>36</td>\n",
       "    </tr>\n",
       "    <tr>\n",
       "      <th>6</th>\n",
       "      <td>11</td>\n",
       "      <td>54</td>\n",
       "    </tr>\n",
       "    <tr>\n",
       "      <th>7</th>\n",
       "      <td>12</td>\n",
       "      <td>81</td>\n",
       "    </tr>\n",
       "    <tr>\n",
       "      <th>8</th>\n",
       "      <td>13</td>\n",
       "      <td>108</td>\n",
       "    </tr>\n",
       "    <tr>\n",
       "      <th>9</th>\n",
       "      <td>14</td>\n",
       "      <td>162</td>\n",
       "    </tr>\n",
       "    <tr>\n",
       "      <th>10</th>\n",
       "      <td>15</td>\n",
       "      <td>243</td>\n",
       "    </tr>\n",
       "    <tr>\n",
       "      <th>11</th>\n",
       "      <td>16</td>\n",
       "      <td>324</td>\n",
       "    </tr>\n",
       "    <tr>\n",
       "      <th>12</th>\n",
       "      <td>17</td>\n",
       "      <td>486</td>\n",
       "    </tr>\n",
       "    <tr>\n",
       "      <th>13</th>\n",
       "      <td>18</td>\n",
       "      <td>729</td>\n",
       "    </tr>\n",
       "    <tr>\n",
       "      <th>14</th>\n",
       "      <td>19</td>\n",
       "      <td>972</td>\n",
       "    </tr>\n",
       "    <tr>\n",
       "      <th>15</th>\n",
       "      <td>20</td>\n",
       "      <td>1458</td>\n",
       "    </tr>\n",
       "    <tr>\n",
       "      <th>16</th>\n",
       "      <td>21</td>\n",
       "      <td>2187</td>\n",
       "    </tr>\n",
       "    <tr>\n",
       "      <th>17</th>\n",
       "      <td>22</td>\n",
       "      <td>2916</td>\n",
       "    </tr>\n",
       "    <tr>\n",
       "      <th>18</th>\n",
       "      <td>23</td>\n",
       "      <td>4374</td>\n",
       "    </tr>\n",
       "    <tr>\n",
       "      <th>19</th>\n",
       "      <td>24</td>\n",
       "      <td>6561</td>\n",
       "    </tr>\n",
       "    <tr>\n",
       "      <th>20</th>\n",
       "      <td>25</td>\n",
       "      <td>8748</td>\n",
       "    </tr>\n",
       "  </tbody>\n",
       "</table>\n",
       "</div>"
      ],
      "text/plain": [
       "    Ribbons  Max product of sublengths\n",
       "0         5                          6\n",
       "1         6                          9\n",
       "2         7                         12\n",
       "3         8                         18\n",
       "4         9                         27\n",
       "5        10                         36\n",
       "6        11                         54\n",
       "7        12                         81\n",
       "8        13                        108\n",
       "9        14                        162\n",
       "10       15                        243\n",
       "11       16                        324\n",
       "12       17                        486\n",
       "13       18                        729\n",
       "14       19                        972\n",
       "15       20                       1458\n",
       "16       21                       2187\n",
       "17       22                       2916\n",
       "18       23                       4374\n",
       "19       24                       6561\n",
       "20       25                       8748"
      ]
     },
     "execution_count": 2,
     "metadata": {},
     "output_type": "execute_result"
    }
   ],
   "source": [
    "import pandas as pd\n",
    "import numpy as np\n",
    "\n",
    "ribbons = [i for i in range(5,26)]\n",
    "ribbons_solutions = np.array([ribbonCut(i) for i in ribbons])\n",
    "\n",
    "RecursiveResults = pd.DataFrame({\n",
    "    'Ribbons':np.array(ribbons),\n",
    "    'Max product of sublengths':ribbons_solutions\n",
    "})\n",
    "\n",
    "RecursiveResults"
   ]
  },
  {
   "cell_type": "markdown",
   "id": "ef9c642d",
   "metadata": {},
   "source": [
    "This algorithm is defined over a recursive expression. As we said before, the basic cases of the recursion are those over which we decrease the product of the sub-lengths if we cut. We are assuming we are dealing with $N>4$ inputs, because as we said the mandatory cut give us this situation:"
   ]
  },
  {
   "cell_type": "code",
   "execution_count": 3,
   "id": "e1574830",
   "metadata": {},
   "outputs": [
    {
     "data": {
      "text/html": [
       "<div>\n",
       "<style scoped>\n",
       "    .dataframe tbody tr th:only-of-type {\n",
       "        vertical-align: middle;\n",
       "    }\n",
       "\n",
       "    .dataframe tbody tr th {\n",
       "        vertical-align: top;\n",
       "    }\n",
       "\n",
       "    .dataframe thead th {\n",
       "        text-align: right;\n",
       "    }\n",
       "</style>\n",
       "<table border=\"1\" class=\"dataframe\">\n",
       "  <thead>\n",
       "    <tr style=\"text-align: right;\">\n",
       "      <th></th>\n",
       "      <th>Basic instances</th>\n",
       "      <th>Mandatory cut and related product</th>\n",
       "    </tr>\n",
       "  </thead>\n",
       "  <tbody>\n",
       "    <tr>\n",
       "      <th>0</th>\n",
       "      <td>2</td>\n",
       "      <td>((1, 1), 1)</td>\n",
       "    </tr>\n",
       "    <tr>\n",
       "      <th>1</th>\n",
       "      <td>3</td>\n",
       "      <td>((1, 2), 2)</td>\n",
       "    </tr>\n",
       "    <tr>\n",
       "      <th>2</th>\n",
       "      <td>4</td>\n",
       "      <td>((2, 2), 4)</td>\n",
       "    </tr>\n",
       "  </tbody>\n",
       "</table>\n",
       "</div>"
      ],
      "text/plain": [
       "   Basic instances Mandatory cut and related product\n",
       "0                2                       ((1, 1), 1)\n",
       "1                3                       ((1, 2), 2)\n",
       "2                4                       ((2, 2), 4)"
      ]
     },
     "execution_count": 3,
     "metadata": {},
     "output_type": "execute_result"
    }
   ],
   "source": [
    "BasicInstances = pd.DataFrame({\n",
    "    'Basic instances':[2,3,4],\n",
    "    'Mandatory cut and related product':[((1,1),1),((1,2),2),((2,2),4)]})\n",
    "BasicInstances"
   ]
  },
  {
   "cell_type": "markdown",
   "id": "1274e82e",
   "metadata": {},
   "source": [
    "If these basic instances appears as a partial output of the process we keep them uncutted. "
   ]
  },
  {
   "cell_type": "markdown",
   "id": "0941c42d",
   "metadata": {},
   "source": [
    "The algorithm basically exploits the idea given by the second model we analyzed at the beginning. It is not enough to maximize the product over one cut, but we need to go deeper because the global maximum could be in a starting cut that doesn't maximize. \n",
    "\n",
    "The recursive expression \n",
    "\\begin{align}\n",
    "max \\{ i\\cdot ribbonCut(n-i) _{for\\:i \\in [1,n)_N}\\}\n",
    "\\end{align}\n",
    "\n",
    "didn't need to be written in this way, although it seems more complete:\n",
    "\\begin{align}\n",
    "max\\{ribbonCut(i) \\cdot ribbonCut(n-i) _{for\\:i \\in [1,n)_N}\\}\n",
    "\\end{align}\n",
    "\n",
    "because the term $ribbonCut(n-i)$ scans through all the values of $(n-i)$ for $i=1,...,n$, so it is enough to scan through also all values of $i$: when $i\\geq \\frac {N}{2}$, $n-1$ is scanning values of $i < \\frac {N}{2}$."
   ]
  },
  {
   "cell_type": "markdown",
   "id": "baa09738",
   "metadata": {},
   "source": [
    "This algorithm builds every possible cut made up of basic instances in the top-down phase, then come up with the maximum product between the given length in the bottom-up phase. It computes every cut of every sub-ribbon on every recursive call, and then when it meets the stop condition retraces all the partial outputs and finds the maximum. "
   ]
  },
  {
   "cell_type": "markdown",
   "id": "700b7532",
   "metadata": {},
   "source": [
    "The problem of this algorithm is the reason why it isn't efficient. Infact it computes many times the same values: we'll solve this with dynamic programming implementation."
   ]
  },
  {
   "cell_type": "markdown",
   "id": "83f1d409",
   "metadata": {},
   "source": [
    "### *2. Evaluation of the running time: purely recursive case*"
   ]
  },
  {
   "cell_type": "markdown",
   "id": "2f6072b4",
   "metadata": {},
   "source": [
    "Now we want to evaluate the running time of this implementation. Following the recursive expression, we can come up with this expression for $T(n)$, because to find the maximum value in the worst case we need to compute all of the other values. "
   ]
  },
  {
   "cell_type": "markdown",
   "id": "0ee1ef5f",
   "metadata": {},
   "source": [
    "\\begin{align}\n",
    "T(n) = k + \\sum_{i=1}^{n-1} T(n-i)\\ \n",
    "\\end{align}"
   ]
  },
  {
   "cell_type": "markdown",
   "id": "248added",
   "metadata": {},
   "source": [
    "We can build a chain of $n$ inequalities, because the running-time function is growing monotone with respect to $n$. \n",
    "\n",
    "- $T(n) \\geq (n-1)\\cdot(T(n-1)+k)$ because we are upper-bounding each $T(n-i)_{i=1,...,n-1}$ term that appears in $\\sum_{i=1}^{n-1} T(n-i)$ with $T(n-1)$\n",
    "\n",
    "- $T(n-1) \\geq (n-2)\\cdot(T(n-2)+k)$ because we are upper-bounding each $T(n-i)_{i=2,...,n-1}$ term that appears in $\\sum_{i=2}^{n-1} T(n-i)$ with $T(n-2)$\n",
    "\n",
    "- ...\n",
    "\n",
    "We can find a resuming inequality by combining this considerations:\n",
    "\n",
    "\\begin{align}\n",
    "T(n) \\geq T(1)\\cdot\\prod_{i=1}^{n-1}(n-i)\n",
    "\\end{align}\n",
    "\n",
    "\n"
   ]
  },
  {
   "cell_type": "markdown",
   "id": "ff4cf21b",
   "metadata": {},
   "source": [
    "So we can finally assert that $T(n) = \\theta(n^{n-1})$."
   ]
  },
  {
   "cell_type": "markdown",
   "id": "c208c66c",
   "metadata": {},
   "source": [
    "### *3. Optimization with dynamic programming techniques and running-time evaluation*"
   ]
  },
  {
   "cell_type": "markdown",
   "id": "b7317127",
   "metadata": {},
   "source": [
    "Now we are going to optimize this algorithm by using dynamic programming. This provides an implementation that avoids counting repeatedly the same values. \n",
    "\n",
    "We need a data structure to store values we compute at each iteration, until we reach the stop condition. \n",
    "\n",
    "So we build a table where rows are numerated from $n-1$ to $1$, and columns are numerated from $1$ to $n-1$. We'll find on the main diagonal the product between the row-label and the column-label: in other words, this is the product on the first cut. Then we want to go deeper, finding for every resulting lengths its possible cuts.\n",
    "The resulting matrix is going to be a lower triangular matrix: we'll fill it iterating the basic idea through the diagonals of the square minor matrices. This we'll give us the product of the lengths given by each subcut on the related supercut.\n",
    "\n",
    "Then we'll use the Bellman's equation to update bottom-up the values on this diagonals, in order to maximize every level of the configurations until in the main diagonal we'll find the global solution on its maximum. "
   ]
  },
  {
   "cell_type": "code",
   "execution_count": 15,
   "id": "f10fcea5",
   "metadata": {},
   "outputs": [],
   "source": [
    "import numpy as np\n",
    "\n",
    "def dynamicRibbon(n:int) -> int:\n",
    "    if n <= 4:\n",
    "        return n\n",
    "    dp = np.array([[0 for i in range(1,n)] for i in range (1,n)])            #We initialize a table that will result in a triangular matrix\n",
    "    for y in range(1,n):                                                     #We fill the diagonal with all the possible first cuts\n",
    "        dp[y-1][y-1] = y*(n-y)\n",
    "    \n",
    "    '''\n",
    "    Then I define a procedure to fill and update the values on the squared minors\n",
    "    diagonals and I want the method to output the maximum value on the main diagonal.\n",
    "     \n",
    "    This update procedure is based on finding the cut that maximize the product of the lengths\n",
    "    given by each value that gets cutted.\n",
    "    '''\n",
    "                                                                             #TOPDOWN\n",
    "    for k in range(1,n-1):                                                   #This procedure fills the triangular matrix\n",
    "        for j in range(1, n-k):                                              #We need this to define a proper state table\n",
    "            dp[j+k-1][j-1] = j*(n-j-k)                                       #to be updated\n",
    "            \n",
    "    print(dp)                                                                #To show the state table before updates\n",
    "    \n",
    "                                                                             #BOTTOMUP\n",
    "    for i in range(n-6,-1,-1):                                               #I don't need to update the basic istances\n",
    "        for l in range(0,1+(n-1-i)//2):                                      #Each diagonal is symmetric, so I just go through half of it\n",
    "            square_minor_dimension = s = n-2-i-l\n",
    "            dp[i+l,l] = max(dp[i+l,l],                                       #BELLMAN'S EQUATION\n",
    "                            (l+1)*max([dp[i+l+1+m,m]                         #(l+1) links this index to the number it actually represents, the other length given by the super-cut\n",
    "                                       for m in range(0, s)]))               #This m-index goes through the columns of the diagonal \n",
    "                                                                             #of interest, which start one row down the pointer (i,l)\n",
    "                 \n",
    "    print(dp)                                                                #To show the state table after updates\n",
    "    \n",
    "    return np.max(np.diagonal(dp))                                           #ACHTUNG The max over the main diagonal is also the max over\n",
    "                                                                             #the whole table"
   ]
  },
  {
   "cell_type": "markdown",
   "id": "c1e276b6",
   "metadata": {},
   "source": [
    "It's easy to compute the running time in this case, because we basically have to count the number of operations due to the loops. We need $\\frac{(n-1)^2}{2}$ operations to fill the lower triangular matrix, and in the worst case we need $\\sum_{x=5}^{n} (n-x)^2$ to make all the comparisons and make the update. In fact every 'diagonal' (except for the ones related to basic instances) forces to check back all the underlying values, and we know that $\\sum_{z=1}^{n} z^2 \\sim n^3$. Finally, we need $\\frac{(n-1)^2}{2}$ operations to extract the maximum from the diagonal of the matrix. \n",
    "\n",
    "Due to these considerations, this specific implementation has a polynomial running time, and in particular $T(n) = \\theta(n^3)$: there's for sure a better implementation that optimize the update procedure and the memory usage, but we make a great improvement over the first implementation. "
   ]
  },
  {
   "cell_type": "markdown",
   "id": "23de6e16",
   "metadata": {},
   "source": [
    "### *4. Comparing the two algorithms*"
   ]
  },
  {
   "cell_type": "markdown",
   "id": "024034bc",
   "metadata": {},
   "source": [
    "Now we are going to build two datasets to show the different running times of the two algorithms. We assume now that for $N<4$ we won't cut the ribbon. "
   ]
  },
  {
   "cell_type": "code",
   "execution_count": null,
   "id": "a8147308",
   "metadata": {},
   "outputs": [],
   "source": [
    "import pandas as pd\n",
    "import numpy as np\n",
    "import timeit\n",
    "\n",
    "recursive_runtimes = []\n",
    "for num in range(2,26):\n",
    "    start = timeit.default_timer()\n",
    "    ribbonCut(num)\n",
    "    stop = timeit.default_timer()\n",
    "    recursive_runtimes.append(stop-start)\n",
    "\n",
    "dynamic_runtimes = []\n",
    "for num in range(2,26):\n",
    "    start = timeit.default_timer()\n",
    "    dynamicRibbon(num)\n",
    "    stop = timeit.default_timer()\n",
    "    dynamic_runtimes.append(stop-start)\n",
    "\n",
    "ribbons = [i for i in range(2,26)]\n",
    "recursive_solutions = np.array([ribbonCut(i) for i in ribbons])\n",
    "dynamic_solutions = np.array([dynamicRibbon(i) for i in ribbons])\n",
    "\n",
    "Results = pd.DataFrame({\n",
    "    'Ribbons':np.array(ribbons),\n",
    "    'Solutions':recursive_solutions,\n",
    "    'Recursive Runtimes':np.array(recursive_runtimes),\n",
    "    'Dynamic Runtimes':np.array(dynamic_runtimes)\n",
    "})\n"
   ]
  },
  {
   "cell_type": "code",
   "execution_count": 6,
   "id": "13f77e2a",
   "metadata": {},
   "outputs": [
    {
     "data": {
      "text/html": [
       "<div>\n",
       "<style scoped>\n",
       "    .dataframe tbody tr th:only-of-type {\n",
       "        vertical-align: middle;\n",
       "    }\n",
       "\n",
       "    .dataframe tbody tr th {\n",
       "        vertical-align: top;\n",
       "    }\n",
       "\n",
       "    .dataframe thead th {\n",
       "        text-align: right;\n",
       "    }\n",
       "</style>\n",
       "<table border=\"1\" class=\"dataframe\">\n",
       "  <thead>\n",
       "    <tr style=\"text-align: right;\">\n",
       "      <th></th>\n",
       "      <th>Ribbons</th>\n",
       "      <th>Recursive Solutions</th>\n",
       "      <th>Recursive Runtimes</th>\n",
       "      <th>Dynamic Runtimes</th>\n",
       "    </tr>\n",
       "  </thead>\n",
       "  <tbody>\n",
       "    <tr>\n",
       "      <th>0</th>\n",
       "      <td>2</td>\n",
       "      <td>2</td>\n",
       "      <td>2.044000e-06</td>\n",
       "      <td>2.003000e-06</td>\n",
       "    </tr>\n",
       "    <tr>\n",
       "      <th>1</th>\n",
       "      <td>3</td>\n",
       "      <td>3</td>\n",
       "      <td>4.810000e-07</td>\n",
       "      <td>4.889999e-07</td>\n",
       "    </tr>\n",
       "    <tr>\n",
       "      <th>2</th>\n",
       "      <td>4</td>\n",
       "      <td>4</td>\n",
       "      <td>3.690001e-07</td>\n",
       "      <td>4.380000e-07</td>\n",
       "    </tr>\n",
       "    <tr>\n",
       "      <th>3</th>\n",
       "      <td>5</td>\n",
       "      <td>6</td>\n",
       "      <td>4.306000e-06</td>\n",
       "      <td>9.795500e-05</td>\n",
       "    </tr>\n",
       "    <tr>\n",
       "      <th>4</th>\n",
       "      <td>6</td>\n",
       "      <td>9</td>\n",
       "      <td>4.252000e-06</td>\n",
       "      <td>4.160800e-05</td>\n",
       "    </tr>\n",
       "    <tr>\n",
       "      <th>5</th>\n",
       "      <td>7</td>\n",
       "      <td>12</td>\n",
       "      <td>6.051000e-06</td>\n",
       "      <td>4.967100e-05</td>\n",
       "    </tr>\n",
       "    <tr>\n",
       "      <th>6</th>\n",
       "      <td>8</td>\n",
       "      <td>18</td>\n",
       "      <td>1.053300e-05</td>\n",
       "      <td>6.027200e-05</td>\n",
       "    </tr>\n",
       "    <tr>\n",
       "      <th>7</th>\n",
       "      <td>9</td>\n",
       "      <td>27</td>\n",
       "      <td>5.803670e-04</td>\n",
       "      <td>7.654900e-05</td>\n",
       "    </tr>\n",
       "    <tr>\n",
       "      <th>8</th>\n",
       "      <td>10</td>\n",
       "      <td>36</td>\n",
       "      <td>4.128600e-05</td>\n",
       "      <td>9.603500e-05</td>\n",
       "    </tr>\n",
       "    <tr>\n",
       "      <th>9</th>\n",
       "      <td>11</td>\n",
       "      <td>54</td>\n",
       "      <td>6.436040e-04</td>\n",
       "      <td>1.154140e-04</td>\n",
       "    </tr>\n",
       "    <tr>\n",
       "      <th>10</th>\n",
       "      <td>12</td>\n",
       "      <td>81</td>\n",
       "      <td>1.549770e-04</td>\n",
       "      <td>1.519840e-04</td>\n",
       "    </tr>\n",
       "    <tr>\n",
       "      <th>11</th>\n",
       "      <td>13</td>\n",
       "      <td>108</td>\n",
       "      <td>3.041020e-04</td>\n",
       "      <td>1.647940e-04</td>\n",
       "    </tr>\n",
       "    <tr>\n",
       "      <th>12</th>\n",
       "      <td>14</td>\n",
       "      <td>162</td>\n",
       "      <td>9.338560e-04</td>\n",
       "      <td>1.949840e-04</td>\n",
       "    </tr>\n",
       "    <tr>\n",
       "      <th>13</th>\n",
       "      <td>15</td>\n",
       "      <td>243</td>\n",
       "      <td>1.237605e-03</td>\n",
       "      <td>2.304550e-04</td>\n",
       "    </tr>\n",
       "    <tr>\n",
       "      <th>14</th>\n",
       "      <td>16</td>\n",
       "      <td>324</td>\n",
       "      <td>3.743292e-03</td>\n",
       "      <td>2.661710e-04</td>\n",
       "    </tr>\n",
       "    <tr>\n",
       "      <th>15</th>\n",
       "      <td>17</td>\n",
       "      <td>486</td>\n",
       "      <td>1.159127e-02</td>\n",
       "      <td>3.105840e-04</td>\n",
       "    </tr>\n",
       "    <tr>\n",
       "      <th>16</th>\n",
       "      <td>18</td>\n",
       "      <td>729</td>\n",
       "      <td>2.099823e-02</td>\n",
       "      <td>3.569310e-04</td>\n",
       "    </tr>\n",
       "    <tr>\n",
       "      <th>17</th>\n",
       "      <td>19</td>\n",
       "      <td>972</td>\n",
       "      <td>4.035697e-02</td>\n",
       "      <td>4.245030e-04</td>\n",
       "    </tr>\n",
       "    <tr>\n",
       "      <th>18</th>\n",
       "      <td>20</td>\n",
       "      <td>1458</td>\n",
       "      <td>9.452418e-02</td>\n",
       "      <td>4.626410e-04</td>\n",
       "    </tr>\n",
       "    <tr>\n",
       "      <th>19</th>\n",
       "      <td>21</td>\n",
       "      <td>2187</td>\n",
       "      <td>9.786308e-02</td>\n",
       "      <td>5.273250e-04</td>\n",
       "    </tr>\n",
       "    <tr>\n",
       "      <th>20</th>\n",
       "      <td>22</td>\n",
       "      <td>2916</td>\n",
       "      <td>1.981504e-01</td>\n",
       "      <td>5.839710e-04</td>\n",
       "    </tr>\n",
       "    <tr>\n",
       "      <th>21</th>\n",
       "      <td>23</td>\n",
       "      <td>4374</td>\n",
       "      <td>4.336795e-01</td>\n",
       "      <td>6.970460e-04</td>\n",
       "    </tr>\n",
       "    <tr>\n",
       "      <th>22</th>\n",
       "      <td>24</td>\n",
       "      <td>6561</td>\n",
       "      <td>7.031257e-01</td>\n",
       "      <td>7.314370e-04</td>\n",
       "    </tr>\n",
       "    <tr>\n",
       "      <th>23</th>\n",
       "      <td>25</td>\n",
       "      <td>8748</td>\n",
       "      <td>1.257802e+00</td>\n",
       "      <td>8.275480e-04</td>\n",
       "    </tr>\n",
       "  </tbody>\n",
       "</table>\n",
       "</div>"
      ],
      "text/plain": [
       "    Ribbons  Recursive Solutions  Recursive Runtimes  Dynamic Runtimes\n",
       "0         2                    2        2.044000e-06      2.003000e-06\n",
       "1         3                    3        4.810000e-07      4.889999e-07\n",
       "2         4                    4        3.690001e-07      4.380000e-07\n",
       "3         5                    6        4.306000e-06      9.795500e-05\n",
       "4         6                    9        4.252000e-06      4.160800e-05\n",
       "5         7                   12        6.051000e-06      4.967100e-05\n",
       "6         8                   18        1.053300e-05      6.027200e-05\n",
       "7         9                   27        5.803670e-04      7.654900e-05\n",
       "8        10                   36        4.128600e-05      9.603500e-05\n",
       "9        11                   54        6.436040e-04      1.154140e-04\n",
       "10       12                   81        1.549770e-04      1.519840e-04\n",
       "11       13                  108        3.041020e-04      1.647940e-04\n",
       "12       14                  162        9.338560e-04      1.949840e-04\n",
       "13       15                  243        1.237605e-03      2.304550e-04\n",
       "14       16                  324        3.743292e-03      2.661710e-04\n",
       "15       17                  486        1.159127e-02      3.105840e-04\n",
       "16       18                  729        2.099823e-02      3.569310e-04\n",
       "17       19                  972        4.035697e-02      4.245030e-04\n",
       "18       20                 1458        9.452418e-02      4.626410e-04\n",
       "19       21                 2187        9.786308e-02      5.273250e-04\n",
       "20       22                 2916        1.981504e-01      5.839710e-04\n",
       "21       23                 4374        4.336795e-01      6.970460e-04\n",
       "22       24                 6561        7.031257e-01      7.314370e-04\n",
       "23       25                 8748        1.257802e+00      8.275480e-04"
      ]
     },
     "execution_count": 6,
     "metadata": {},
     "output_type": "execute_result"
    }
   ],
   "source": [
    "Results"
   ]
  },
  {
   "cell_type": "code",
   "execution_count": 7,
   "id": "8576d6dd",
   "metadata": {},
   "outputs": [
    {
     "data": {
      "image/png": "[encoded data removed]",
      "text/plain": [
       "<Figure size 1152x648 with 1 Axes>"
      ]
     },
     "metadata": {
      "needs_background": "light"
     },
     "output_type": "display_data"
    }
   ],
   "source": [
    "import matplotlib.pyplot as plt\n",
    "\n",
    "fig, ax = plt.subplots(figsize=(16,9))\n",
    "ax.plot(Results.Ribbons, Results['Recursive Runtimes'],label='Recursive', marker='o')\n",
    "ax.plot(Results.Ribbons, Results['Dynamic Runtimes'], label='Dynamic', marker='o')\n",
    "ax.set_yscale(\"log\")\n",
    "ax.legend(loc='center left')\n",
    "plt.xlabel('Ribbons')\n",
    "plt.ylabel('Running Times')\n",
    "plt.xticks(Results.Ribbons)\n",
    "plt.show()"
   ]
  },
  {
   "cell_type": "markdown",
   "id": "84b05f2c",
   "metadata": {},
   "source": [
    "As we can see from the dynamic implementation is effectively more efficient for larger istances. It is less efficient for smaller ones, but we are in not appreciable order of magnitude. Instead the recursive implementation exceed the order of seconds for $N>25$, with a lineare trend in a *log-y-scale*, while the dynamic programming implementation is closer to a costant line, as expected from our considerations. "
   ]
  },
  {
   "cell_type": "markdown",
   "id": "83bc416a",
   "metadata": {},
   "source": [
    "### *5. Is there any better algorithm?*"
   ]
  },
  {
   "cell_type": "markdown",
   "id": "43182f50",
   "metadata": {},
   "source": [
    "What we have seen in this problem is that in both the two provided implementation the core of the solution is to decompose the problem to it's basic istances. If we confirm our basic cases, we can provide a linear recursive algorithm, which is based on the key idea that every $n_i>4$ (where $n_i$ is a part of the ribbon obtained from a certain $i_{th}$ cut on the original one) should be cutted in parts of length 2 or 3. This can be seen with some small instance, and confirmed with the correct algorithms we implemented before.  "
   ]
  },
  {
   "cell_type": "code",
   "execution_count": 8,
   "id": "257c92d0",
   "metadata": {},
   "outputs": [],
   "source": [
    "def bestRibbon(n:int) -> int:\n",
    "    if n <= 4:\n",
    "        return n\n",
    "    else:\n",
    "        return 3*bestRibbon(n-3)"
   ]
  },
  {
   "cell_type": "markdown",
   "id": "a25ae579",
   "metadata": {},
   "source": [
    "For basic instances:\n",
    "\n",
    "-$5$ can be decomposed in $(3,2)$, and the product is $6$;\n",
    "\n",
    "-$6$ can be decomposed in $(3,3)$, and the product is $9$;\n",
    "\n",
    "-$7$ can be decomposed in $(3,4)$, and the product is $12$;\n",
    "\n",
    "-$8$ can be decomposed in $(3,3,2)$, and the product is $18$;\n",
    "\n",
    "-$9$ can be decomposed in $(3,3,3)$, and the product is $27$;\n",
    "\n",
    "-$10$ can be decomposed in $(3,3,4)$, and the product is $36$;\n",
    "\n",
    "-...and so on."
   ]
  },
  {
   "cell_type": "code",
   "execution_count": 9,
   "id": "c321477d",
   "metadata": {},
   "outputs": [],
   "source": [
    "best_runtimes = []\n",
    "for num in range(2,26):\n",
    "    start = timeit.default_timer()\n",
    "    bestRibbon(num)\n",
    "    stop = timeit.default_timer()\n",
    "    best_runtimes.append(stop-start)"
   ]
  },
  {
   "cell_type": "markdown",
   "id": "bee850ea",
   "metadata": {},
   "source": [
    "Now we're going to add these results to the dataframe we built previously."
   ]
  },
  {
   "cell_type": "code",
   "execution_count": 10,
   "id": "6740deb5",
   "metadata": {},
   "outputs": [],
   "source": [
    "Results['Best Runtimes'] = best_runtimes\n",
    "Results['Best solutions'] = np.array([bestRibbon(i) for i in ribbons])"
   ]
  },
  {
   "cell_type": "code",
   "execution_count": 11,
   "id": "f8917f5c",
   "metadata": {},
   "outputs": [
    {
     "data": {
      "text/html": [
       "<div>\n",
       "<style scoped>\n",
       "    .dataframe tbody tr th:only-of-type {\n",
       "        vertical-align: middle;\n",
       "    }\n",
       "\n",
       "    .dataframe tbody tr th {\n",
       "        vertical-align: top;\n",
       "    }\n",
       "\n",
       "    .dataframe thead th {\n",
       "        text-align: right;\n",
       "    }\n",
       "</style>\n",
       "<table border=\"1\" class=\"dataframe\">\n",
       "  <thead>\n",
       "    <tr style=\"text-align: right;\">\n",
       "      <th></th>\n",
       "      <th>Ribbons</th>\n",
       "      <th>Recursive Solutions</th>\n",
       "      <th>Recursive Runtimes</th>\n",
       "      <th>Dynamic Runtimes</th>\n",
       "      <th>Best Runtimes</th>\n",
       "      <th>Best solutions</th>\n",
       "    </tr>\n",
       "  </thead>\n",
       "  <tbody>\n",
       "    <tr>\n",
       "      <th>0</th>\n",
       "      <td>2</td>\n",
       "      <td>2</td>\n",
       "      <td>2.044000e-06</td>\n",
       "      <td>2.003000e-06</td>\n",
       "      <td>2.686000e-06</td>\n",
       "      <td>2</td>\n",
       "    </tr>\n",
       "    <tr>\n",
       "      <th>1</th>\n",
       "      <td>3</td>\n",
       "      <td>3</td>\n",
       "      <td>4.810000e-07</td>\n",
       "      <td>4.889999e-07</td>\n",
       "      <td>3.200000e-07</td>\n",
       "      <td>3</td>\n",
       "    </tr>\n",
       "    <tr>\n",
       "      <th>2</th>\n",
       "      <td>4</td>\n",
       "      <td>4</td>\n",
       "      <td>3.690001e-07</td>\n",
       "      <td>4.380000e-07</td>\n",
       "      <td>4.010000e-07</td>\n",
       "      <td>4</td>\n",
       "    </tr>\n",
       "    <tr>\n",
       "      <th>3</th>\n",
       "      <td>5</td>\n",
       "      <td>6</td>\n",
       "      <td>4.306000e-06</td>\n",
       "      <td>9.795500e-05</td>\n",
       "      <td>1.100000e-06</td>\n",
       "      <td>6</td>\n",
       "    </tr>\n",
       "    <tr>\n",
       "      <th>4</th>\n",
       "      <td>6</td>\n",
       "      <td>9</td>\n",
       "      <td>4.252000e-06</td>\n",
       "      <td>4.160800e-05</td>\n",
       "      <td>4.740000e-07</td>\n",
       "      <td>9</td>\n",
       "    </tr>\n",
       "    <tr>\n",
       "      <th>5</th>\n",
       "      <td>7</td>\n",
       "      <td>12</td>\n",
       "      <td>6.051000e-06</td>\n",
       "      <td>4.967100e-05</td>\n",
       "      <td>4.220000e-07</td>\n",
       "      <td>12</td>\n",
       "    </tr>\n",
       "    <tr>\n",
       "      <th>6</th>\n",
       "      <td>8</td>\n",
       "      <td>18</td>\n",
       "      <td>1.053300e-05</td>\n",
       "      <td>6.027200e-05</td>\n",
       "      <td>9.650000e-07</td>\n",
       "      <td>18</td>\n",
       "    </tr>\n",
       "    <tr>\n",
       "      <th>7</th>\n",
       "      <td>9</td>\n",
       "      <td>27</td>\n",
       "      <td>5.803670e-04</td>\n",
       "      <td>7.654900e-05</td>\n",
       "      <td>5.890000e-07</td>\n",
       "      <td>27</td>\n",
       "    </tr>\n",
       "    <tr>\n",
       "      <th>8</th>\n",
       "      <td>10</td>\n",
       "      <td>36</td>\n",
       "      <td>4.128600e-05</td>\n",
       "      <td>9.603500e-05</td>\n",
       "      <td>5.149999e-07</td>\n",
       "      <td>36</td>\n",
       "    </tr>\n",
       "    <tr>\n",
       "      <th>9</th>\n",
       "      <td>11</td>\n",
       "      <td>54</td>\n",
       "      <td>6.436040e-04</td>\n",
       "      <td>1.154140e-04</td>\n",
       "      <td>9.320000e-07</td>\n",
       "      <td>54</td>\n",
       "    </tr>\n",
       "    <tr>\n",
       "      <th>10</th>\n",
       "      <td>12</td>\n",
       "      <td>81</td>\n",
       "      <td>1.549770e-04</td>\n",
       "      <td>1.519840e-04</td>\n",
       "      <td>7.970001e-07</td>\n",
       "      <td>81</td>\n",
       "    </tr>\n",
       "    <tr>\n",
       "      <th>11</th>\n",
       "      <td>13</td>\n",
       "      <td>108</td>\n",
       "      <td>3.041020e-04</td>\n",
       "      <td>1.647940e-04</td>\n",
       "      <td>5.830000e-07</td>\n",
       "      <td>108</td>\n",
       "    </tr>\n",
       "    <tr>\n",
       "      <th>12</th>\n",
       "      <td>14</td>\n",
       "      <td>162</td>\n",
       "      <td>9.338560e-04</td>\n",
       "      <td>1.949840e-04</td>\n",
       "      <td>1.026000e-06</td>\n",
       "      <td>162</td>\n",
       "    </tr>\n",
       "    <tr>\n",
       "      <th>13</th>\n",
       "      <td>15</td>\n",
       "      <td>243</td>\n",
       "      <td>1.237605e-03</td>\n",
       "      <td>2.304550e-04</td>\n",
       "      <td>9.350000e-07</td>\n",
       "      <td>243</td>\n",
       "    </tr>\n",
       "    <tr>\n",
       "      <th>14</th>\n",
       "      <td>16</td>\n",
       "      <td>324</td>\n",
       "      <td>3.743292e-03</td>\n",
       "      <td>2.661710e-04</td>\n",
       "      <td>8.320000e-07</td>\n",
       "      <td>324</td>\n",
       "    </tr>\n",
       "    <tr>\n",
       "      <th>15</th>\n",
       "      <td>17</td>\n",
       "      <td>486</td>\n",
       "      <td>1.159127e-02</td>\n",
       "      <td>3.105840e-04</td>\n",
       "      <td>1.147000e-06</td>\n",
       "      <td>486</td>\n",
       "    </tr>\n",
       "    <tr>\n",
       "      <th>16</th>\n",
       "      <td>18</td>\n",
       "      <td>729</td>\n",
       "      <td>2.099823e-02</td>\n",
       "      <td>3.569310e-04</td>\n",
       "      <td>8.730000e-07</td>\n",
       "      <td>729</td>\n",
       "    </tr>\n",
       "    <tr>\n",
       "      <th>17</th>\n",
       "      <td>19</td>\n",
       "      <td>972</td>\n",
       "      <td>4.035697e-02</td>\n",
       "      <td>4.245030e-04</td>\n",
       "      <td>9.019999e-07</td>\n",
       "      <td>972</td>\n",
       "    </tr>\n",
       "    <tr>\n",
       "      <th>18</th>\n",
       "      <td>20</td>\n",
       "      <td>1458</td>\n",
       "      <td>9.452418e-02</td>\n",
       "      <td>4.626410e-04</td>\n",
       "      <td>1.162000e-06</td>\n",
       "      <td>1458</td>\n",
       "    </tr>\n",
       "    <tr>\n",
       "      <th>19</th>\n",
       "      <td>21</td>\n",
       "      <td>2187</td>\n",
       "      <td>9.786308e-02</td>\n",
       "      <td>5.273250e-04</td>\n",
       "      <td>1.014000e-06</td>\n",
       "      <td>2187</td>\n",
       "    </tr>\n",
       "    <tr>\n",
       "      <th>20</th>\n",
       "      <td>22</td>\n",
       "      <td>2916</td>\n",
       "      <td>1.981504e-01</td>\n",
       "      <td>5.839710e-04</td>\n",
       "      <td>1.101000e-06</td>\n",
       "      <td>2916</td>\n",
       "    </tr>\n",
       "    <tr>\n",
       "      <th>21</th>\n",
       "      <td>23</td>\n",
       "      <td>4374</td>\n",
       "      <td>4.336795e-01</td>\n",
       "      <td>6.970460e-04</td>\n",
       "      <td>6.218200e-05</td>\n",
       "      <td>4374</td>\n",
       "    </tr>\n",
       "    <tr>\n",
       "      <th>22</th>\n",
       "      <td>24</td>\n",
       "      <td>6561</td>\n",
       "      <td>7.031257e-01</td>\n",
       "      <td>7.314370e-04</td>\n",
       "      <td>1.243000e-06</td>\n",
       "      <td>6561</td>\n",
       "    </tr>\n",
       "    <tr>\n",
       "      <th>23</th>\n",
       "      <td>25</td>\n",
       "      <td>8748</td>\n",
       "      <td>1.257802e+00</td>\n",
       "      <td>8.275480e-04</td>\n",
       "      <td>1.038000e-06</td>\n",
       "      <td>8748</td>\n",
       "    </tr>\n",
       "  </tbody>\n",
       "</table>\n",
       "</div>"
      ],
      "text/plain": [
       "    Ribbons  Recursive Solutions  Recursive Runtimes  Dynamic Runtimes  \\\n",
       "0         2                    2        2.044000e-06      2.003000e-06   \n",
       "1         3                    3        4.810000e-07      4.889999e-07   \n",
       "2         4                    4        3.690001e-07      4.380000e-07   \n",
       "3         5                    6        4.306000e-06      9.795500e-05   \n",
       "4         6                    9        4.252000e-06      4.160800e-05   \n",
       "5         7                   12        6.051000e-06      4.967100e-05   \n",
       "6         8                   18        1.053300e-05      6.027200e-05   \n",
       "7         9                   27        5.803670e-04      7.654900e-05   \n",
       "8        10                   36        4.128600e-05      9.603500e-05   \n",
       "9        11                   54        6.436040e-04      1.154140e-04   \n",
       "10       12                   81        1.549770e-04      1.519840e-04   \n",
       "11       13                  108        3.041020e-04      1.647940e-04   \n",
       "12       14                  162        9.338560e-04      1.949840e-04   \n",
       "13       15                  243        1.237605e-03      2.304550e-04   \n",
       "14       16                  324        3.743292e-03      2.661710e-04   \n",
       "15       17                  486        1.159127e-02      3.105840e-04   \n",
       "16       18                  729        2.099823e-02      3.569310e-04   \n",
       "17       19                  972        4.035697e-02      4.245030e-04   \n",
       "18       20                 1458        9.452418e-02      4.626410e-04   \n",
       "19       21                 2187        9.786308e-02      5.273250e-04   \n",
       "20       22                 2916        1.981504e-01      5.839710e-04   \n",
       "21       23                 4374        4.336795e-01      6.970460e-04   \n",
       "22       24                 6561        7.031257e-01      7.314370e-04   \n",
       "23       25                 8748        1.257802e+00      8.275480e-04   \n",
       "\n",
       "    Best Runtimes  Best solutions  \n",
       "0    2.686000e-06               2  \n",
       "1    3.200000e-07               3  \n",
       "2    4.010000e-07               4  \n",
       "3    1.100000e-06               6  \n",
       "4    4.740000e-07               9  \n",
       "5    4.220000e-07              12  \n",
       "6    9.650000e-07              18  \n",
       "7    5.890000e-07              27  \n",
       "8    5.149999e-07              36  \n",
       "9    9.320000e-07              54  \n",
       "10   7.970001e-07              81  \n",
       "11   5.830000e-07             108  \n",
       "12   1.026000e-06             162  \n",
       "13   9.350000e-07             243  \n",
       "14   8.320000e-07             324  \n",
       "15   1.147000e-06             486  \n",
       "16   8.730000e-07             729  \n",
       "17   9.019999e-07             972  \n",
       "18   1.162000e-06            1458  \n",
       "19   1.014000e-06            2187  \n",
       "20   1.101000e-06            2916  \n",
       "21   6.218200e-05            4374  \n",
       "22   1.243000e-06            6561  \n",
       "23   1.038000e-06            8748  "
      ]
     },
     "execution_count": 11,
     "metadata": {},
     "output_type": "execute_result"
    }
   ],
   "source": [
    "Results"
   ]
  },
  {
   "cell_type": "code",
   "execution_count": 12,
   "id": "6600b8da",
   "metadata": {},
   "outputs": [
    {
     "data": {
      "image/png": "[encoded data removed]",
      "text/plain": [
       "<Figure size 1152x648 with 1 Axes>"
      ]
     },
     "metadata": {
      "needs_background": "light"
     },
     "output_type": "display_data"
    }
   ],
   "source": [
    "import matplotlib.pyplot as plt\n",
    "\n",
    "fig, ax = plt.subplots(figsize=(16,9))\n",
    "ax.plot(Results.Ribbons, Results['Recursive Runtimes'],label='Recursive', marker='o')\n",
    "ax.plot(Results.Ribbons, Results['Dynamic Runtimes'], label='Dynamic', marker='o')\n",
    "ax.plot(Results.Ribbons, Results['Best Runtimes'], label='Best', marker='o')\n",
    "ax.set_yscale(\"log\")\n",
    "ax.legend(loc='center left')\n",
    "plt.xlabel('Ribbons')\n",
    "plt.ylabel('Running Times')\n",
    "plt.xticks(Results.Ribbons)\n",
    "plt.show()"
   ]
  }
 ],
 "metadata": {
  "kernelspec": {
   "display_name": "conda_python3",
   "language": "python",
   "name": "conda_python3"
  },
  "language_info": {
   "codemirror_mode": {
    "name": "ipython",
    "version": 3
   },
   "file_extension": ".py",
   "mimetype": "text/x-python",
   "name": "python",
   "nbconvert_exporter": "python",
   "pygments_lexer": "ipython3",
   "version": "3.8.12"
  }
 },
 "nbformat": 4,
 "nbformat_minor": 5
}
